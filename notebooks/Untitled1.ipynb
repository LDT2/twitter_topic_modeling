{
 "cells": [
  {
   "cell_type": "code",
   "execution_count": 4,
   "metadata": {},
   "outputs": [],
   "source": [
    "import pandas as pd\n",
    "import numpy as np\n",
    "import matplotlib.pyplot as plt\n",
    "import random"
   ]
  },
  {
   "cell_type": "code",
   "execution_count": 3,
   "metadata": {},
   "outputs": [
    {
     "name": "stderr",
     "output_type": "stream",
     "text": [
      "/anaconda3/lib/python3.6/site-packages/IPython/core/interactiveshell.py:3020: DtypeWarning: Columns (29) have mixed types. Specify dtype option on import or set low_memory=False.\n",
      "  interactivity=interactivity, compiler=compiler, result=result)\n"
     ]
    }
   ],
   "source": [
    "data = pd.read_csv('../data/venezuela_201901_1_tweets_csv_hashed.csv')"
   ]
  },
  {
   "cell_type": "code",
   "execution_count": null,
   "metadata": {},
   "outputs": [],
   "source": [
    "data[\"tweet_time\"] = pd.to_datetime(data[\"tweet_time\"])"
   ]
  },
  {
   "cell_type": "code",
   "execution_count": null,
   "metadata": {},
   "outputs": [],
   "source": [
    "data.set_index(\"tweet_time\", inplace = True)\n",
    "data['year'] = data.index.year\n",
    "data['month'] = data.index.month"
   ]
  },
  {
   "cell_type": "code",
   "execution_count": 5,
   "metadata": {},
   "outputs": [],
   "source": [
    "# take random sample of data set to work with"
   ]
  },
  {
   "cell_type": "code",
   "execution_count": 17,
   "metadata": {},
   "outputs": [
    {
     "data": {
      "text/plain": [
       "2016    2652381\n",
       "2017    2102709\n",
       "2015    1644079\n",
       "2014     873212\n",
       "2018     649068\n",
       "2013     421030\n",
       "2012     366157\n",
       "2011     241473\n",
       "2010      11679\n",
       "Name: year, dtype: int64"
      ]
     },
     "execution_count": 17,
     "metadata": {},
     "output_type": "execute_result"
    }
   ],
   "source": [
    "data.year.value_counts()"
   ]
  },
  {
   "cell_type": "code",
   "execution_count": 30,
   "metadata": {},
   "outputs": [
    {
     "name": "stdout",
     "output_type": "stream",
     "text": [
      "<class 'pandas.core.frame.DataFrame'>\n",
      "DatetimeIndex: 8961788 entries, 2016-12-09 18:04:00 to 2018-01-26 11:12:00\n",
      "Data columns (total 31 columns):\n",
      "tweetid                     int64\n",
      "userid                      object\n",
      "user_display_name           object\n",
      "user_screen_name            object\n",
      "user_reported_location      object\n",
      "user_profile_description    object\n",
      "user_profile_url            object\n",
      "follower_count              int64\n",
      "following_count             int64\n",
      "account_creation_date       object\n",
      "account_language            object\n",
      "tweet_text                  object\n",
      "tweet_client_name           object\n",
      "in_reply_to_tweetid         float64\n",
      "in_reply_to_userid          float64\n",
      "quoted_tweet_tweetid        float64\n",
      "is_retweet                  bool\n",
      "retweet_userid              float64\n",
      "retweet_tweetid             float64\n",
      "latitude                    object\n",
      "longitude                   object\n",
      "quote_count                 float64\n",
      "reply_count                 float64\n",
      "like_count                  float64\n",
      "retweet_count               float64\n",
      "hashtags                    object\n",
      "urls                        object\n",
      "user_mentions               object\n",
      "poll_choices                object\n",
      "year                        int64\n",
      "month                       int64\n",
      "dtypes: bool(1), float64(9), int64(5), object(16)\n",
      "memory usage: 2.1+ GB\n"
     ]
    }
   ],
   "source": [
    "data.info()"
   ]
  },
  {
   "cell_type": "code",
   "execution_count": 18,
   "metadata": {},
   "outputs": [],
   "source": [
    "df = data[ data[\"year\"]  == 2018].sample(1000, random_state = 45)\n"
   ]
  },
  {
   "cell_type": "markdown",
   "metadata": {},
   "source": [
    "# Frequency Analysis\n",
    "- Count top hashtags\n",
    "- Count top words\n",
    "- Count tagged-users (mentions)\n",
    "- Count URLs"
   ]
  },
  {
   "cell_type": "code",
   "execution_count": 32,
   "metadata": {},
   "outputs": [
    {
     "data": {
      "text/html": [
       "<div>\n",
       "<style scoped>\n",
       "    .dataframe tbody tr th:only-of-type {\n",
       "        vertical-align: middle;\n",
       "    }\n",
       "\n",
       "    .dataframe tbody tr th {\n",
       "        vertical-align: top;\n",
       "    }\n",
       "\n",
       "    .dataframe thead th {\n",
       "        text-align: right;\n",
       "    }\n",
       "</style>\n",
       "<table border=\"1\" class=\"dataframe\">\n",
       "  <thead>\n",
       "    <tr style=\"text-align: right;\">\n",
       "      <th></th>\n",
       "      <th>tweet_text</th>\n",
       "      <th>is_retweet</th>\n",
       "    </tr>\n",
       "    <tr>\n",
       "      <th>tweet_time</th>\n",
       "      <th></th>\n",
       "      <th></th>\n",
       "    </tr>\n",
       "  </thead>\n",
       "  <tbody>\n",
       "    <tr>\n",
       "      <th>2018-04-05 20:41:00</th>\n",
       "      <td>RT @Paola_Glmnn: \"Sapere aude\" https://t.co/Ui...</td>\n",
       "      <td>True</td>\n",
       "    </tr>\n",
       "    <tr>\n",
       "      <th>2018-05-18 01:36:00</th>\n",
       "      <td>RT @Nelson_PDVSA: La clase obrera de la Patria...</td>\n",
       "      <td>True</td>\n",
       "    </tr>\n",
       "    <tr>\n",
       "      <th>2018-05-09 23:16:00</th>\n",
       "      <td>RT @dblancog: @Sergi_Isabel_4F @NicolasMaduro ...</td>\n",
       "      <td>True</td>\n",
       "    </tr>\n",
       "    <tr>\n",
       "      <th>2018-08-02 03:03:00</th>\n",
       "      <td>RT @rgptovar: Aun con los problemas que atrave...</td>\n",
       "      <td>True</td>\n",
       "    </tr>\n",
       "    <tr>\n",
       "      <th>2018-04-15 18:12:00</th>\n",
       "      <td>RT @blanc7details: ᅠᅠᅠᅠ\\n✎ ♡ . . ⇢ #블랑세븐 ₊ #신우...</td>\n",
       "      <td>True</td>\n",
       "    </tr>\n",
       "  </tbody>\n",
       "</table>\n",
       "</div>"
      ],
      "text/plain": [
       "                                                            tweet_text  \\\n",
       "tweet_time                                                               \n",
       "2018-04-05 20:41:00  RT @Paola_Glmnn: \"Sapere aude\" https://t.co/Ui...   \n",
       "2018-05-18 01:36:00  RT @Nelson_PDVSA: La clase obrera de la Patria...   \n",
       "2018-05-09 23:16:00  RT @dblancog: @Sergi_Isabel_4F @NicolasMaduro ...   \n",
       "2018-08-02 03:03:00  RT @rgptovar: Aun con los problemas que atrave...   \n",
       "2018-04-15 18:12:00  RT @blanc7details: ᅠᅠᅠᅠ\\n✎ ♡ . . ⇢ #블랑세븐 ₊ #신우...   \n",
       "\n",
       "                     is_retweet  \n",
       "tweet_time                       \n",
       "2018-04-05 20:41:00        True  \n",
       "2018-05-18 01:36:00        True  \n",
       "2018-05-09 23:16:00        True  \n",
       "2018-08-02 03:03:00        True  \n",
       "2018-04-15 18:12:00        True  "
      ]
     },
     "execution_count": 32,
     "metadata": {},
     "output_type": "execute_result"
    }
   ],
   "source": [
    "df[df[\"is_retweet\"] == True][[\"tweet_text\", \"is_retweet\"]].head()"
   ]
  },
  {
   "cell_type": "code",
   "execution_count": 38,
   "metadata": {},
   "outputs": [
    {
     "data": {
      "text/html": [
       "<div>\n",
       "<style scoped>\n",
       "    .dataframe tbody tr th:only-of-type {\n",
       "        vertical-align: middle;\n",
       "    }\n",
       "\n",
       "    .dataframe tbody tr th {\n",
       "        vertical-align: top;\n",
       "    }\n",
       "\n",
       "    .dataframe thead th {\n",
       "        text-align: right;\n",
       "    }\n",
       "</style>\n",
       "<table border=\"1\" class=\"dataframe\">\n",
       "  <thead>\n",
       "    <tr style=\"text-align: right;\">\n",
       "      <th></th>\n",
       "      <th>tweet_text</th>\n",
       "      <th>user_mentions</th>\n",
       "      <th>hashtags</th>\n",
       "    </tr>\n",
       "    <tr>\n",
       "      <th>tweet_time</th>\n",
       "      <th></th>\n",
       "      <th></th>\n",
       "      <th></th>\n",
       "    </tr>\n",
       "  </thead>\n",
       "  <tbody>\n",
       "    <tr>\n",
       "      <th>2018-08-12 17:30:00</th>\n",
       "      <td>Taquilla USA (10-12 Agosto): Megasupergranpesc...</td>\n",
       "      <td>[]</td>\n",
       "      <td>[]</td>\n",
       "    </tr>\n",
       "    <tr>\n",
       "      <th>2018-05-30 07:00:00</th>\n",
       "      <td>Existe “fundamento” de crímenes de lesa humani...</td>\n",
       "      <td>[]</td>\n",
       "      <td>[]</td>\n",
       "    </tr>\n",
       "    <tr>\n",
       "      <th>2018-04-05 20:41:00</th>\n",
       "      <td>RT @Paola_Glmnn: \"Sapere aude\" https://t.co/Ui...</td>\n",
       "      <td>[Paola_Glmnn]</td>\n",
       "      <td>[]</td>\n",
       "    </tr>\n",
       "    <tr>\n",
       "      <th>2018-02-03 08:00:00</th>\n",
       "      <td>Hallan posibles señales de vida en la luna más...</td>\n",
       "      <td>[]</td>\n",
       "      <td>[Saturno]</td>\n",
       "    </tr>\n",
       "    <tr>\n",
       "      <th>2018-09-16 13:40:00</th>\n",
       "      <td>#AcuerdosEconomicosBilaterales Para el crecimi...</td>\n",
       "      <td>[vwinstonv, ForoCandanga, NicolasMaduro]</td>\n",
       "      <td>[AcuerdosEconomicosBilaterales]</td>\n",
       "    </tr>\n",
       "  </tbody>\n",
       "</table>\n",
       "</div>"
      ],
      "text/plain": [
       "                                                            tweet_text  \\\n",
       "tweet_time                                                               \n",
       "2018-08-12 17:30:00  Taquilla USA (10-12 Agosto): Megasupergranpesc...   \n",
       "2018-05-30 07:00:00  Existe “fundamento” de crímenes de lesa humani...   \n",
       "2018-04-05 20:41:00  RT @Paola_Glmnn: \"Sapere aude\" https://t.co/Ui...   \n",
       "2018-02-03 08:00:00  Hallan posibles señales de vida en la luna más...   \n",
       "2018-09-16 13:40:00  #AcuerdosEconomicosBilaterales Para el crecimi...   \n",
       "\n",
       "                                                user_mentions  \\\n",
       "tweet_time                                                      \n",
       "2018-08-12 17:30:00                                        []   \n",
       "2018-05-30 07:00:00                                        []   \n",
       "2018-04-05 20:41:00                             [Paola_Glmnn]   \n",
       "2018-02-03 08:00:00                                        []   \n",
       "2018-09-16 13:40:00  [vwinstonv, ForoCandanga, NicolasMaduro]   \n",
       "\n",
       "                                            hashtags  \n",
       "tweet_time                                            \n",
       "2018-08-12 17:30:00                               []  \n",
       "2018-05-30 07:00:00                               []  \n",
       "2018-04-05 20:41:00                               []  \n",
       "2018-02-03 08:00:00                        [Saturno]  \n",
       "2018-09-16 13:40:00  [AcuerdosEconomicosBilaterales]  "
      ]
     },
     "execution_count": 38,
     "metadata": {},
     "output_type": "execute_result"
    }
   ],
   "source": [
    "df[[\"tweet_text\", \"user_mentions\", \"hashtags\"]].head()"
   ]
  },
  {
   "cell_type": "code",
   "execution_count": 39,
   "metadata": {},
   "outputs": [
    {
     "data": {
      "text/plain": [
       "[]                                                                                                                                       439\n",
       "[NicolasMaduro]                                                                                                                           76\n",
       "[PartidoPSUV]                                                                                                                              5\n",
       "[VillegasPoljak]                                                                                                                           5\n",
       "[Mayesocialista]                                                                                                                           4\n",
       "[RMarcoTorres]                                                                                                                             4\n",
       "[EjercitoFANB]                                                                                                                             4\n",
       "[ConElMazoDando]                                                                                                                           4\n",
       "[FreddyBernal]                                                                                                                             3\n",
       "[OnePerfectShot]                                                                                                                           3\n",
       "[PresidencialVen]                                                                                                                          3\n",
       "[Mippcivzla]                                                                                                                               3\n",
       "[teleSURtv]                                                                                                                                3\n",
       "[vladimirpadrino]                                                                                                                          3\n",
       "[hEvl6Zq081DMytCEAH9xCXXETK8tRzMUzysRS9Xwzzo=]                                                                                             3\n",
       "[PartidoPSUV, NicolasMaduro]                                                                                                               3\n",
       "[VTVcanal8]                                                                                                                                3\n",
       "[selsxrugge]                                                                                                                               2\n",
       "[rafaellacava10]                                                                                                                           2\n",
       "[anat5, ForoCandanga, NicolasMaduro]                                                                                                       2\n",
       "[sundde_ve]                                                                                                                                2\n",
       "[MRobertSerra, Mayesocialista]                                                                                                             2\n",
       "[MiliciaFANB]                                                                                                                              2\n",
       "[gIEfcz0B8T4ZdBoS9qDoiXFMb3SDsHp8UpdZUD2Hglw=, NicolasMaduro]                                                                              2\n",
       "[cscsa]                                                                                                                                    2\n",
       "[MRobertSerra]                                                                                                                             2\n",
       "[jaarreaza]                                                                                                                                2\n",
       "[m_yosry2012]                                                                                                                              2\n",
       "[PatriciaDorta40]                                                                                                                          2\n",
       "[FreddyBernal, NicolasMaduro]                                                                                                              2\n",
       "                                                                                                                                        ... \n",
       "[Avisponcho, tuiteros_vzla, jeep20_18, Revolutionary4F, perolitoescarla, ForoCandanga, annerys07]                                          1\n",
       "[Wilmolina007]                                                                                                                             1\n",
       "[Josfranpicure, RMarcoTorres]                                                                                                              1\n",
       "[JuventudPSUV]                                                                                                                             1\n",
       "[yahirpsuv]                                                                                                                                1\n",
       "[PrensaFANB]                                                                                                                               1\n",
       "[jesusmedinae, rafaellacava10]                                                                                                             1\n",
       "[LulapeloBrasil]                                                                                                                           1\n",
       "[Florian96771583]                                                                                                                          1\n",
       "[hlcoatesmusic, akpolyme, SweetRo85325509, myall3000, ali33322216]                                                                         1\n",
       "[PrensaFANB, NicolasMaduro]                                                                                                                1\n",
       "[PorAhoraTomas]                                                                                                                            1\n",
       "[MPPEDUCACION]                                                                                                                             1\n",
       "[LealIrreverente, tuiteros_vzla, Veliscv, RoimanJPSUVe, AcrossPSUV, Anaiss20Cast, OstosQ23, mario310561, rasta_celestial, Isa_Camejo]      1\n",
       "[PintonCambur, baena2802]                                                                                                                  1\n",
       "[xuankiet]                                                                                                                                 1\n",
       "[frodog4]                                                                                                                                  1\n",
       "[DPresidencia]                                                                                                                             1\n",
       "[JMariarosa, CarnetDLaPatria]                                                                                                              1\n",
       "[EnderBer77]                                                                                                                               1\n",
       "[nature_lov]                                                                                                                               1\n",
       "[HectoRodriguez, neljulger]                                                                                                                1\n",
       "[logomaquia]                                                                                                                               1\n",
       "[RobertLongaR]                                                                                                                             1\n",
       "[OmarPrietoGob]                                                                                                                            1\n",
       "[SupCriptoVe, ANC_ve, NicolasMaduro]                                                                                                       1\n",
       "[YorbisEP]                                                                                                                                 1\n",
       "[Asic_LaLlovizna]                                                                                                                          1\n",
       "[JMariarosa]                                                                                                                               1\n",
       "[dcabellor, luismartinezg12, PartidoPSUV, NicolasMaduro]                                                                                   1\n",
       "Name: user_mentions, Length: 431, dtype: int64"
      ]
     },
     "execution_count": 39,
     "metadata": {},
     "output_type": "execute_result"
    }
   ],
   "source": [
    "df[\"user_mentions\"].value_counts()"
   ]
  },
  {
   "cell_type": "code",
   "execution_count": null,
   "metadata": {},
   "outputs": [],
   "source": []
  }
 ],
 "metadata": {
  "kernelspec": {
   "display_name": "Python 3",
   "language": "python",
   "name": "python3"
  },
  "language_info": {
   "codemirror_mode": {
    "name": "ipython",
    "version": 3
   },
   "file_extension": ".py",
   "mimetype": "text/x-python",
   "name": "python",
   "nbconvert_exporter": "python",
   "pygments_lexer": "ipython3",
   "version": "3.6.8"
  }
 },
 "nbformat": 4,
 "nbformat_minor": 2
}
