{
 "cells": [
  {
   "cell_type": "code",
   "execution_count": 4,
   "metadata": {},
   "outputs": [],
   "source": [
    "import pandas as pd\n",
    "import numpy as np\n",
    "import matplotlib.pyplot as plt\n",
    "import random"
   ]
  },
  {
   "cell_type": "code",
   "execution_count": 3,
   "metadata": {},
   "outputs": [
    {
     "name": "stderr",
     "output_type": "stream",
     "text": [
      "/anaconda3/lib/python3.6/site-packages/IPython/core/interactiveshell.py:3020: DtypeWarning: Columns (29) have mixed types. Specify dtype option on import or set low_memory=False.\n",
      "  interactivity=interactivity, compiler=compiler, result=result)\n"
     ]
    }
   ],
   "source": [
    "data = pd.read_csv('../data/venezuela_201901_1_tweets_csv_hashed.csv')"
   ]
  },
  {
   "cell_type": "code",
   "execution_count": null,
   "metadata": {},
   "outputs": [],
   "source": [
    "data[\"tweet_time\"] = pd.to_datetime(data[\"tweet_time\"])"
   ]
  },
  {
   "cell_type": "code",
   "execution_count": null,
   "metadata": {},
   "outputs": [],
   "source": [
    "data.set_index(\"tweet_time\", inplace = True)\n",
    "data['year'] = data.index.year\n",
    "data['month'] = data.index.month"
   ]
  },
  {
   "cell_type": "code",
   "execution_count": 5,
   "metadata": {},
   "outputs": [],
   "source": [
    "# take random sample of data set to work with"
   ]
  },
  {
   "cell_type": "code",
   "execution_count": 17,
   "metadata": {},
   "outputs": [
    {
     "data": {
      "text/plain": [
       "2016    2652381\n",
       "2017    2102709\n",
       "2015    1644079\n",
       "2014     873212\n",
       "2018     649068\n",
       "2013     421030\n",
       "2012     366157\n",
       "2011     241473\n",
       "2010      11679\n",
       "Name: year, dtype: int64"
      ]
     },
     "execution_count": 17,
     "metadata": {},
     "output_type": "execute_result"
    }
   ],
   "source": [
    "data.year.value_counts()"
   ]
  },
  {
   "cell_type": "code",
   "execution_count": 30,
   "metadata": {},
   "outputs": [
    {
     "name": "stdout",
     "output_type": "stream",
     "text": [
      "<class 'pandas.core.frame.DataFrame'>\n",
      "DatetimeIndex: 8961788 entries, 2016-12-09 18:04:00 to 2018-01-26 11:12:00\n",
      "Data columns (total 31 columns):\n",
      "tweetid                     int64\n",
      "userid                      object\n",
      "user_display_name           object\n",
      "user_screen_name            object\n",
      "user_reported_location      object\n",
      "user_profile_description    object\n",
      "user_profile_url            object\n",
      "follower_count              int64\n",
      "following_count             int64\n",
      "account_creation_date       object\n",
      "account_language            object\n",
      "tweet_text                  object\n",
      "tweet_client_name           object\n",
      "in_reply_to_tweetid         float64\n",
      "in_reply_to_userid          float64\n",
      "quoted_tweet_tweetid        float64\n",
      "is_retweet                  bool\n",
      "retweet_userid              float64\n",
      "retweet_tweetid             float64\n",
      "latitude                    object\n",
      "longitude                   object\n",
      "quote_count                 float64\n",
      "reply_count                 float64\n",
      "like_count                  float64\n",
      "retweet_count               float64\n",
      "hashtags                    object\n",
      "urls                        object\n",
      "user_mentions               object\n",
      "poll_choices                object\n",
      "year                        int64\n",
      "month                       int64\n",
      "dtypes: bool(1), float64(9), int64(5), object(16)\n",
      "memory usage: 2.1+ GB\n"
     ]
    }
   ],
   "source": [
    "data.info()"
   ]
  },
  {
   "cell_type": "code",
   "execution_count": 18,
   "metadata": {},
   "outputs": [],
   "source": [
    "df = data[ data[\"year\"]  == 2018].sample(1000, random_state = 45)"
   ]
  },
  {
   "cell_type": "markdown",
   "metadata": {},
   "source": [
    "# Frequency Analysis\n",
    "- Count top hashtags\n",
    "- Count tagged-users (mentions)\n",
    "- Count URLs\n",
    "- Count top words"
   ]
  },
  {
   "cell_type": "code",
   "execution_count": 96,
   "metadata": {},
   "outputs": [],
   "source": [
    "import collections"
   ]
  },
  {
   "cell_type": "code",
   "execution_count": 42,
   "metadata": {},
   "outputs": [
    {
     "data": {
      "text/html": [
       "<div>\n",
       "<style scoped>\n",
       "    .dataframe tbody tr th:only-of-type {\n",
       "        vertical-align: middle;\n",
       "    }\n",
       "\n",
       "    .dataframe tbody tr th {\n",
       "        vertical-align: top;\n",
       "    }\n",
       "\n",
       "    .dataframe thead th {\n",
       "        text-align: right;\n",
       "    }\n",
       "</style>\n",
       "<table border=\"1\" class=\"dataframe\">\n",
       "  <thead>\n",
       "    <tr style=\"text-align: right;\">\n",
       "      <th></th>\n",
       "      <th>tweet_text</th>\n",
       "      <th>user_mentions</th>\n",
       "      <th>hashtags</th>\n",
       "    </tr>\n",
       "    <tr>\n",
       "      <th>tweet_time</th>\n",
       "      <th></th>\n",
       "      <th></th>\n",
       "      <th></th>\n",
       "    </tr>\n",
       "  </thead>\n",
       "  <tbody>\n",
       "    <tr>\n",
       "      <th>2018-08-12 17:30:00</th>\n",
       "      <td>Taquilla USA (10-12 Agosto): Megasupergranpesc...</td>\n",
       "      <td>[]</td>\n",
       "      <td>[]</td>\n",
       "    </tr>\n",
       "    <tr>\n",
       "      <th>2018-05-30 07:00:00</th>\n",
       "      <td>Existe “fundamento” de crímenes de lesa humani...</td>\n",
       "      <td>[]</td>\n",
       "      <td>[]</td>\n",
       "    </tr>\n",
       "    <tr>\n",
       "      <th>2018-04-05 20:41:00</th>\n",
       "      <td>RT @Paola_Glmnn: \"Sapere aude\" https://t.co/Ui...</td>\n",
       "      <td>[Paola_Glmnn]</td>\n",
       "      <td>[]</td>\n",
       "    </tr>\n",
       "    <tr>\n",
       "      <th>2018-02-03 08:00:00</th>\n",
       "      <td>Hallan posibles señales de vida en la luna más...</td>\n",
       "      <td>[]</td>\n",
       "      <td>[Saturno]</td>\n",
       "    </tr>\n",
       "    <tr>\n",
       "      <th>2018-09-16 13:40:00</th>\n",
       "      <td>#AcuerdosEconomicosBilaterales Para el crecimi...</td>\n",
       "      <td>[vwinstonv, ForoCandanga, NicolasMaduro]</td>\n",
       "      <td>[AcuerdosEconomicosBilaterales]</td>\n",
       "    </tr>\n",
       "    <tr>\n",
       "      <th>2018-05-18 01:36:00</th>\n",
       "      <td>RT @Nelson_PDVSA: La clase obrera de la Patria...</td>\n",
       "      <td>[Nelson_PDVSA, NicolasMaduro]</td>\n",
       "      <td>[]</td>\n",
       "    </tr>\n",
       "    <tr>\n",
       "      <th>2018-05-09 23:16:00</th>\n",
       "      <td>RT @dblancog: @Sergi_Isabel_4F @NicolasMaduro ...</td>\n",
       "      <td>[dblancog, Sergi_Isabel_4F, JULIOLEONYARA, Jau...</td>\n",
       "      <td>[]</td>\n",
       "    </tr>\n",
       "    <tr>\n",
       "      <th>2018-08-02 03:03:00</th>\n",
       "      <td>RT @rgptovar: Aun con los problemas que atrave...</td>\n",
       "      <td>[rgptovar]</td>\n",
       "      <td>[]</td>\n",
       "    </tr>\n",
       "    <tr>\n",
       "      <th>2018-04-15 18:12:00</th>\n",
       "      <td>RT @blanc7details: ᅠᅠᅠᅠ\\n✎ ♡ . . ⇢ #블랑세븐 ₊ #신우...</td>\n",
       "      <td>[blanc7details]</td>\n",
       "      <td>[블랑세븐, 신우]</td>\n",
       "    </tr>\n",
       "    <tr>\n",
       "      <th>2018-04-21 23:13:00</th>\n",
       "      <td>RT @AnonymissNegra2: #URGENTE El es Emmanuel P...</td>\n",
       "      <td>[AnonymissNegra2]</td>\n",
       "      <td>[URGENTE, Guanare]</td>\n",
       "    </tr>\n",
       "  </tbody>\n",
       "</table>\n",
       "</div>"
      ],
      "text/plain": [
       "                                                            tweet_text  \\\n",
       "tweet_time                                                               \n",
       "2018-08-12 17:30:00  Taquilla USA (10-12 Agosto): Megasupergranpesc...   \n",
       "2018-05-30 07:00:00  Existe “fundamento” de crímenes de lesa humani...   \n",
       "2018-04-05 20:41:00  RT @Paola_Glmnn: \"Sapere aude\" https://t.co/Ui...   \n",
       "2018-02-03 08:00:00  Hallan posibles señales de vida en la luna más...   \n",
       "2018-09-16 13:40:00  #AcuerdosEconomicosBilaterales Para el crecimi...   \n",
       "2018-05-18 01:36:00  RT @Nelson_PDVSA: La clase obrera de la Patria...   \n",
       "2018-05-09 23:16:00  RT @dblancog: @Sergi_Isabel_4F @NicolasMaduro ...   \n",
       "2018-08-02 03:03:00  RT @rgptovar: Aun con los problemas que atrave...   \n",
       "2018-04-15 18:12:00  RT @blanc7details: ᅠᅠᅠᅠ\\n✎ ♡ . . ⇢ #블랑세븐 ₊ #신우...   \n",
       "2018-04-21 23:13:00  RT @AnonymissNegra2: #URGENTE El es Emmanuel P...   \n",
       "\n",
       "                                                         user_mentions  \\\n",
       "tweet_time                                                               \n",
       "2018-08-12 17:30:00                                                 []   \n",
       "2018-05-30 07:00:00                                                 []   \n",
       "2018-04-05 20:41:00                                      [Paola_Glmnn]   \n",
       "2018-02-03 08:00:00                                                 []   \n",
       "2018-09-16 13:40:00           [vwinstonv, ForoCandanga, NicolasMaduro]   \n",
       "2018-05-18 01:36:00                      [Nelson_PDVSA, NicolasMaduro]   \n",
       "2018-05-09 23:16:00  [dblancog, Sergi_Isabel_4F, JULIOLEONYARA, Jau...   \n",
       "2018-08-02 03:03:00                                         [rgptovar]   \n",
       "2018-04-15 18:12:00                                    [blanc7details]   \n",
       "2018-04-21 23:13:00                                  [AnonymissNegra2]   \n",
       "\n",
       "                                            hashtags  \n",
       "tweet_time                                            \n",
       "2018-08-12 17:30:00                               []  \n",
       "2018-05-30 07:00:00                               []  \n",
       "2018-04-05 20:41:00                               []  \n",
       "2018-02-03 08:00:00                        [Saturno]  \n",
       "2018-09-16 13:40:00  [AcuerdosEconomicosBilaterales]  \n",
       "2018-05-18 01:36:00                               []  \n",
       "2018-05-09 23:16:00                               []  \n",
       "2018-08-02 03:03:00                               []  \n",
       "2018-04-15 18:12:00                       [블랑세븐, 신우]  \n",
       "2018-04-21 23:13:00               [URGENTE, Guanare]  "
      ]
     },
     "execution_count": 42,
     "metadata": {},
     "output_type": "execute_result"
    }
   ],
   "source": [
    "df[[\"tweet_text\", \"user_mentions\", \"hashtags\"]].head(10)"
   ]
  },
  {
   "cell_type": "markdown",
   "metadata": {},
   "source": [
    "## Top Hashtags"
   ]
  },
  {
   "cell_type": "code",
   "execution_count": 43,
   "metadata": {},
   "outputs": [
    {
     "data": {
      "text/plain": [
       "[]                             635\n",
       "[EnVivo]                        12\n",
       "[VIDEO]                          8\n",
       "[VenezuelaMultipolar]            4\n",
       "[Irán]                           3\n",
       "[NOTICIAS]                       3\n",
       "[UnNuevoComienzo]                3\n",
       "[VenezuelaDefiendeLaPaz]         3\n",
       "[Venezuela]                      3\n",
       "[Ahora]                          3\n",
       "[FANB]                           2\n",
       "[GraciasMaestroAbreu]            2\n",
       "[AhorrarValeOro]                 2\n",
       "[EncuentroPopular]               2\n",
       "[5AñosDeBatallasYVictorias]      2\n",
       "Name: hashtags, dtype: int64"
      ]
     },
     "execution_count": 43,
     "metadata": {},
     "output_type": "execute_result"
    }
   ],
   "source": [
    "df[\"hashtags\"].value_counts()[:15]"
   ]
  },
  {
   "cell_type": "code",
   "execution_count": 49,
   "metadata": {},
   "outputs": [
    {
     "data": {
      "text/plain": [
       "tweet_time\n",
       "2018-08-12 17:30:00                                 []\n",
       "2018-05-30 07:00:00                                 []\n",
       "2018-04-05 20:41:00                                 []\n",
       "2018-02-03 08:00:00                          [Saturno]\n",
       "2018-09-16 13:40:00    [AcuerdosEconomicosBilaterales]\n",
       "Name: hashtags, dtype: object"
      ]
     },
     "execution_count": 49,
     "metadata": {},
     "output_type": "execute_result"
    }
   ],
   "source": [
    "df[\"hashtags\"].head()"
   ]
  },
  {
   "cell_type": "code",
   "execution_count": 108,
   "metadata": {},
   "outputs": [
    {
     "data": {
      "text/plain": [
       "[('[]', 635),\n",
       " ('envivo', 14),\n",
       " ('video', 11),\n",
       " ('venezuela', 8),\n",
       " ('eeuu', 7),\n",
       " ('irán', 6),\n",
       " ('noticias', 6),\n",
       " ('encuentropopular', 5),\n",
       " ('fanb', 5),\n",
       " ('rusia', 5)]"
      ]
     },
     "execution_count": 108,
     "metadata": {},
     "output_type": "execute_result"
    }
   ],
   "source": [
    "hashtags = collections.Counter()\n",
    "for tweet in df[\"hashtags\"]:\n",
    "    if tweet == '[]':\n",
    "        hashtags[tweet] += 1\n",
    "    else:\n",
    "        tweet = str.split(tweet[1:-1].lower(),\", \")\n",
    "        for item in tweet:\n",
    "            hashtags[item] += 1\n",
    "hashtags.most_common()[:10]"
   ]
  },
  {
   "cell_type": "markdown",
   "metadata": {},
   "source": [
    "## User Mentions"
   ]
  },
  {
   "cell_type": "code",
   "execution_count": 109,
   "metadata": {},
   "outputs": [
    {
     "data": {
      "text/plain": [
       "[]                  439\n",
       "[NicolasMaduro]      76\n",
       "[PartidoPSUV]         5\n",
       "[VillegasPoljak]      5\n",
       "[Mayesocialista]      4\n",
       "[RMarcoTorres]        4\n",
       "[EjercitoFANB]        4\n",
       "[ConElMazoDando]      4\n",
       "[FreddyBernal]        3\n",
       "[OnePerfectShot]      3\n",
       "Name: user_mentions, dtype: int64"
      ]
     },
     "execution_count": 109,
     "metadata": {},
     "output_type": "execute_result"
    }
   ],
   "source": [
    "df[\"user_mentions\"].value_counts()[:10]"
   ]
  },
  {
   "cell_type": "code",
   "execution_count": 115,
   "metadata": {},
   "outputs": [
    {
     "data": {
      "text/plain": [
       "[('[]', 439),\n",
       " ('NicolasMaduro', 165),\n",
       " ('PartidoPSUV', 17),\n",
       " ('dcabellor', 12),\n",
       " ('RMarcoTorres', 11),\n",
       " ('VTVcanal8', 10),\n",
       " ('tuiteros_vzla', 9),\n",
       " ('ForoCandanga', 8),\n",
       " ('JauaMiranda', 8),\n",
       " ('MRobertSerra', 8),\n",
       " ('FreddyBernal', 8),\n",
       " ('EjercitoFANB', 8),\n",
       " ('ConElMazoDando', 7),\n",
       " ('Mippcivzla', 7),\n",
       " ('VillegasPoljak', 6),\n",
       " ('Mayesocialista', 6),\n",
       " ('CarreroCarolina', 6),\n",
       " ('dblancog', 5),\n",
       " ('Sergi_Isabel_4F', 5),\n",
       " ('PrensaFANB', 5)]"
      ]
     },
     "execution_count": 115,
     "metadata": {},
     "output_type": "execute_result"
    }
   ],
   "source": [
    "mentions = collections.Counter()\n",
    "for tweet in df[\"user_mentions\"]:\n",
    "    if tweet == '[]':\n",
    "        mentions[tweet] += 1\n",
    "    else:\n",
    "        tweet = str.split(tweet[1:-1],\", \")\n",
    "        for item in tweet:\n",
    "            mentions[item] += 1\n",
    "mentions.most_common()[:20]"
   ]
  },
  {
   "cell_type": "markdown",
   "metadata": {},
   "source": [
    "## Top URLs"
   ]
  },
  {
   "cell_type": "code",
   "execution_count": 118,
   "metadata": {},
   "outputs": [
    {
     "data": {
      "text/plain": [
       "tweet_time\n",
       "2018-08-12 17:30:00            [http://dlvr.it/QffdSt]\n",
       "2018-05-30 07:00:00    [http://youtu.be/ELz8Nt8OVgQ?a]\n",
       "2018-04-05 20:41:00                                 []\n",
       "2018-02-03 08:00:00               [http://htv.mx/1gaD]\n",
       "2018-09-16 13:40:00                                 []\n",
       "2018-05-18 01:36:00                                 []\n",
       "2018-05-09 23:16:00                                 []\n",
       "2018-08-02 03:03:00                                 []\n",
       "2018-04-15 18:12:00                                 []\n",
       "2018-04-21 23:13:00                                 []\n",
       "Name: urls, dtype: object"
      ]
     },
     "execution_count": 118,
     "metadata": {},
     "output_type": "execute_result"
    }
   ],
   "source": [
    "df[\"urls\"].head(10)"
   ]
  },
  {
   "cell_type": "code",
   "execution_count": 128,
   "metadata": {},
   "outputs": [
    {
     "data": {
      "text/plain": [
       "[('[]', 599),\n",
       " ('dlvr.it', 178),\n",
       " ('', 120),\n",
       " ('htv.mx', 35),\n",
       " ('bit.ly', 24),\n",
       " ('youtu.be', 17),\n",
       " ('ift.tt', 8),\n",
       " ('www.avn.info.ve', 8),\n",
       " ('ow.ly', 4),\n",
       " ('pscp.tv', 1),\n",
       " ('www.resumenlatinoamericano.org', 1),\n",
       " ('rsg.ms', 1),\n",
       " ('on.fb.me', 1),\n",
       " ('www.rockstone-research.com', 1),\n",
       " ('revolucionomuerte.info', 1),\n",
       " ('corpoelec.gob.ve', 1)]"
      ]
     },
     "execution_count": 128,
     "metadata": {},
     "output_type": "execute_result"
    }
   ],
   "source": [
    "urls = collections.Counter()\n",
    "for tweet in df[\"urls\"]:\n",
    "    if tweet == '[]':\n",
    "        urls[tweet] += 1\n",
    "    else:\n",
    "        tweet = str.split(tweet[1:-1][7:],\"/\")[0]\n",
    "        #for item in tweet:\n",
    "        urls[tweet] += 1\n",
    "urls.most_common()[:20]"
   ]
  },
  {
   "cell_type": "code",
   "execution_count": 145,
   "metadata": {},
   "outputs": [
    {
     "data": {
      "text/plain": [
       "tweet_time\n",
       "2018-08-12 17:30:00                              [http://dlvr.it/QffdSt]\n",
       "2018-05-30 07:00:00                      [http://youtu.be/ELz8Nt8OVgQ?a]\n",
       "2018-04-05 20:41:00                                                   []\n",
       "2018-02-03 08:00:00                                 [http://htv.mx/1gaD]\n",
       "2018-09-16 13:40:00                                                   []\n",
       "2018-05-18 01:36:00                                                   []\n",
       "2018-05-09 23:16:00                                                   []\n",
       "2018-08-02 03:03:00                                                   []\n",
       "2018-04-15 18:12:00                                                   []\n",
       "2018-04-21 23:13:00                                                   []\n",
       "2018-08-17 23:48:00                                                   []\n",
       "2018-05-07 01:35:00                                                   []\n",
       "2018-04-22 07:26:00                              [http://dlvr.it/QQMN1C]\n",
       "2018-11-25 21:02:00                                                   []\n",
       "2018-01-30 19:36:00    [https://twitter.com/lubrio/status/95840524630...\n",
       "2018-06-23 12:38:00                                                   []\n",
       "2018-09-03 14:57:00                             [https://bit.ly/2wzxHiU]\n",
       "2018-01-20 02:08:00                              [http://dlvr.it/QBz0nZ]\n",
       "2018-07-05 02:20:00                                                   []\n",
       "2018-01-11 00:38:00                              [http://dlvr.it/Q9k0mV]\n",
       "2018-10-16 21:09:00                              [http://dlvr.it/QnYFXl]\n",
       "2018-11-28 02:50:00                                                   []\n",
       "2018-07-11 14:03:00                                                   []\n",
       "2018-09-05 14:16:00                                                   []\n",
       "2018-10-13 20:57:00                              [http://dlvr.it/QnFVsY]\n",
       "2018-08-11 21:47:00                                                   []\n",
       "2018-01-26 12:50:00                              [http://ift.tt/2DFRL98]\n",
       "2018-11-27 11:39:00                                                   []\n",
       "2018-03-18 16:06:00                              [http://bit.ly/2boDlYW]\n",
       "2018-04-22 14:44:00                                 [http://htv.mx/1jLT]\n",
       "                                             ...                        \n",
       "2018-08-07 05:00:00                                                   []\n",
       "2018-11-23 20:59:00                              [http://dlvr.it/Qrydgl]\n",
       "2018-11-30 11:01:00                                 [http://htv.mx/1tnn]\n",
       "2018-02-05 01:42:00                                                   []\n",
       "2018-07-04 19:25:00                              [http://dlvr.it/QZTR7b]\n",
       "2018-08-16 13:11:00                                                   []\n",
       "2018-02-05 13:16:00                              [http://dlvr.it/QF5bzv]\n",
       "2018-08-31 14:08:00                                                   []\n",
       "2018-03-18 14:35:00                                                   []\n",
       "2018-02-04 00:53:00                                                   []\n",
       "2018-01-11 02:35:00                                                   []\n",
       "2018-08-31 12:20:00                              [http://dlvr.it/QhgWVx]\n",
       "2018-11-17 12:41:00                                                   []\n",
       "2018-04-17 07:02:00                                                   []\n",
       "2018-01-19 17:20:00                                                   []\n",
       "2018-10-04 14:12:00                             [https://bit.ly/2QsTKiP]\n",
       "2018-02-23 19:10:00                                                   []\n",
       "2018-04-26 02:46:00                              [http://dlvr.it/QQprRw]\n",
       "2018-10-26 14:57:00                                                   []\n",
       "2018-07-18 18:56:00                                                   []\n",
       "2018-03-25 16:09:00                              [http://dlvr.it/QMKf0g]\n",
       "2018-09-13 15:47:00                                                   []\n",
       "2018-05-04 21:40:00                                                   []\n",
       "2018-11-27 18:38:00                                                   []\n",
       "2018-04-04 03:58:00                                                   []\n",
       "2018-06-24 16:44:00                                                   []\n",
       "2018-09-05 13:40:00                                                   []\n",
       "2018-02-08 09:43:00                              [http://dlvr.it/QFW1NX]\n",
       "2018-05-25 15:18:00                                                   []\n",
       "2018-06-22 09:41:00                             [https://bit.ly/2lrDukU]\n",
       "Name: urls, Length: 1000, dtype: object"
      ]
     },
     "execution_count": 145,
     "metadata": {},
     "output_type": "execute_result"
    }
   ],
   "source": [
    "df['urls']"
   ]
  },
  {
   "cell_type": "code",
   "execution_count": null,
   "metadata": {},
   "outputs": [],
   "source": []
  }
 ],
 "metadata": {
  "kernelspec": {
   "display_name": "Python 3",
   "language": "python",
   "name": "python3"
  },
  "language_info": {
   "codemirror_mode": {
    "name": "ipython",
    "version": 3
   },
   "file_extension": ".py",
   "mimetype": "text/x-python",
   "name": "python",
   "nbconvert_exporter": "python",
   "pygments_lexer": "ipython3",
   "version": "3.6.8"
  }
 },
 "nbformat": 4,
 "nbformat_minor": 2
}
