{
 "cells": [
  {
   "cell_type": "code",
   "execution_count": 2,
   "metadata": {},
   "outputs": [],
   "source": [
    "import pandas as pd\n",
    "import numpy as np\n",
    "import matplotlib.pyplot as plt\n",
    "import random\n",
    "import math\n",
    "from import_data import read_data"
   ]
  },
  {
   "cell_type": "code",
   "execution_count": 3,
   "metadata": {},
   "outputs": [
    {
     "name": "stderr",
     "output_type": "stream",
     "text": [
      "/anaconda3/lib/python3.6/site-packages/IPython/core/interactiveshell.py:3185: DtypeWarning: Columns (29) have mixed types. Specify dtype option on import or set low_memory=False.\n",
      "  if (yield from self.run_code(code, result)):\n",
      "/Users/lthomas/Dropbox/galvanize/Capstone/notebooks/import_data.py:29: SettingWithCopyWarning: \n",
      "A value is trying to be set on a copy of a slice from a DataFrame.\n",
      "Try using .loc[row_indexer,col_indexer] = value instead\n",
      "\n",
      "See the caveats in the documentation: http://pandas.pydata.org/pandas-docs/stable/indexing.html#indexing-view-versus-copy\n",
      "  data1_cleaned[\"tweet_time\"] = pd.to_datetime(data1_cleaned[\"tweet_time\"])\n",
      "/Users/lthomas/Dropbox/galvanize/Capstone/notebooks/import_data.py:31: SettingWithCopyWarning: \n",
      "A value is trying to be set on a copy of a slice from a DataFrame.\n",
      "Try using .loc[row_indexer,col_indexer] = value instead\n",
      "\n",
      "See the caveats in the documentation: http://pandas.pydata.org/pandas-docs/stable/indexing.html#indexing-view-versus-copy\n",
      "  data1_cleaned['year'] = data1_cleaned.index.year\n",
      "/Users/lthomas/Dropbox/galvanize/Capstone/notebooks/import_data.py:32: SettingWithCopyWarning: \n",
      "A value is trying to be set on a copy of a slice from a DataFrame.\n",
      "Try using .loc[row_indexer,col_indexer] = value instead\n",
      "\n",
      "See the caveats in the documentation: http://pandas.pydata.org/pandas-docs/stable/indexing.html#indexing-view-versus-copy\n",
      "  data1_cleaned['month'] = data1_cleaned.index.month\n",
      "/Users/lthomas/Dropbox/galvanize/Capstone/notebooks/import_data.py:34: SettingWithCopyWarning: \n",
      "A value is trying to be set on a copy of a slice from a DataFrame.\n",
      "Try using .loc[row_indexer,col_indexer] = value instead\n",
      "\n",
      "See the caveats in the documentation: http://pandas.pydata.org/pandas-docs/stable/indexing.html#indexing-view-versus-copy\n",
      "  data2_cleaned[\"tweet_time\"] = pd.to_datetime(data2_cleaned[\"tweet_time\"])\n",
      "/Users/lthomas/Dropbox/galvanize/Capstone/notebooks/import_data.py:36: SettingWithCopyWarning: \n",
      "A value is trying to be set on a copy of a slice from a DataFrame.\n",
      "Try using .loc[row_indexer,col_indexer] = value instead\n",
      "\n",
      "See the caveats in the documentation: http://pandas.pydata.org/pandas-docs/stable/indexing.html#indexing-view-versus-copy\n",
      "  data2_cleaned['year'] = data2_cleaned.index.year\n",
      "/Users/lthomas/Dropbox/galvanize/Capstone/notebooks/import_data.py:37: SettingWithCopyWarning: \n",
      "A value is trying to be set on a copy of a slice from a DataFrame.\n",
      "Try using .loc[row_indexer,col_indexer] = value instead\n",
      "\n",
      "See the caveats in the documentation: http://pandas.pydata.org/pandas-docs/stable/indexing.html#indexing-view-versus-copy\n",
      "  data2_cleaned['month'] = data2_cleaned.index.month\n"
     ]
    }
   ],
   "source": [
    "data = read_data('../data', 2014, 2018, 5)"
   ]
  },
  {
   "cell_type": "code",
   "execution_count": 292,
   "metadata": {},
   "outputs": [],
   "source": [
    "df = data[ data['year'] == 2015 ]"
   ]
  },
  {
   "cell_type": "code",
   "execution_count": 293,
   "metadata": {},
   "outputs": [
    {
     "data": {
      "text/plain": [
       "(1644077, 22)"
      ]
     },
     "execution_count": 293,
     "metadata": {},
     "output_type": "execute_result"
    }
   ],
   "source": [
    "df.shape"
   ]
  },
  {
   "cell_type": "code",
   "execution_count": 32,
   "metadata": {},
   "outputs": [
    {
     "data": {
      "text/html": [
       "<div>\n",
       "<style scoped>\n",
       "    .dataframe tbody tr th:only-of-type {\n",
       "        vertical-align: middle;\n",
       "    }\n",
       "\n",
       "    .dataframe tbody tr th {\n",
       "        vertical-align: top;\n",
       "    }\n",
       "\n",
       "    .dataframe thead th {\n",
       "        text-align: right;\n",
       "    }\n",
       "</style>\n",
       "<table border=\"1\" class=\"dataframe\">\n",
       "  <thead>\n",
       "    <tr style=\"text-align: right;\">\n",
       "      <th></th>\n",
       "      <th>tweet_text</th>\n",
       "      <th>urls</th>\n",
       "    </tr>\n",
       "  </thead>\n",
       "  <tbody>\n",
       "    <tr>\n",
       "      <th>202461</th>\n",
       "      <td>Arranca el juicio por la corrupción del exgobe...</td>\n",
       "      <td>[http://actualidad.rt.com.ln.is/XvF1n]</td>\n",
       "    </tr>\n",
       "    <tr>\n",
       "      <th>8449047</th>\n",
       "      <td>Mattis: ‘We are not winning in Afghanistan rig...</td>\n",
       "      <td>[http://corneey.com/qKRhr5]</td>\n",
       "    </tr>\n",
       "    <tr>\n",
       "      <th>7136416</th>\n",
       "      <td>Motorizados solicitan destitución de directora...</td>\n",
       "      <td>[http://dlvr.it/DKJK63]</td>\n",
       "    </tr>\n",
       "    <tr>\n",
       "      <th>7496540</th>\n",
       "      <td>Así fue la llorona que montó María Corina en m...</td>\n",
       "      <td>[http://dlvr.it/C7BmDJ]</td>\n",
       "    </tr>\n",
       "    <tr>\n",
       "      <th>7588663</th>\n",
       "      <td>Fondos estadounidenses financian terrorismo de...</td>\n",
       "      <td>[http://dlvr.it/8z69mX]</td>\n",
       "    </tr>\n",
       "  </tbody>\n",
       "</table>\n",
       "</div>"
      ],
      "text/plain": [
       "                                                tweet_text  \\\n",
       "202461   Arranca el juicio por la corrupción del exgobe...   \n",
       "8449047  Mattis: ‘We are not winning in Afghanistan rig...   \n",
       "7136416  Motorizados solicitan destitución de directora...   \n",
       "7496540  Así fue la llorona que montó María Corina en m...   \n",
       "7588663  Fondos estadounidenses financian terrorismo de...   \n",
       "\n",
       "                                           urls  \n",
       "202461   [http://actualidad.rt.com.ln.is/XvF1n]  \n",
       "8449047             [http://corneey.com/qKRhr5]  \n",
       "7136416                 [http://dlvr.it/DKJK63]  \n",
       "7496540                 [http://dlvr.it/C7BmDJ]  \n",
       "7588663                 [http://dlvr.it/8z69mX]  "
      ]
     },
     "execution_count": 32,
     "metadata": {},
     "output_type": "execute_result"
    }
   ],
   "source": [
    "df[[\"tweet_text\", \"urls\"]].head()"
   ]
  },
  {
   "cell_type": "markdown",
   "metadata": {},
   "source": [
    "### Grab URLs from Tweets"
   ]
  },
  {
   "cell_type": "code",
   "execution_count": 93,
   "metadata": {},
   "outputs": [],
   "source": [
    "def grab_urls(tweet):\n",
    "    return [ word for word in tweet.split() \\\n",
    "                    if word.startswith(\"http\")]"
   ]
  },
  {
   "cell_type": "code",
   "execution_count": 98,
   "metadata": {},
   "outputs": [],
   "source": [
    "df['real_urls'] = df['tweet_text'].apply(grab_urls)"
   ]
  },
  {
   "cell_type": "code",
   "execution_count": 116,
   "metadata": {},
   "outputs": [
    {
     "data": {
      "text/plain": [
       "['https://t.co/aw7j11geLE']"
      ]
     },
     "execution_count": 116,
     "metadata": {},
     "output_type": "execute_result"
    }
   ],
   "source": [
    "df['real_urls'].iloc[15]"
   ]
  },
  {
   "cell_type": "code",
   "execution_count": 110,
   "metadata": {},
   "outputs": [
    {
     "data": {
      "text/plain": [
       "['¡SÉPALO!',\n",
       " 'Medios',\n",
       " 'de',\n",
       " 'comunicación',\n",
       " 'de',\n",
       " 'derecha',\n",
       " 'manipulan',\n",
       " 'el',\n",
       " 'término',\n",
       " '“terrorismo”',\n",
       " 'a',\n",
       " 'conveniencia/',\n",
       " '(+VIDEO)']"
      ]
     },
     "execution_count": 110,
     "metadata": {},
     "output_type": "execute_result"
    }
   ],
   "source": [
    "[ word for word in a_tw.split() if not(word.startswith(\"http\")) and not(word.startswith('#'))]"
   ]
  },
  {
   "cell_type": "markdown",
   "metadata": {},
   "source": [
    "### Create Bag of Words from Tweets"
   ]
  },
  {
   "cell_type": "code",
   "execution_count": 294,
   "metadata": {},
   "outputs": [],
   "source": [
    "def get_bag_of_words(tweet):\n",
    "    return [ word for word in tweet.split() if not(word.startswith(\"http\")) and not(word.startswith('#'))]"
   ]
  },
  {
   "cell_type": "code",
   "execution_count": 295,
   "metadata": {},
   "outputs": [
    {
     "name": "stderr",
     "output_type": "stream",
     "text": [
      "/anaconda3/lib/python3.6/site-packages/ipykernel_launcher.py:1: SettingWithCopyWarning: \n",
      "A value is trying to be set on a copy of a slice from a DataFrame.\n",
      "Try using .loc[row_indexer,col_indexer] = value instead\n",
      "\n",
      "See the caveats in the documentation: http://pandas.pydata.org/pandas-docs/stable/indexing.html#indexing-view-versus-copy\n",
      "  \"\"\"Entry point for launching an IPython kernel.\n"
     ]
    }
   ],
   "source": [
    "df['bag_of_words'] = df['tweet_text'].apply(get_bag_of_words)"
   ]
  },
  {
   "cell_type": "code",
   "execution_count": 296,
   "metadata": {},
   "outputs": [
    {
     "data": {
      "text/html": [
       "<div>\n",
       "<style scoped>\n",
       "    .dataframe tbody tr th:only-of-type {\n",
       "        vertical-align: middle;\n",
       "    }\n",
       "\n",
       "    .dataframe tbody tr th {\n",
       "        vertical-align: top;\n",
       "    }\n",
       "\n",
       "    .dataframe thead th {\n",
       "        text-align: right;\n",
       "    }\n",
       "</style>\n",
       "<table border=\"1\" class=\"dataframe\">\n",
       "  <thead>\n",
       "    <tr style=\"text-align: right;\">\n",
       "      <th></th>\n",
       "      <th>tweet_text</th>\n",
       "      <th>hashtags</th>\n",
       "      <th>user_mentions</th>\n",
       "      <th>bag_of_words</th>\n",
       "    </tr>\n",
       "  </thead>\n",
       "  <tbody>\n",
       "    <tr>\n",
       "      <th>10002</th>\n",
       "      <td>RT @IFabySalas_: ¿Cómo sería un enfrentamiento...</td>\n",
       "      <td>[]</td>\n",
       "      <td>[IFabySalas_, ForoCandanga]</td>\n",
       "      <td>[RT, @IFabySalas_:, ¿Cómo, sería, un, enfrenta...</td>\n",
       "    </tr>\n",
       "    <tr>\n",
       "      <th>10010</th>\n",
       "      <td>Casi 3 mil mirandinos viven en casas\\ninconclu...</td>\n",
       "      <td>[]</td>\n",
       "      <td>[]</td>\n",
       "      <td>[Casi, 3, mil, mirandinos, viven, en, casas, i...</td>\n",
       "    </tr>\n",
       "    <tr>\n",
       "      <th>12382</th>\n",
       "      <td>Emir de Catar llega a Venezuela para encuentro...</td>\n",
       "      <td>[News, Noticias]</td>\n",
       "      <td>[]</td>\n",
       "      <td>[Emir, de, Catar, llega, a, Venezuela, para, e...</td>\n",
       "    </tr>\n",
       "    <tr>\n",
       "      <th>12397</th>\n",
       "      <td>Senador chileno: \"Chávez sigue vivo en toda Su...</td>\n",
       "      <td>[Noticias, Telesur]</td>\n",
       "      <td>[]</td>\n",
       "      <td>[Senador, chileno:, \"Chávez, sigue, vivo, en, ...</td>\n",
       "    </tr>\n",
       "    <tr>\n",
       "      <th>12400</th>\n",
       "      <td>Un magnate chino es hospitalizado tras colabor...</td>\n",
       "      <td>[Noticias, News]</td>\n",
       "      <td>[]</td>\n",
       "      <td>[Un, magnate, chino, es, hospitalizado, tras, ...</td>\n",
       "    </tr>\n",
       "  </tbody>\n",
       "</table>\n",
       "</div>"
      ],
      "text/plain": [
       "                                              tweet_text             hashtags  \\\n",
       "10002  RT @IFabySalas_: ¿Cómo sería un enfrentamiento...                   []   \n",
       "10010  Casi 3 mil mirandinos viven en casas\\ninconclu...                   []   \n",
       "12382  Emir de Catar llega a Venezuela para encuentro...     [News, Noticias]   \n",
       "12397  Senador chileno: \"Chávez sigue vivo en toda Su...  [Noticias, Telesur]   \n",
       "12400  Un magnate chino es hospitalizado tras colabor...     [Noticias, News]   \n",
       "\n",
       "                     user_mentions  \\\n",
       "10002  [IFabySalas_, ForoCandanga]   \n",
       "10010                           []   \n",
       "12382                           []   \n",
       "12397                           []   \n",
       "12400                           []   \n",
       "\n",
       "                                            bag_of_words  \n",
       "10002  [RT, @IFabySalas_:, ¿Cómo, sería, un, enfrenta...  \n",
       "10010  [Casi, 3, mil, mirandinos, viven, en, casas, i...  \n",
       "12382  [Emir, de, Catar, llega, a, Venezuela, para, e...  \n",
       "12397  [Senador, chileno:, \"Chávez, sigue, vivo, en, ...  \n",
       "12400  [Un, magnate, chino, es, hospitalizado, tras, ...  "
      ]
     },
     "execution_count": 296,
     "metadata": {},
     "output_type": "execute_result"
    }
   ],
   "source": [
    "df[['tweet_text', 'hashtags', 'user_mentions','bag_of_words']].head()"
   ]
  },
  {
   "cell_type": "code",
   "execution_count": 314,
   "metadata": {},
   "outputs": [
    {
     "data": {
      "text/plain": [
       "'¿Realmente participación siete millones de personas en el #Plebiscito inconstitucional de la oposición?… https://t.co/ycs1FyopS3'"
      ]
     },
     "execution_count": 314,
     "metadata": {},
     "output_type": "execute_result"
    }
   ],
   "source": [
    "a_tw"
   ]
  },
  {
   "cell_type": "code",
   "execution_count": 143,
   "metadata": {},
   "outputs": [],
   "source": [
    "import string\n",
    "punct = set(string.punctuation)\n",
    "punct.update('¿', '…')"
   ]
  },
  {
   "cell_type": "markdown",
   "metadata": {},
   "source": [
    "### Create Lexical Diversity Score"
   ]
  },
  {
   "cell_type": "code",
   "execution_count": 196,
   "metadata": {},
   "outputs": [],
   "source": [
    "def one_tweet_lexical_diversity(tweet):\n",
    "    def remove_symbols(word, symbol_set):\n",
    "        return ''.join(char for char in word \n",
    "                        if char not in symbol_set)\n",
    "    \n",
    "    tokens =  [remove_symbols(word.lower(), punct) for word in tweet.split() \n",
    "                            if not(word.startswith(\"http\")) and not(word.startswith('#'))] \n",
    "    \n",
    "    lex_div =  len(set(tokens))/len(tokens)\n",
    "    return lex_div"
   ]
  },
  {
   "cell_type": "code",
   "execution_count": 197,
   "metadata": {},
   "outputs": [],
   "source": [
    "def remove_symbols(word, symbol_set):\n",
    "    return ''.join(char for char in word \n",
    "                    if char not in symbol_set)"
   ]
  },
  {
   "cell_type": "code",
   "execution_count": 297,
   "metadata": {},
   "outputs": [],
   "source": [
    "def grab_user_tweets(tweets_vec):\n",
    "    all_tokens = []\n",
    "    for tweet in tweets_vec:\n",
    "        tokens =  [remove_symbols(word.lower(), punct) for word in tweet.split() \n",
    "                            if not(word.startswith(\"http\")) and not(word.startswith('#'))] \n",
    "        all_tokens += tokens\n",
    "    return all_tokens"
   ]
  },
  {
   "cell_type": "code",
   "execution_count": 262,
   "metadata": {},
   "outputs": [],
   "source": [
    "def user_lexical_diversity(tweets_vec):\n",
    "    tokens = grab_user_tweets(tweets_vec)  \n",
    "    if len(tokens) == 0:\n",
    "        return 0 \n",
    "    return len(set(tokens))/len(tokens)"
   ]
  },
  {
   "cell_type": "code",
   "execution_count": 165,
   "metadata": {},
   "outputs": [],
   "source": [
    "df_usergrp = df.groupby('userid')"
   ]
  },
  {
   "cell_type": "code",
   "execution_count": 266,
   "metadata": {},
   "outputs": [],
   "source": [
    "user_lex_diversity = pd.DataFrame(df_usergrp['tweet_text'].aggregate(diversity)).reset_index()"
   ]
  },
  {
   "cell_type": "code",
   "execution_count": 268,
   "metadata": {},
   "outputs": [],
   "source": [
    "user_lex_diversity = user_lex_diversity.rename(index=str, columns={\"tweet_text\": \"lexical_diversity_score\"})"
   ]
  },
  {
   "cell_type": "code",
   "execution_count": 270,
   "metadata": {},
   "outputs": [],
   "source": [
    "df = pd.merge(df, user_lex_diversity, how = 'left', on = 'userid')"
   ]
  },
  {
   "cell_type": "code",
   "execution_count": 271,
   "metadata": {},
   "outputs": [
    {
     "data": {
      "text/html": [
       "<div>\n",
       "<style scoped>\n",
       "    .dataframe tbody tr th:only-of-type {\n",
       "        vertical-align: middle;\n",
       "    }\n",
       "\n",
       "    .dataframe tbody tr th {\n",
       "        vertical-align: top;\n",
       "    }\n",
       "\n",
       "    .dataframe thead th {\n",
       "        text-align: right;\n",
       "    }\n",
       "</style>\n",
       "<table border=\"1\" class=\"dataframe\">\n",
       "  <thead>\n",
       "    <tr style=\"text-align: right;\">\n",
       "      <th></th>\n",
       "      <th>tweetid</th>\n",
       "      <th>userid</th>\n",
       "      <th>user_display_name</th>\n",
       "      <th>user_screen_name</th>\n",
       "      <th>user_reported_location</th>\n",
       "      <th>user_profile_description</th>\n",
       "      <th>follower_count</th>\n",
       "      <th>following_count</th>\n",
       "      <th>account_creation_date</th>\n",
       "      <th>tweet_text</th>\n",
       "      <th>...</th>\n",
       "      <th>user_mentions</th>\n",
       "      <th>reply_count</th>\n",
       "      <th>like_count</th>\n",
       "      <th>retweet_count</th>\n",
       "      <th>year</th>\n",
       "      <th>month</th>\n",
       "      <th>num_tweets</th>\n",
       "      <th>real_urls</th>\n",
       "      <th>bag_of_words</th>\n",
       "      <th>lexical_diversity_score</th>\n",
       "    </tr>\n",
       "  </thead>\n",
       "  <tbody>\n",
       "    <tr>\n",
       "      <th>0</th>\n",
       "      <td>854809163104440320</td>\n",
       "      <td>L3yGWgp5IaIMnGagIFJp2S8L6GTte0XosR+8fDHTdJ4=</td>\n",
       "      <td>L3yGWgp5IaIMnGagIFJp2S8L6GTte0XosR+8fDHTdJ4=</td>\n",
       "      <td>L3yGWgp5IaIMnGagIFJp2S8L6GTte0XosR+8fDHTdJ4=</td>\n",
       "      <td>NaN</td>\n",
       "      <td>Feliz De LaVida #SiguemeYTesigo #AgradecidaCon...</td>\n",
       "      <td>1314</td>\n",
       "      <td>2210</td>\n",
       "      <td>2016-03-16</td>\n",
       "      <td>Arranca el juicio por la corrupción del exgobe...</td>\n",
       "      <td>...</td>\n",
       "      <td>[]</td>\n",
       "      <td>0.0</td>\n",
       "      <td>0.0</td>\n",
       "      <td>0.0</td>\n",
       "      <td>2017</td>\n",
       "      <td>4</td>\n",
       "      <td>9285</td>\n",
       "      <td>[https://t.co/kWuCmbs0GR, https://t.co/t5ckboq...</td>\n",
       "      <td>[Arranca, el, juicio, por, la, corrupción, del...</td>\n",
       "      <td>1.000000</td>\n",
       "    </tr>\n",
       "    <tr>\n",
       "      <th>1</th>\n",
       "      <td>874722886480736257</td>\n",
       "      <td>ZTnlUDYlN0WIEoy+KX1PcNvoN3sLsw93BEAm2huShng=</td>\n",
       "      <td>ZTnlUDYlN0WIEoy+KX1PcNvoN3sLsw93BEAm2huShng=</td>\n",
       "      <td>ZTnlUDYlN0WIEoy+KX1PcNvoN3sLsw93BEAm2huShng=</td>\n",
       "      <td>Estados Unidos</td>\n",
       "      <td>Model, passionate about politics, follow me an...</td>\n",
       "      <td>986</td>\n",
       "      <td>4037</td>\n",
       "      <td>2017-05-31</td>\n",
       "      <td>Mattis: ‘We are not winning in Afghanistan rig...</td>\n",
       "      <td>...</td>\n",
       "      <td>[]</td>\n",
       "      <td>0.0</td>\n",
       "      <td>0.0</td>\n",
       "      <td>0.0</td>\n",
       "      <td>2017</td>\n",
       "      <td>6</td>\n",
       "      <td>1451</td>\n",
       "      <td>[https://t.co/NR3D2tVAKV, https://t.co/fhEKAGt...</td>\n",
       "      <td>[Mattis:, ‘We, are, not, winning, in, Afghanis...</td>\n",
       "      <td>1.000000</td>\n",
       "    </tr>\n",
       "    <tr>\n",
       "      <th>2</th>\n",
       "      <td>689488058916319234</td>\n",
       "      <td>+uoYQvK+gZIHig5Aim5NboS0CXcxTG0ZdAqp844U=</td>\n",
       "      <td>+uoYQvK+gZIHig5Aim5NboS0CXcxTG0ZdAqp844U=</td>\n",
       "      <td>+uoYQvK+gZIHig5Aim5NboS0CXcxTG0ZdAqp844U=</td>\n",
       "      <td>NaN</td>\n",
       "      <td>ANTI: Chavista, Castrista, Madurista y todo lo...</td>\n",
       "      <td>3413</td>\n",
       "      <td>2208</td>\n",
       "      <td>2013-05-27</td>\n",
       "      <td>Motorizados solicitan destitución de directora...</td>\n",
       "      <td>...</td>\n",
       "      <td>[]</td>\n",
       "      <td>0.0</td>\n",
       "      <td>0.0</td>\n",
       "      <td>0.0</td>\n",
       "      <td>2016</td>\n",
       "      <td>1</td>\n",
       "      <td>154746</td>\n",
       "      <td>[https://t.co/r4NEPUa1Xb]</td>\n",
       "      <td>[Motorizados, solicitan, destitución, de, dire...</td>\n",
       "      <td>0.775510</td>\n",
       "    </tr>\n",
       "    <tr>\n",
       "      <th>3</th>\n",
       "      <td>642432189464838144</td>\n",
       "      <td>QxktQFbfj2TAIHamCgPJ17mrkhHMu6XlCM7dQZXJgmM=</td>\n",
       "      <td>QxktQFbfj2TAIHamCgPJ17mrkhHMu6XlCM7dQZXJgmM=</td>\n",
       "      <td>QxktQFbfj2TAIHamCgPJ17mrkhHMu6XlCM7dQZXJgmM=</td>\n",
       "      <td>Salvemos el Planeta!!</td>\n",
       "      <td>Divertida y coqueta son las palabras que me de...</td>\n",
       "      <td>747</td>\n",
       "      <td>272</td>\n",
       "      <td>2015-05-10</td>\n",
       "      <td>Así fue la llorona que montó María Corina en m...</td>\n",
       "      <td>...</td>\n",
       "      <td>[]</td>\n",
       "      <td>0.0</td>\n",
       "      <td>0.0</td>\n",
       "      <td>0.0</td>\n",
       "      <td>2015</td>\n",
       "      <td>9</td>\n",
       "      <td>112342</td>\n",
       "      <td>[http://t.co/LPpTya0H52, http://t.co/CdJWXAOLVx]</td>\n",
       "      <td>[Así, fue, la, llorona, que, montó, María, Cor...</td>\n",
       "      <td>0.873239</td>\n",
       "    </tr>\n",
       "    <tr>\n",
       "      <th>4</th>\n",
       "      <td>577097570717069312</td>\n",
       "      <td>wHhZVjZKB0OZb27lHj3J5i7Udmr9ROdU5+oqKH3mZ8s=</td>\n",
       "      <td>wHhZVjZKB0OZb27lHj3J5i7Udmr9ROdU5+oqKH3mZ8s=</td>\n",
       "      <td>wHhZVjZKB0OZb27lHj3J5i7Udmr9ROdU5+oqKH3mZ8s=</td>\n",
       "      <td>#Vzla</td>\n",
       "      <td>Mujer de hogar, con valores agradecida de la f...</td>\n",
       "      <td>3705</td>\n",
       "      <td>1470</td>\n",
       "      <td>2014-03-26</td>\n",
       "      <td>Fondos estadounidenses financian terrorismo de...</td>\n",
       "      <td>...</td>\n",
       "      <td>[]</td>\n",
       "      <td>0.0</td>\n",
       "      <td>0.0</td>\n",
       "      <td>0.0</td>\n",
       "      <td>2015</td>\n",
       "      <td>3</td>\n",
       "      <td>92895</td>\n",
       "      <td>[http://t.co/ksZomDtgqU]</td>\n",
       "      <td>[Fondos, estadounidenses, financian, terrorism...</td>\n",
       "      <td>0.925926</td>\n",
       "    </tr>\n",
       "  </tbody>\n",
       "</table>\n",
       "<p>5 rows × 25 columns</p>\n",
       "</div>"
      ],
      "text/plain": [
       "              tweetid                                        userid  \\\n",
       "0  854809163104440320  L3yGWgp5IaIMnGagIFJp2S8L6GTte0XosR+8fDHTdJ4=   \n",
       "1  874722886480736257  ZTnlUDYlN0WIEoy+KX1PcNvoN3sLsw93BEAm2huShng=   \n",
       "2  689488058916319234     +uoYQvK+gZIHig5Aim5NboS0CXcxTG0ZdAqp844U=   \n",
       "3  642432189464838144  QxktQFbfj2TAIHamCgPJ17mrkhHMu6XlCM7dQZXJgmM=   \n",
       "4  577097570717069312  wHhZVjZKB0OZb27lHj3J5i7Udmr9ROdU5+oqKH3mZ8s=   \n",
       "\n",
       "                              user_display_name  \\\n",
       "0  L3yGWgp5IaIMnGagIFJp2S8L6GTte0XosR+8fDHTdJ4=   \n",
       "1  ZTnlUDYlN0WIEoy+KX1PcNvoN3sLsw93BEAm2huShng=   \n",
       "2     +uoYQvK+gZIHig5Aim5NboS0CXcxTG0ZdAqp844U=   \n",
       "3  QxktQFbfj2TAIHamCgPJ17mrkhHMu6XlCM7dQZXJgmM=   \n",
       "4  wHhZVjZKB0OZb27lHj3J5i7Udmr9ROdU5+oqKH3mZ8s=   \n",
       "\n",
       "                               user_screen_name user_reported_location  \\\n",
       "0  L3yGWgp5IaIMnGagIFJp2S8L6GTte0XosR+8fDHTdJ4=                    NaN   \n",
       "1  ZTnlUDYlN0WIEoy+KX1PcNvoN3sLsw93BEAm2huShng=         Estados Unidos   \n",
       "2     +uoYQvK+gZIHig5Aim5NboS0CXcxTG0ZdAqp844U=                    NaN   \n",
       "3  QxktQFbfj2TAIHamCgPJ17mrkhHMu6XlCM7dQZXJgmM=  Salvemos el Planeta!!   \n",
       "4  wHhZVjZKB0OZb27lHj3J5i7Udmr9ROdU5+oqKH3mZ8s=                  #Vzla   \n",
       "\n",
       "                            user_profile_description  follower_count  \\\n",
       "0  Feliz De LaVida #SiguemeYTesigo #AgradecidaCon...            1314   \n",
       "1  Model, passionate about politics, follow me an...             986   \n",
       "2  ANTI: Chavista, Castrista, Madurista y todo lo...            3413   \n",
       "3  Divertida y coqueta son las palabras que me de...             747   \n",
       "4  Mujer de hogar, con valores agradecida de la f...            3705   \n",
       "\n",
       "   following_count account_creation_date  \\\n",
       "0             2210            2016-03-16   \n",
       "1             4037            2017-05-31   \n",
       "2             2208            2013-05-27   \n",
       "3              272            2015-05-10   \n",
       "4             1470            2014-03-26   \n",
       "\n",
       "                                          tweet_text           ...             \\\n",
       "0  Arranca el juicio por la corrupción del exgobe...           ...              \n",
       "1  Mattis: ‘We are not winning in Afghanistan rig...           ...              \n",
       "2  Motorizados solicitan destitución de directora...           ...              \n",
       "3  Así fue la llorona que montó María Corina en m...           ...              \n",
       "4  Fondos estadounidenses financian terrorismo de...           ...              \n",
       "\n",
       "   user_mentions  reply_count  like_count retweet_count  year month  \\\n",
       "0             []          0.0         0.0           0.0  2017     4   \n",
       "1             []          0.0         0.0           0.0  2017     6   \n",
       "2             []          0.0         0.0           0.0  2016     1   \n",
       "3             []          0.0         0.0           0.0  2015     9   \n",
       "4             []          0.0         0.0           0.0  2015     3   \n",
       "\n",
       "   num_tweets                                          real_urls  \\\n",
       "0        9285  [https://t.co/kWuCmbs0GR, https://t.co/t5ckboq...   \n",
       "1        1451  [https://t.co/NR3D2tVAKV, https://t.co/fhEKAGt...   \n",
       "2      154746                          [https://t.co/r4NEPUa1Xb]   \n",
       "3      112342   [http://t.co/LPpTya0H52, http://t.co/CdJWXAOLVx]   \n",
       "4       92895                           [http://t.co/ksZomDtgqU]   \n",
       "\n",
       "                                        bag_of_words  lexical_diversity_score  \n",
       "0  [Arranca, el, juicio, por, la, corrupción, del...                 1.000000  \n",
       "1  [Mattis:, ‘We, are, not, winning, in, Afghanis...                 1.000000  \n",
       "2  [Motorizados, solicitan, destitución, de, dire...                 0.775510  \n",
       "3  [Así, fue, la, llorona, que, montó, María, Cor...                 0.873239  \n",
       "4  [Fondos, estadounidenses, financian, terrorism...                 0.925926  \n",
       "\n",
       "[5 rows x 25 columns]"
      ]
     },
     "execution_count": 271,
     "metadata": {},
     "output_type": "execute_result"
    }
   ],
   "source": [
    "df.head()"
   ]
  },
  {
   "cell_type": "markdown",
   "metadata": {},
   "source": [
    "### Grab Content from URLs"
   ]
  },
  {
   "cell_type": "code",
   "execution_count": 193,
   "metadata": {},
   "outputs": [],
   "source": [
    "import requests\n",
    "from bs4 import BeautifulSoup"
   ]
  },
  {
   "cell_type": "code",
   "execution_count": 279,
   "metadata": {},
   "outputs": [],
   "source": [
    "def grab_url_content(url):\n",
    "    url = url\n",
    "    response = requests.get(url).text\n",
    "    soup = BeautifulSoup(response, \"html.parser\")\n",
    "    title = soup.find('title').decode()\n",
    "    title = title[7:-8]   \n",
    "    return title"
   ]
  },
  {
   "cell_type": "code",
   "execution_count": 276,
   "metadata": {},
   "outputs": [
    {
     "data": {
      "text/plain": [
       "0     [https://t.co/kWuCmbs0GR, https://t.co/t5ckboq...\n",
       "1     [https://t.co/NR3D2tVAKV, https://t.co/fhEKAGt...\n",
       "2                             [https://t.co/r4NEPUa1Xb]\n",
       "3      [http://t.co/LPpTya0H52, http://t.co/CdJWXAOLVx]\n",
       "4                              [http://t.co/ksZomDtgqU]\n",
       "5                             [https://t.co/te5FqhSgCZ]\n",
       "6     [https://t.co/eTM00ubNoO, https://t.co/jubW8ds...\n",
       "7                                                    []\n",
       "8      [http://t.co/UyQj8O8mav, http://t.co/jQMFOVgyys]\n",
       "9     [https://t.co/CFQpfFdnHW, https://t.co/pan3NmB...\n",
       "10    [https://t.co/FfjLTP6Wo0, https://t.co/9y0GR2d...\n",
       "11                                [http://t.co/90uxmj…]\n",
       "12    [https://t.co/Mzvmd6dFKa, https://t.co/Dbe0VRo...\n",
       "13                                                   []\n",
       "14    [https://t.co/rfzbVnoDdh, https://t.co/zj6A0Ca...\n",
       "15                            [https://t.co/aw7j11geLE]\n",
       "16                                                   []\n",
       "17    [https://t.co/qgU3mQR40U, https://t.co/YY25uAq...\n",
       "18    [https://t.co/VfEk0ca1wn, https://t.co/M0VECUV...\n",
       "19                            [https://t.co/zQuITqjfdu]\n",
       "20                            [http://t.co/3WYEOeijzn\"]\n",
       "21                                          [https://…]\n",
       "22                             [http://t.co/syTH3dngwi]\n",
       "23                             [http://t.co/yG9saDUU78]\n",
       "24    [https://t.co/YdfrAXZOPT, https://t.co/Y4kekfD...\n",
       "Name: real_urls, dtype: object"
      ]
     },
     "execution_count": 276,
     "metadata": {},
     "output_type": "execute_result"
    }
   ],
   "source": [
    "df['real_urls'].head(25)"
   ]
  },
  {
   "cell_type": "code",
   "execution_count": 285,
   "metadata": {},
   "outputs": [],
   "source": [
    "def grab_all_urls(urls):\n",
    "    content = []\n",
    "    for url in urls:\n",
    "        if len(url) == 0:\n",
    "            return \"\"\n",
    "        result = grab_url_content (url)\n",
    "        if result == 'Twitter / Account Suspended':\n",
    "            result = ''\n",
    "        content.append( result )\n",
    "    return content"
   ]
  },
  {
   "cell_type": "code",
   "execution_count": 289,
   "metadata": {},
   "outputs": [
    {
     "data": {
      "text/plain": [
       "['FeedsPortal.com']"
      ]
     },
     "execution_count": 289,
     "metadata": {},
     "output_type": "execute_result"
    }
   ],
   "source": [
    "grab_all_urls(df['real_urls'][2])"
   ]
  },
  {
   "cell_type": "code",
   "execution_count": 291,
   "metadata": {},
   "outputs": [
    {
     "data": {
      "text/plain": [
       "['https://t.co/NR3D2tVAKV', 'https://t.co/fhEKAGtUqh']"
      ]
     },
     "execution_count": 291,
     "metadata": {},
     "output_type": "execute_result"
    }
   ],
   "source": [
    "df['real_urls'][:3].apply(grab_all_urls)"
   ]
  },
  {
   "cell_type": "markdown",
   "metadata": {},
   "source": [
    "### Create User/tweet Documents"
   ]
  },
  {
   "cell_type": "code",
   "execution_count": 298,
   "metadata": {},
   "outputs": [],
   "source": [
    "users_df_grp = df.groupby('userid')"
   ]
  },
  {
   "cell_type": "code",
   "execution_count": 302,
   "metadata": {},
   "outputs": [],
   "source": [
    "user_doc = users_df_grp['tweet_text'].apply(grab_user_tweets)"
   ]
  },
  {
   "cell_type": "code",
   "execution_count": 305,
   "metadata": {},
   "outputs": [],
   "source": [
    "user_doc = pd.DataFrame(user_doc).reset_index().rename(index=str, columns={\"tweet_text\": \"tweet_document\"})"
   ]
  },
  {
   "cell_type": "code",
   "execution_count": 307,
   "metadata": {},
   "outputs": [
    {
     "data": {
      "text/html": [
       "<div>\n",
       "<style scoped>\n",
       "    .dataframe tbody tr th:only-of-type {\n",
       "        vertical-align: middle;\n",
       "    }\n",
       "\n",
       "    .dataframe tbody tr th {\n",
       "        vertical-align: top;\n",
       "    }\n",
       "\n",
       "    .dataframe thead th {\n",
       "        text-align: right;\n",
       "    }\n",
       "</style>\n",
       "<table border=\"1\" class=\"dataframe\">\n",
       "  <thead>\n",
       "    <tr style=\"text-align: right;\">\n",
       "      <th></th>\n",
       "      <th>userid</th>\n",
       "      <th>tweet_document</th>\n",
       "    </tr>\n",
       "  </thead>\n",
       "  <tbody>\n",
       "    <tr>\n",
       "      <th>0</th>\n",
       "      <td>+dQ+QlvsYdF8Lald5LNFZRmGAJVayY9jpoeDm4mvMko=</td>\n",
       "      <td>[deaaaadd, si, hoy, no, te, fue, bien, tranqui...</td>\n",
       "    </tr>\n",
       "    <tr>\n",
       "      <th>1</th>\n",
       "      <td>+kKXxTxO9bdLP3qG1Pg8duf8g3LJk2ywVN6+Vr551M=</td>\n",
       "      <td>[lacelis, deberías, cambiarte, pero, de, canal...</td>\n",
       "    </tr>\n",
       "    <tr>\n",
       "      <th>2</th>\n",
       "      <td>+mGUsHi4yPJaHRZAJDORQlejcMd2XylmlIg6HAl5e4k=</td>\n",
       "      <td>[kesaraduque572, holaa, guapa, rt, oficinaship...</td>\n",
       "    </tr>\n",
       "    <tr>\n",
       "      <th>3</th>\n",
       "      <td>+qqdfdDCLuIvMb5qa5h1tu0zpRaI4Kc35u6SCBBGIg8=</td>\n",
       "      <td>[janiot, ayotzinapa, gaza, ferguson, y, donets...</td>\n",
       "    </tr>\n",
       "    <tr>\n",
       "      <th>4</th>\n",
       "      <td>+tWUswUHZ6Wyjd9Po8905nfjk800K5pAwr5EvxHIC8=</td>\n",
       "      <td>[rt, m0nedavenezuela, medalla, conmemorativa, ...</td>\n",
       "    </tr>\n",
       "  </tbody>\n",
       "</table>\n",
       "</div>"
      ],
      "text/plain": [
       "                                         userid  \\\n",
       "0  +dQ+QlvsYdF8Lald5LNFZRmGAJVayY9jpoeDm4mvMko=   \n",
       "1   +kKXxTxO9bdLP3qG1Pg8duf8g3LJk2ywVN6+Vr551M=   \n",
       "2  +mGUsHi4yPJaHRZAJDORQlejcMd2XylmlIg6HAl5e4k=   \n",
       "3  +qqdfdDCLuIvMb5qa5h1tu0zpRaI4Kc35u6SCBBGIg8=   \n",
       "4   +tWUswUHZ6Wyjd9Po8905nfjk800K5pAwr5EvxHIC8=   \n",
       "\n",
       "                                      tweet_document  \n",
       "0  [deaaaadd, si, hoy, no, te, fue, bien, tranqui...  \n",
       "1  [lacelis, deberías, cambiarte, pero, de, canal...  \n",
       "2  [kesaraduque572, holaa, guapa, rt, oficinaship...  \n",
       "3  [janiot, ayotzinapa, gaza, ferguson, y, donets...  \n",
       "4  [rt, m0nedavenezuela, medalla, conmemorativa, ...  "
      ]
     },
     "execution_count": 307,
     "metadata": {},
     "output_type": "execute_result"
    }
   ],
   "source": [
    "user_doc.head()"
   ]
  },
  {
   "cell_type": "code",
   "execution_count": 309,
   "metadata": {},
   "outputs": [],
   "source": [
    "from langdetect import detect"
   ]
  },
  {
   "cell_type": "markdown",
   "metadata": {},
   "source": [
    "### Closing the Loop"
   ]
  },
  {
   "cell_type": "code",
   "execution_count": 326,
   "metadata": {},
   "outputs": [],
   "source": [
    "import gensim\n",
    "from gensim.utils import simple_preprocess\n",
    "from gensim.parsing.preprocessing import STOPWORDS"
   ]
  },
  {
   "cell_type": "code",
   "execution_count": 328,
   "metadata": {},
   "outputs": [],
   "source": [
    "# Create a dictionary from tweets containing the number of times a word appears in the training set."
   ]
  },
  {
   "cell_type": "code",
   "execution_count": 337,
   "metadata": {},
   "outputs": [],
   "source": [
    "dictionary = gensim.corpora.Dictionary(user_doc['tweet_document'])"
   ]
  },
  {
   "cell_type": "code",
   "execution_count": 338,
   "metadata": {},
   "outputs": [
    {
     "data": {
      "text/plain": [
       "242494"
      ]
     },
     "execution_count": 338,
     "metadata": {},
     "output_type": "execute_result"
    }
   ],
   "source": [
    "len(dictionary)"
   ]
  },
  {
   "cell_type": "code",
   "execution_count": 339,
   "metadata": {},
   "outputs": [],
   "source": [
    "dictionary.filter_extremes(no_below=5, no_above=0.5, keep_n=100000)"
   ]
  },
  {
   "cell_type": "code",
   "execution_count": 340,
   "metadata": {},
   "outputs": [
    {
     "data": {
      "text/plain": [
       "62475"
      ]
     },
     "execution_count": 340,
     "metadata": {},
     "output_type": "execute_result"
    }
   ],
   "source": [
    "len(dictionary)"
   ]
  },
  {
   "cell_type": "code",
   "execution_count": 341,
   "metadata": {},
   "outputs": [],
   "source": [
    "# Each Doc, Create Dictionary BoW Counts"
   ]
  },
  {
   "cell_type": "code",
   "execution_count": 342,
   "metadata": {},
   "outputs": [],
   "source": [
    "bow_corpus = [dictionary.doc2bow(doc) for doc in user_doc['tweet_document']]"
   ]
  },
  {
   "cell_type": "code",
   "execution_count": 343,
   "metadata": {},
   "outputs": [
    {
     "data": {
      "text/plain": [
       "307"
      ]
     },
     "execution_count": 343,
     "metadata": {},
     "output_type": "execute_result"
    }
   ],
   "source": [
    "len(bow_corpus)"
   ]
  },
  {
   "cell_type": "code",
   "execution_count": 344,
   "metadata": {},
   "outputs": [],
   "source": [
    "# TF-IDF"
   ]
  },
  {
   "cell_type": "code",
   "execution_count": 346,
   "metadata": {},
   "outputs": [],
   "source": [
    "from gensim import corpora, models\n",
    "from pprint import pprint\n",
    "\n",
    "tfidf = models.TfidfModel(bow_corpus)\n",
    "corpus_tfidf = tfidf[bow_corpus]\n",
    "\n"
   ]
  },
  {
   "cell_type": "code",
   "execution_count": 347,
   "metadata": {},
   "outputs": [],
   "source": [
    "# LDA on BoW"
   ]
  },
  {
   "cell_type": "code",
   "execution_count": 348,
   "metadata": {},
   "outputs": [],
   "source": [
    "lda_model = gensim.models.LdaMulticore(bow_corpus, num_topics=10, id2word=dictionary, passes=2, workers=2)"
   ]
  },
  {
   "cell_type": "code",
   "execution_count": 351,
   "metadata": {},
   "outputs": [
    {
     "name": "stdout",
     "output_type": "stream",
     "text": [
      "Topic: 0 \n",
      "Words: 0.003*\"islámico\" + 0.003*\"siria\" + 0.002*\"ruso\" + 0.002*\"méxico\" + 0.002*\"españa\" + 0.002*\"cuba\" + 0.002*\"argentina\" + 0.002*\"putin\" + 0.001*\"muertos\" + 0.001*\"fanb\"\n",
      "Topic: 1 \n",
      "Words: 0.004*\"forocandanga\" + 0.002*\"obama\" + 0.002*\"cuba\" + 0.001*\"islámico\" + 0.001*\"onu\" + 0.001*\"méxico\" + 0.001*\"anat5\" + 0.001*\"muertos\" + 0.001*\"putin\" + 0.001*\"frontera\"\n",
      "Topic: 2 \n",
      "Words: 0.008*\"forocandanga\" + 0.005*\"conelmazodando\" + 0.003*\"siria\" + 0.003*\"méxico\" + 0.003*\"anat5\" + 0.003*\"yudithh99\" + 0.002*\"islámico\" + 0.002*\"cuba\" + 0.002*\"argentina\" + 0.002*\"muertos\"\n",
      "Topic: 3 \n",
      "Words: 0.007*\"ojo\" + 0.004*\"islámico\" + 0.003*\"siria\" + 0.003*\"putin\" + 0.002*\"ruso\" + 0.002*\"muertos\" + 0.002*\"vladimirpadrino\" + 0.002*\"ucrania\" + 0.002*\"méxico\" + 0.002*\"onu\"\n",
      "Topic: 4 \n",
      "Words: 0.008*\"vladimirpadrino\" + 0.007*\"fanb\" + 0.004*\"ceofanb\" + 0.004*\"ejercitofanb\" + 0.003*\"gnboficial\" + 0.003*\"armadafanb\" + 0.003*\"gnb\" + 0.002*\"redimain\" + 0.002*\"gestión\" + 0.002*\"frontera\"\n",
      "Topic: 5 \n",
      "Words: 0.002*\"siria\" + 0.002*\"cuba\" + 0.002*\"islámico\" + 0.002*\"onu\" + 0.002*\"españa\" + 0.002*\"méxico\" + 0.002*\"obama\" + 0.002*\"ei\" + 0.002*\"avión\" + 0.002*\"ruso\"\n",
      "Topic: 6 \n",
      "Words: 0.002*\"forocandanga\" + 0.002*\"mire\" + 0.002*\"islámico\" + 0.002*\"méxico\" + 0.002*\"obama\" + 0.002*\"the\" + 0.002*\"vladimirpadrino\" + 0.002*\"muertos\" + 0.001*\"siria\" + 0.001*\"españa\"\n",
      "Topic: 7 \n",
      "Words: 0.003*\"forocandanga\" + 0.002*\"partidopsuv\" + 0.002*\"presidencialven\" + 0.002*\"régimen\" + 0.002*\"jacquelinepsuv\" + 0.001*\"frontera\" + 0.001*\"obama\" + 0.001*\"laiguanatv\" + 0.001*\"patriciadorta40\" + 0.001*\"¡el\"\n",
      "Topic: 8 \n",
      "Words: 0.004*\"forocandanga\" + 0.003*\"siria\" + 0.003*\"islámico\" + 0.002*\"méxico\" + 0.002*\"ucrania\" + 0.002*\"españa\" + 0.002*\"ruso\" + 0.002*\"muertos\" + 0.002*\"putin\" + 0.002*\"onu\"\n",
      "Topic: 9 \n",
      "Words: 0.003*\"islámico\" + 0.003*\"méxico\" + 0.003*\"forocandanga\" + 0.002*\"cuba\" + 0.002*\"siria\" + 0.002*\"ruso\" + 0.002*\"irán\" + 0.002*\"españa\" + 0.002*\"fanb\" + 0.002*\"muertos\"\n"
     ]
    }
   ],
   "source": [
    "for idx, topic in lda_model.print_topics(-1):\n",
    "    print('Topic: {} \\nWords: {}'.format(idx, topic))"
   ]
  },
  {
   "cell_type": "code",
   "execution_count": null,
   "metadata": {},
   "outputs": [],
   "source": []
  },
  {
   "cell_type": "code",
   "execution_count": 349,
   "metadata": {},
   "outputs": [],
   "source": [
    "# LDA on TF-IDF"
   ]
  },
  {
   "cell_type": "code",
   "execution_count": 350,
   "metadata": {},
   "outputs": [],
   "source": [
    "lda_model_tfidf = gensim.models.LdaMulticore(corpus_tfidf, num_topics=10, id2word=dictionary, passes=2, workers=4)"
   ]
  },
  {
   "cell_type": "code",
   "execution_count": 352,
   "metadata": {},
   "outputs": [
    {
     "name": "stdout",
     "output_type": "stream",
     "text": [
      "Topic: 0 \n",
      "Words: 0.000*\"golpeados\" + 0.000*\"elnacionalweb\" + 0.000*\"animo\" + 0.000*\"guardianesl\" + 0.000*\"hectorodriguez\" + 0.000*\"genero\" + 0.000*\"msc\" + 0.000*\"minmujer\" + 0.000*\"ovacionve\" + 0.000*\"ayúdame\"\n",
      "Topic: 1 \n",
      "Words: 0.001*\"vladimirpadrino\" + 0.000*\"esequibovzla\" + 0.000*\"yudithh99\" + 0.000*\"ceofanb\" + 0.000*\"fanb\" + 0.000*\"redimain\" + 0.000*\"ejercitofanb\" + 0.000*\"armadafanb\" + 0.000*\"gnboficial\" + 0.000*\"encuentro\"\n",
      "Topic: 2 \n",
      "Words: 0.000*\"ttejuanescalona\" + 0.000*\"cocodrilosdeccs\" + 0.000*\"mincioficial\" + 0.000*\"aki\" + 0.000*\"angelicarojas24\" + 0.000*\"liviarevenga\" + 0.000*\"laenamoran\" + 0.000*\"logicademujeres\" + 0.000*\"milicia\" + 0.000*\"posted\"\n",
      "Topic: 3 \n",
      "Words: 0.000*\"móvildisponible\" + 0.000*\"store\" + 0.000*\"vladimirpadrino\" + 0.000*\"play\" + 0.000*\"mire\" + 0.000*\"app\" + 0.000*\"ceofanb\" + 0.000*\"google\" + 0.000*\"lt3\" + 0.000*\"fil0s0fia\"\n",
      "Topic: 4 \n",
      "Words: 0.000*\"hanthonycoello\" + 0.000*\"eterno\" + 0.000*\"ojo\" + 0.000*\"endycontreras\" + 0.000*\"sorayaachkar\" + 0.000*\"hola\" + 0.000*\"corpocapitalgdc\" + 0.000*\"hectorodriguez\" + 0.000*\"jacquelinepsuv\" + 0.000*\"olasocialistam\"\n",
      "Topic: 5 \n",
      "Words: 0.000*\"lt3\" + 0.000*\"hola\" + 0.000*\"store\" + 0.000*\"luislopezpsuv\" + 0.000*\"mariafabella85\" + 0.000*\"¡me\" + 0.000*\"play\" + 0.000*\"app\" + 0.000*\"jchacon2021\" + 0.000*\"ft\"\n",
      "Topic: 6 \n",
      "Words: 0.000*\"vladimirpadrino\" + 0.000*\"islámico\" + 0.000*\"fanb\" + 0.000*\"siria\" + 0.000*\"ruso\" + 0.000*\"putin\" + 0.000*\"méxico\" + 0.000*\"gnb\" + 0.000*\"ucrania\" + 0.000*\"ei\"\n",
      "Topic: 7 \n",
      "Words: 0.000*\"ejercitofanb\" + 0.000*\"davidparrapsuv\" + 0.000*\"gerardbarrera\" + 0.000*\"sandinomarcano\" + 0.000*\"vladimirpadrino\" + 0.000*\"vzlaestudioonce\" + 0.000*\"ke\" + 0.000*\"poeticaacciones\" + 0.000*\"fanb\" + 0.000*\"ceofanb\"\n",
      "Topic: 8 \n",
      "Words: 0.001*\"vladimirpadrino\" + 0.001*\"ejercitofanb\" + 0.001*\"ceofanb\" + 0.001*\"redimain\" + 0.001*\"armadafanb\" + 0.001*\"fanb\" + 0.001*\"gnboficial\" + 0.000*\"aviacionfanb\" + 0.000*\"📲\" + 0.000*\"🔥martes\"\n",
      "Topic: 9 \n",
      "Words: 0.000*\"actuariojlperez\" + 0.000*\"tkeyvins\" + 0.000*\"facebook\" + 0.000*\"6topodermovil\" + 0.000*\"jacquelinepsuv\" + 0.000*\"posted\" + 0.000*\"voten\" + 0.000*\"jpsuvfinanzas\" + 0.000*\"rnvinformativo\" + 0.000*\"reinaldoi\"\n"
     ]
    }
   ],
   "source": [
    "for idx, topic in lda_model_tfidf.print_topics(-1):\n",
    "    print('Topic: {} \\nWords: {}'.format(idx, topic))"
   ]
  },
  {
   "cell_type": "code",
   "execution_count": null,
   "metadata": {},
   "outputs": [],
   "source": []
  }
 ],
 "metadata": {
  "kernelspec": {
   "display_name": "Python 3",
   "language": "python",
   "name": "python3"
  },
  "language_info": {
   "codemirror_mode": {
    "name": "ipython",
    "version": 3
   },
   "file_extension": ".py",
   "mimetype": "text/x-python",
   "name": "python",
   "nbconvert_exporter": "python",
   "pygments_lexer": "ipython3",
   "version": "3.6.8"
  }
 },
 "nbformat": 4,
 "nbformat_minor": 2
}
