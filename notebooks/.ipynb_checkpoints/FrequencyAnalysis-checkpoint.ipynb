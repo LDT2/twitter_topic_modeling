{
 "cells": [
  {
   "cell_type": "code",
   "execution_count": 179,
   "metadata": {},
   "outputs": [],
   "source": [
    "import pandas as pd\n",
    "import numpy as np\n",
    "import matplotlib.pyplot as plt\n",
    "import random\n",
    "import math"
   ]
  },
  {
   "cell_type": "code",
   "execution_count": 3,
   "metadata": {},
   "outputs": [
    {
     "name": "stderr",
     "output_type": "stream",
     "text": [
      "/anaconda3/lib/python3.6/site-packages/IPython/core/interactiveshell.py:3020: DtypeWarning: Columns (29) have mixed types. Specify dtype option on import or set low_memory=False.\n",
      "  interactivity=interactivity, compiler=compiler, result=result)\n"
     ]
    }
   ],
   "source": [
    "data = pd.read_csv('../data/venezuela_201901_1_tweets_csv_hashed.csv')"
   ]
  },
  {
   "cell_type": "code",
   "execution_count": null,
   "metadata": {},
   "outputs": [],
   "source": [
    "data[\"tweet_time\"] = pd.to_datetime(data[\"tweet_time\"])"
   ]
  },
  {
   "cell_type": "code",
   "execution_count": null,
   "metadata": {},
   "outputs": [],
   "source": [
    "data.set_index(\"tweet_time\", inplace = True)\n",
    "data['year'] = data.index.year\n",
    "data['month'] = data.index.month"
   ]
  },
  {
   "cell_type": "code",
   "execution_count": 5,
   "metadata": {},
   "outputs": [],
   "source": [
    "# take random sample of data set to work with"
   ]
  },
  {
   "cell_type": "code",
   "execution_count": 17,
   "metadata": {},
   "outputs": [
    {
     "data": {
      "text/plain": [
       "2016    2652381\n",
       "2017    2102709\n",
       "2015    1644079\n",
       "2014     873212\n",
       "2018     649068\n",
       "2013     421030\n",
       "2012     366157\n",
       "2011     241473\n",
       "2010      11679\n",
       "Name: year, dtype: int64"
      ]
     },
     "execution_count": 17,
     "metadata": {},
     "output_type": "execute_result"
    }
   ],
   "source": [
    "data.year.value_counts()"
   ]
  },
  {
   "cell_type": "code",
   "execution_count": 30,
   "metadata": {},
   "outputs": [
    {
     "name": "stdout",
     "output_type": "stream",
     "text": [
      "<class 'pandas.core.frame.DataFrame'>\n",
      "DatetimeIndex: 8961788 entries, 2016-12-09 18:04:00 to 2018-01-26 11:12:00\n",
      "Data columns (total 31 columns):\n",
      "tweetid                     int64\n",
      "userid                      object\n",
      "user_display_name           object\n",
      "user_screen_name            object\n",
      "user_reported_location      object\n",
      "user_profile_description    object\n",
      "user_profile_url            object\n",
      "follower_count              int64\n",
      "following_count             int64\n",
      "account_creation_date       object\n",
      "account_language            object\n",
      "tweet_text                  object\n",
      "tweet_client_name           object\n",
      "in_reply_to_tweetid         float64\n",
      "in_reply_to_userid          float64\n",
      "quoted_tweet_tweetid        float64\n",
      "is_retweet                  bool\n",
      "retweet_userid              float64\n",
      "retweet_tweetid             float64\n",
      "latitude                    object\n",
      "longitude                   object\n",
      "quote_count                 float64\n",
      "reply_count                 float64\n",
      "like_count                  float64\n",
      "retweet_count               float64\n",
      "hashtags                    object\n",
      "urls                        object\n",
      "user_mentions               object\n",
      "poll_choices                object\n",
      "year                        int64\n",
      "month                       int64\n",
      "dtypes: bool(1), float64(9), int64(5), object(16)\n",
      "memory usage: 2.1+ GB\n"
     ]
    }
   ],
   "source": [
    "data.info()"
   ]
  },
  {
   "cell_type": "code",
   "execution_count": 18,
   "metadata": {},
   "outputs": [],
   "source": [
    "df = data[ data[\"year\"]  == 2018].sample(1000, random_state = 45)"
   ]
  },
  {
   "cell_type": "markdown",
   "metadata": {},
   "source": [
    "# Frequency Analysis\n",
    "- Count top hashtags\n",
    "- Count tagged-users (mentions)\n",
    "- Count URLs\n",
    "- Count top words"
   ]
  },
  {
   "cell_type": "code",
   "execution_count": 96,
   "metadata": {},
   "outputs": [],
   "source": [
    "import collections"
   ]
  },
  {
   "cell_type": "code",
   "execution_count": 42,
   "metadata": {},
   "outputs": [
    {
     "data": {
      "text/html": [
       "<div>\n",
       "<style scoped>\n",
       "    .dataframe tbody tr th:only-of-type {\n",
       "        vertical-align: middle;\n",
       "    }\n",
       "\n",
       "    .dataframe tbody tr th {\n",
       "        vertical-align: top;\n",
       "    }\n",
       "\n",
       "    .dataframe thead th {\n",
       "        text-align: right;\n",
       "    }\n",
       "</style>\n",
       "<table border=\"1\" class=\"dataframe\">\n",
       "  <thead>\n",
       "    <tr style=\"text-align: right;\">\n",
       "      <th></th>\n",
       "      <th>tweet_text</th>\n",
       "      <th>user_mentions</th>\n",
       "      <th>hashtags</th>\n",
       "    </tr>\n",
       "    <tr>\n",
       "      <th>tweet_time</th>\n",
       "      <th></th>\n",
       "      <th></th>\n",
       "      <th></th>\n",
       "    </tr>\n",
       "  </thead>\n",
       "  <tbody>\n",
       "    <tr>\n",
       "      <th>2018-08-12 17:30:00</th>\n",
       "      <td>Taquilla USA (10-12 Agosto): Megasupergranpesc...</td>\n",
       "      <td>[]</td>\n",
       "      <td>[]</td>\n",
       "    </tr>\n",
       "    <tr>\n",
       "      <th>2018-05-30 07:00:00</th>\n",
       "      <td>Existe “fundamento” de crímenes de lesa humani...</td>\n",
       "      <td>[]</td>\n",
       "      <td>[]</td>\n",
       "    </tr>\n",
       "    <tr>\n",
       "      <th>2018-04-05 20:41:00</th>\n",
       "      <td>RT @Paola_Glmnn: \"Sapere aude\" https://t.co/Ui...</td>\n",
       "      <td>[Paola_Glmnn]</td>\n",
       "      <td>[]</td>\n",
       "    </tr>\n",
       "    <tr>\n",
       "      <th>2018-02-03 08:00:00</th>\n",
       "      <td>Hallan posibles señales de vida en la luna más...</td>\n",
       "      <td>[]</td>\n",
       "      <td>[Saturno]</td>\n",
       "    </tr>\n",
       "    <tr>\n",
       "      <th>2018-09-16 13:40:00</th>\n",
       "      <td>#AcuerdosEconomicosBilaterales Para el crecimi...</td>\n",
       "      <td>[vwinstonv, ForoCandanga, NicolasMaduro]</td>\n",
       "      <td>[AcuerdosEconomicosBilaterales]</td>\n",
       "    </tr>\n",
       "    <tr>\n",
       "      <th>2018-05-18 01:36:00</th>\n",
       "      <td>RT @Nelson_PDVSA: La clase obrera de la Patria...</td>\n",
       "      <td>[Nelson_PDVSA, NicolasMaduro]</td>\n",
       "      <td>[]</td>\n",
       "    </tr>\n",
       "    <tr>\n",
       "      <th>2018-05-09 23:16:00</th>\n",
       "      <td>RT @dblancog: @Sergi_Isabel_4F @NicolasMaduro ...</td>\n",
       "      <td>[dblancog, Sergi_Isabel_4F, JULIOLEONYARA, Jau...</td>\n",
       "      <td>[]</td>\n",
       "    </tr>\n",
       "    <tr>\n",
       "      <th>2018-08-02 03:03:00</th>\n",
       "      <td>RT @rgptovar: Aun con los problemas que atrave...</td>\n",
       "      <td>[rgptovar]</td>\n",
       "      <td>[]</td>\n",
       "    </tr>\n",
       "    <tr>\n",
       "      <th>2018-04-15 18:12:00</th>\n",
       "      <td>RT @blanc7details: ᅠᅠᅠᅠ\\n✎ ♡ . . ⇢ #블랑세븐 ₊ #신우...</td>\n",
       "      <td>[blanc7details]</td>\n",
       "      <td>[블랑세븐, 신우]</td>\n",
       "    </tr>\n",
       "    <tr>\n",
       "      <th>2018-04-21 23:13:00</th>\n",
       "      <td>RT @AnonymissNegra2: #URGENTE El es Emmanuel P...</td>\n",
       "      <td>[AnonymissNegra2]</td>\n",
       "      <td>[URGENTE, Guanare]</td>\n",
       "    </tr>\n",
       "  </tbody>\n",
       "</table>\n",
       "</div>"
      ],
      "text/plain": [
       "                                                            tweet_text  \\\n",
       "tweet_time                                                               \n",
       "2018-08-12 17:30:00  Taquilla USA (10-12 Agosto): Megasupergranpesc...   \n",
       "2018-05-30 07:00:00  Existe “fundamento” de crímenes de lesa humani...   \n",
       "2018-04-05 20:41:00  RT @Paola_Glmnn: \"Sapere aude\" https://t.co/Ui...   \n",
       "2018-02-03 08:00:00  Hallan posibles señales de vida en la luna más...   \n",
       "2018-09-16 13:40:00  #AcuerdosEconomicosBilaterales Para el crecimi...   \n",
       "2018-05-18 01:36:00  RT @Nelson_PDVSA: La clase obrera de la Patria...   \n",
       "2018-05-09 23:16:00  RT @dblancog: @Sergi_Isabel_4F @NicolasMaduro ...   \n",
       "2018-08-02 03:03:00  RT @rgptovar: Aun con los problemas que atrave...   \n",
       "2018-04-15 18:12:00  RT @blanc7details: ᅠᅠᅠᅠ\\n✎ ♡ . . ⇢ #블랑세븐 ₊ #신우...   \n",
       "2018-04-21 23:13:00  RT @AnonymissNegra2: #URGENTE El es Emmanuel P...   \n",
       "\n",
       "                                                         user_mentions  \\\n",
       "tweet_time                                                               \n",
       "2018-08-12 17:30:00                                                 []   \n",
       "2018-05-30 07:00:00                                                 []   \n",
       "2018-04-05 20:41:00                                      [Paola_Glmnn]   \n",
       "2018-02-03 08:00:00                                                 []   \n",
       "2018-09-16 13:40:00           [vwinstonv, ForoCandanga, NicolasMaduro]   \n",
       "2018-05-18 01:36:00                      [Nelson_PDVSA, NicolasMaduro]   \n",
       "2018-05-09 23:16:00  [dblancog, Sergi_Isabel_4F, JULIOLEONYARA, Jau...   \n",
       "2018-08-02 03:03:00                                         [rgptovar]   \n",
       "2018-04-15 18:12:00                                    [blanc7details]   \n",
       "2018-04-21 23:13:00                                  [AnonymissNegra2]   \n",
       "\n",
       "                                            hashtags  \n",
       "tweet_time                                            \n",
       "2018-08-12 17:30:00                               []  \n",
       "2018-05-30 07:00:00                               []  \n",
       "2018-04-05 20:41:00                               []  \n",
       "2018-02-03 08:00:00                        [Saturno]  \n",
       "2018-09-16 13:40:00  [AcuerdosEconomicosBilaterales]  \n",
       "2018-05-18 01:36:00                               []  \n",
       "2018-05-09 23:16:00                               []  \n",
       "2018-08-02 03:03:00                               []  \n",
       "2018-04-15 18:12:00                       [블랑세븐, 신우]  \n",
       "2018-04-21 23:13:00               [URGENTE, Guanare]  "
      ]
     },
     "execution_count": 42,
     "metadata": {},
     "output_type": "execute_result"
    }
   ],
   "source": [
    "df[[\"tweet_text\", \"user_mentions\", \"hashtags\"]].head(10)"
   ]
  },
  {
   "cell_type": "markdown",
   "metadata": {},
   "source": [
    "## Top Hashtags"
   ]
  },
  {
   "cell_type": "code",
   "execution_count": 43,
   "metadata": {},
   "outputs": [
    {
     "data": {
      "text/plain": [
       "[]                             635\n",
       "[EnVivo]                        12\n",
       "[VIDEO]                          8\n",
       "[VenezuelaMultipolar]            4\n",
       "[Irán]                           3\n",
       "[NOTICIAS]                       3\n",
       "[UnNuevoComienzo]                3\n",
       "[VenezuelaDefiendeLaPaz]         3\n",
       "[Venezuela]                      3\n",
       "[Ahora]                          3\n",
       "[FANB]                           2\n",
       "[GraciasMaestroAbreu]            2\n",
       "[AhorrarValeOro]                 2\n",
       "[EncuentroPopular]               2\n",
       "[5AñosDeBatallasYVictorias]      2\n",
       "Name: hashtags, dtype: int64"
      ]
     },
     "execution_count": 43,
     "metadata": {},
     "output_type": "execute_result"
    }
   ],
   "source": [
    "df[\"hashtags\"].value_counts()[:15]"
   ]
  },
  {
   "cell_type": "code",
   "execution_count": 49,
   "metadata": {},
   "outputs": [
    {
     "data": {
      "text/plain": [
       "tweet_time\n",
       "2018-08-12 17:30:00                                 []\n",
       "2018-05-30 07:00:00                                 []\n",
       "2018-04-05 20:41:00                                 []\n",
       "2018-02-03 08:00:00                          [Saturno]\n",
       "2018-09-16 13:40:00    [AcuerdosEconomicosBilaterales]\n",
       "Name: hashtags, dtype: object"
      ]
     },
     "execution_count": 49,
     "metadata": {},
     "output_type": "execute_result"
    }
   ],
   "source": [
    "df[\"hashtags\"].head()"
   ]
  },
  {
   "cell_type": "code",
   "execution_count": 108,
   "metadata": {},
   "outputs": [
    {
     "data": {
      "text/plain": [
       "[('[]', 635),\n",
       " ('envivo', 14),\n",
       " ('video', 11),\n",
       " ('venezuela', 8),\n",
       " ('eeuu', 7),\n",
       " ('irán', 6),\n",
       " ('noticias', 6),\n",
       " ('encuentropopular', 5),\n",
       " ('fanb', 5),\n",
       " ('rusia', 5)]"
      ]
     },
     "execution_count": 108,
     "metadata": {},
     "output_type": "execute_result"
    }
   ],
   "source": [
    "hashtags = collections.Counter()\n",
    "for tweet in df[\"hashtags\"]:\n",
    "    if tweet == '[]':\n",
    "        hashtags[tweet] += 1\n",
    "    else:\n",
    "        tweet = str.split(tweet[1:-1].lower(),\", \")\n",
    "        for item in tweet:\n",
    "            hashtags[item] += 1\n",
    "hashtags.most_common()[:10]"
   ]
  },
  {
   "cell_type": "code",
   "execution_count": 153,
   "metadata": {},
   "outputs": [],
   "source": [
    "final = data[(data['year'] >=2015) & (data['year'] <= 2018)]"
   ]
  },
  {
   "cell_type": "markdown",
   "metadata": {},
   "source": [
    "## User Mentions"
   ]
  },
  {
   "cell_type": "code",
   "execution_count": 109,
   "metadata": {},
   "outputs": [
    {
     "data": {
      "text/plain": [
       "[]                  439\n",
       "[NicolasMaduro]      76\n",
       "[PartidoPSUV]         5\n",
       "[VillegasPoljak]      5\n",
       "[Mayesocialista]      4\n",
       "[RMarcoTorres]        4\n",
       "[EjercitoFANB]        4\n",
       "[ConElMazoDando]      4\n",
       "[FreddyBernal]        3\n",
       "[OnePerfectShot]      3\n",
       "Name: user_mentions, dtype: int64"
      ]
     },
     "execution_count": 109,
     "metadata": {},
     "output_type": "execute_result"
    }
   ],
   "source": [
    "df[\"user_mentions\"].value_counts()[:10]"
   ]
  },
  {
   "cell_type": "code",
   "execution_count": 115,
   "metadata": {},
   "outputs": [
    {
     "data": {
      "text/plain": [
       "[('[]', 439),\n",
       " ('NicolasMaduro', 165),\n",
       " ('PartidoPSUV', 17),\n",
       " ('dcabellor', 12),\n",
       " ('RMarcoTorres', 11),\n",
       " ('VTVcanal8', 10),\n",
       " ('tuiteros_vzla', 9),\n",
       " ('ForoCandanga', 8),\n",
       " ('JauaMiranda', 8),\n",
       " ('MRobertSerra', 8),\n",
       " ('FreddyBernal', 8),\n",
       " ('EjercitoFANB', 8),\n",
       " ('ConElMazoDando', 7),\n",
       " ('Mippcivzla', 7),\n",
       " ('VillegasPoljak', 6),\n",
       " ('Mayesocialista', 6),\n",
       " ('CarreroCarolina', 6),\n",
       " ('dblancog', 5),\n",
       " ('Sergi_Isabel_4F', 5),\n",
       " ('PrensaFANB', 5)]"
      ]
     },
     "execution_count": 115,
     "metadata": {},
     "output_type": "execute_result"
    }
   ],
   "source": [
    "mentions = collections.Counter()\n",
    "for tweet in df[\"user_mentions\"]:\n",
    "    if tweet == '[]':\n",
    "        mentions[tweet] += 1\n",
    "    else:\n",
    "        tweet = str.split(tweet[1:-1],\", \")\n",
    "        for item in tweet:\n",
    "            mentions[item] += 1\n",
    "mentions.most_common()[:20]"
   ]
  },
  {
   "cell_type": "markdown",
   "metadata": {},
   "source": [
    "## Top URLs"
   ]
  },
  {
   "cell_type": "code",
   "execution_count": 118,
   "metadata": {},
   "outputs": [
    {
     "data": {
      "text/plain": [
       "tweet_time\n",
       "2018-08-12 17:30:00            [http://dlvr.it/QffdSt]\n",
       "2018-05-30 07:00:00    [http://youtu.be/ELz8Nt8OVgQ?a]\n",
       "2018-04-05 20:41:00                                 []\n",
       "2018-02-03 08:00:00               [http://htv.mx/1gaD]\n",
       "2018-09-16 13:40:00                                 []\n",
       "2018-05-18 01:36:00                                 []\n",
       "2018-05-09 23:16:00                                 []\n",
       "2018-08-02 03:03:00                                 []\n",
       "2018-04-15 18:12:00                                 []\n",
       "2018-04-21 23:13:00                                 []\n",
       "Name: urls, dtype: object"
      ]
     },
     "execution_count": 118,
     "metadata": {},
     "output_type": "execute_result"
    }
   ],
   "source": [
    "df[\"urls\"].head(10)"
   ]
  },
  {
   "cell_type": "code",
   "execution_count": 152,
   "metadata": {},
   "outputs": [
    {
     "data": {
      "text/plain": [
       "[('[]', 599),\n",
       " ('dlvr.it', 178),\n",
       " ('bit.ly', 77),\n",
       " ('htv.mx', 35),\n",
       " ('ift.tt', 28),\n",
       " ('twitter.com', 27),\n",
       " ('youtu.be', 17),\n",
       " ('goo.gl', 8),\n",
       " ('www.avn.info.ve', 8),\n",
       " ('ow.ly', 4),\n",
       " ('elelefantebocarriba.wordpress.com', 1),\n",
       " ('mundo.sputniknews.com', 1),\n",
       " ('noticiaskikiriki.com.ve', 1),\n",
       " ('www.facebook.com', 1),\n",
       " ('pscp.tv', 1),\n",
       " ('www.instagram.com', 1),\n",
       " ('www.resumenlatinoamericano.org', 1),\n",
       " ('rsg.ms', 1),\n",
       " ('www.youtube.com', 1),\n",
       " ('on.fb.me', 1)]"
      ]
     },
     "execution_count": 152,
     "metadata": {},
     "output_type": "execute_result"
    }
   ],
   "source": [
    "urls = collections.Counter()\n",
    "for tweet in df[\"urls\"]:\n",
    "    if tweet == '[]':\n",
    "        urls[tweet] += 1\n",
    "    else:\n",
    "        tweet = str.split(tweet[1:-1].split(\"//\")[1],\"/\")[0]\n",
    "        #for item in tweet:\n",
    "        urls[tweet] += 1\n",
    "urls.most_common()[:20]"
   ]
  },
  {
   "cell_type": "markdown",
   "metadata": {},
   "source": [
    "### All Years (2015 - 2018)"
   ]
  },
  {
   "cell_type": "code",
   "execution_count": 185,
   "metadata": {},
   "outputs": [],
   "source": [
    "def top_hashtags(df, top_n):\n",
    "    hashtags = collections.Counter()\n",
    "    for tweet in df[\"hashtags\"]:\n",
    "        if tweet == '[]':\n",
    "            hashtags[tweet] += 1\n",
    "        elif type(tweet) == float:\n",
    "            pass\n",
    "        else:\n",
    "            tweet = str.split(tweet[1:-1].lower(),\", \")\n",
    "            for item in tweet:\n",
    "                hashtags[item] += 1\n",
    "    return hashtags.most_common()[:top_n]\n",
    "    "
   ]
  },
  {
   "cell_type": "code",
   "execution_count": 189,
   "metadata": {},
   "outputs": [],
   "source": [
    "def top_mentions(df, top_n):\n",
    "    mentions = collections.Counter()\n",
    "    for tweet in df[\"user_mentions\"]:\n",
    "        if tweet == '[]':\n",
    "            mentions[tweet] += 1\n",
    "        elif type(tweet) == float:\n",
    "            pass\n",
    "        else:\n",
    "            tweet = str.split(tweet[1:-1],\", \")\n",
    "            for item in tweet:\n",
    "                mentions[item] += 1\n",
    "    return mentions.most_common()[:top_n]"
   ]
  },
  {
   "cell_type": "code",
   "execution_count": 190,
   "metadata": {},
   "outputs": [],
   "source": [
    "def top_urls(df, top_n):\n",
    "    urls = collections.Counter()\n",
    "    for tweet in df[\"urls\"]:\n",
    "        if tweet == '[]':\n",
    "            urls[tweet] += 1\n",
    "        elif type(tweet) == float:\n",
    "            pass \n",
    "        else:\n",
    "            tweet = str.split(tweet[1:-1].split(\"//\")[1],\"/\")[0]\n",
    "            #for item in tweet:\n",
    "            urls[tweet] += 1\n",
    "    return urls.most_common()[:20]"
   ]
  },
  {
   "cell_type": "code",
   "execution_count": 191,
   "metadata": {},
   "outputs": [],
   "source": [
    "top_stats = collections.defaultdict()\n",
    "for year in final['year'].unique():\n",
    "    temp = final[ final['year'] == year ]\n",
    "    \n",
    "    yr_hashtags = 'hashtags_'+str(year)\n",
    "    top_stats[yr_hashtags] = top_hashtags(temp, 20)\n",
    "    \n",
    "    yr_mentions = 'mentions_'+str(year)\n",
    "    top_stats[yr_mentions] = top_mentions(temp, 20)\n",
    "    \n",
    "    yr_urls = 'urls_'+str(year)\n",
    "    top_stats[yr_urls] = top_urls(temp, 20)\n",
    "    "
   ]
  },
  {
   "cell_type": "code",
   "execution_count": 192,
   "metadata": {},
   "outputs": [
    {
     "data": {
      "text/plain": [
       "defaultdict(None,\n",
       "            {'hashtags_2016': [('[]', 1234060),\n",
       "              ('noticias', 554954),\n",
       "              ('rt', 301511),\n",
       "              ('news', 95981),\n",
       "              ('android', 73086),\n",
       "              ('mundo', 63256),\n",
       "              ('deportes', 46522),\n",
       "              ('latam', 45874),\n",
       "              ('tropa', 38087),\n",
       "              ('legionfanb', 36645),\n",
       "              ('vzla', 32224),\n",
       "              ('tecnologia', 31566),\n",
       "              ('actualidadrt', 17717),\n",
       "              ('envivo', 13942),\n",
       "              ('venezuela', 13396),\n",
       "              ('tecnología', 13154),\n",
       "              ('fanbesvenezuela', 12604),\n",
       "              ('videojuegos', 11565),\n",
       "              ('interesante', 11281),\n",
       "              ('ahora', 11123)],\n",
       "             'mentions_2016': [('[]', 2135361),\n",
       "              ('NicolasMaduro', 75229),\n",
       "              ('vladimirpadrino', 42269),\n",
       "              ('RomelGuardian', 28149),\n",
       "              ('PatriciaDorta40', 17044),\n",
       "              ('correoorinoco', 15065),\n",
       "              ('ConElMazoDando', 10044),\n",
       "              ('VTVcanal8', 9656),\n",
       "              ('PartidoPSUV', 9107),\n",
       "              ('GMAS_Oficial', 8759),\n",
       "              ('luisjmarcano', 7624),\n",
       "              ('dcabellor', 7456),\n",
       "              ('PresidencialVen', 7399),\n",
       "              ('ForoCandanga', 6208),\n",
       "              ('TareckPSUV', 5552),\n",
       "              ('VzlaEstudioOnce', 5473),\n",
       "              ('ceofanb', 5187),\n",
       "              ('prensaFANB', 5125),\n",
       "              ('LaHojillaenTV', 5000),\n",
       "              ('Yudithh99', 4851)],\n",
       "             'urls_2016': [('dlvr.it', 1271822),\n",
       "              ('[]', 604010),\n",
       "              ('bit.ly', 318051),\n",
       "              ('goo.gl', 110339),\n",
       "              ('twitter.com', 83752),\n",
       "              ('ow.ly', 52658),\n",
       "              ('es.rt.com', 34761),\n",
       "              ('youtu.be', 26182),\n",
       "              ('htv.mx', 20718),\n",
       "              ('twib.in', 14989),\n",
       "              ('www.aporrea.org', 10602),\n",
       "              ('ln.is', 8627),\n",
       "              ('is.gd', 6199),\n",
       "              ('www.youtube.com', 5300),\n",
       "              ('fb.me', 4498),\n",
       "              ('www.minci.gob.ve', 4426),\n",
       "              ('ptv.io', 3989),\n",
       "              ('www.correodelorinoco.gob.ve', 3923),\n",
       "              ('www.tuitutil.net', 3830),\n",
       "              ('www.marketingdirecto.com', 3786)],\n",
       "             'hashtags_2017': [('[]', 1123666),\n",
       "              ('noticias', 192512),\n",
       "              ('rt', 143343),\n",
       "              ('lechuguinos', 74421),\n",
       "              ('android', 38752),\n",
       "              ('news', 29417),\n",
       "              ('mundo', 27627),\n",
       "              ('endebate', 27270),\n",
       "              ('latam', 26892),\n",
       "              ('vivetv', 25624),\n",
       "              ('venezuela', 16227),\n",
       "              ('deportes', 14141),\n",
       "              ('ahora', 12653),\n",
       "              ('eeuu', 12431),\n",
       "              ('video', 8547),\n",
       "              ('vzla', 7967),\n",
       "              ('actualidadrt', 7835),\n",
       "              ('tecnologia', 7713),\n",
       "              ('envivo', 7005),\n",
       "              ('tecnología', 5251)],\n",
       "             'mentions_2017': [('[]', 1590100),\n",
       "              ('NicolasMaduro', 72902),\n",
       "              ('vladimirpadrino', 38592),\n",
       "              ('27aKo206KWAMWXDQHxCNRnU5AilCxDbGNigelllVW0=', 18196),\n",
       "              ('RomelGuardian', 14394),\n",
       "              ('VillegasPoljak', 12013),\n",
       "              ('dcabellor', 9165),\n",
       "              ('TareckPSUV', 8554),\n",
       "              ('Mision_Verdad', 7215),\n",
       "              ('ConElMazoDando', 6850),\n",
       "              ('VTVcanal8', 6765),\n",
       "              ('REDI_Oriente', 6325),\n",
       "              ('CeballosIchaso', 5409),\n",
       "              ('PartidoPSUV', 4691),\n",
       "              ('madeleintlSUR', 4559),\n",
       "              ('LuisLopezPSUV', 4363),\n",
       "              ('PatriciaDorta40', 4155),\n",
       "              ('EscalonaJuanF', 4085),\n",
       "              ('hugbelpsuv', 4072),\n",
       "              ('NestorReverol', 3944)],\n",
       "             'urls_2017': [('[]', 558503),\n",
       "              ('dlvr.it', 558277),\n",
       "              ('bit.ly', 214577),\n",
       "              ('twitter.com', 176410),\n",
       "              ('wp.me', 155744),\n",
       "              ('ow.ly', 110109),\n",
       "              ('goo.gl', 98536),\n",
       "              ('es.rt.com', 67432),\n",
       "              ('htv.mx', 39271),\n",
       "              ('youtu.be', 21543),\n",
       "              ('www.avn.info.ve', 17500),\n",
       "              ('ift.tt', 8182),\n",
       "              ('fb.me', 7995),\n",
       "              ('ln.is', 6513),\n",
       "              ('www.instagram.com', 5503),\n",
       "              ('www.youtube.com', 3578),\n",
       "              ('rupt.ly', 3545),\n",
       "              ('tlsur.net', 3194),\n",
       "              ('ptv.io', 3159),\n",
       "              ('www.pscp.tv', 2834)],\n",
       "             'hashtags_2018': [('[]', 412081),\n",
       "              ('envivo', 7067),\n",
       "              ('venezuela', 5857),\n",
       "              ('noticias', 5642),\n",
       "              ('eeuu', 5545),\n",
       "              ('video', 4794),\n",
       "              ('ahora', 3347),\n",
       "              ('siria', 2277),\n",
       "              ('irán', 2140),\n",
       "              ('fanb', 1973),\n",
       "              ('tuiterosactivos', 1907),\n",
       "              ('rusia', 1861),\n",
       "              ('hoy', 1692),\n",
       "              ('esnoticia', 1548),\n",
       "              ('votaporvenezuela', 1539),\n",
       "              ('pueblounidoconmaduro', 1518),\n",
       "              ('israel', 1517),\n",
       "              ('enfotos', 1499),\n",
       "              ('trump', 1402),\n",
       "              ('encuentropopular', 1363)],\n",
       "             'mentions_2018': [('[]', 295751),\n",
       "              ('NicolasMaduro', 98135),\n",
       "              ('PartidoPSUV', 7580),\n",
       "              ('VTVcanal8', 6949),\n",
       "              ('dcabellor', 6889),\n",
       "              ('tuiteros_vzla', 4883),\n",
       "              ('ForoCandanga', 4863),\n",
       "              ('RMarcoTorres', 4765),\n",
       "              ('JauaMiranda', 4710),\n",
       "              ('ConElMazoDando', 4632),\n",
       "              ('Mippcivzla', 4567),\n",
       "              ('vladimirpadrino', 3868),\n",
       "              ('rafaellacava10', 3310),\n",
       "              ('PrensaFANB', 3187),\n",
       "              ('TareckPSUV', 3171),\n",
       "              ('MRobertSerra', 3119),\n",
       "              ('Mayesocialista', 3092),\n",
       "              ('CarnetDLaPatria', 3068),\n",
       "              ('MiliciaFANB', 3012),\n",
       "              ('JMariarosa', 2867)],\n",
       "             'urls_2018': [('[]', 373248),\n",
       "              ('dlvr.it', 117475),\n",
       "              ('bit.ly', 50231),\n",
       "              ('htv.mx', 20939),\n",
       "              ('ift.tt', 18417),\n",
       "              ('twitter.com', 15365),\n",
       "              ('youtu.be', 10222),\n",
       "              ('www.avn.info.ve', 9361),\n",
       "              ('goo.gl', 6830),\n",
       "              ('ow.ly', 5047),\n",
       "              ('www.instagram.com', 4062),\n",
       "              ('conelmazodando.com.ve', 1691),\n",
       "              ('es.rt.com', 1110),\n",
       "              ('www.facebook.com', 1100),\n",
       "              ('www.youtube.com', 969),\n",
       "              ('www.pscp.tv', 858),\n",
       "              ('fb.me', 745),\n",
       "              ('buff.ly', 643),\n",
       "              ('limportant.fr', 541),\n",
       "              ('www.psuv.org.ve', 491)],\n",
       "             'hashtags_2015': [('[]', 699822),\n",
       "              ('noticias', 281191),\n",
       "              ('tropa', 89018),\n",
       "              ('legionfanb', 86880),\n",
       "              ('news', 74470),\n",
       "              ('deportes', 37278),\n",
       "              ('tecnologia', 24398),\n",
       "              ('mundo', 22162),\n",
       "              ('android', 16376),\n",
       "              ('videojuegos', 15057),\n",
       "              ('actualidadrt', 14565),\n",
       "              ('lafanbeshonorygloria', 11765),\n",
       "              ('vzla', 10868),\n",
       "              ('technology', 9242),\n",
       "              ('desarrolloproductivofanb', 7651),\n",
       "              ('obamaderogaeldecretoya', 6706),\n",
       "              ('diadelsoldadodelapatria', 5488),\n",
       "              ('fanbenlafrontera', 5126),\n",
       "              ('venezuela', 4825),\n",
       "              ('piñeraypastranaatiendanalcomitedevictimasguarimbas', 4572)],\n",
       "             'mentions_2015': [('[]', 1115203),\n",
       "              ('NicolasMaduro', 59076),\n",
       "              ('ForoCandanga', 30922),\n",
       "              ('vladimirpadrino', 16829),\n",
       "              ('anat5', 13924),\n",
       "              ('ConElMazoDando', 10655),\n",
       "              ('VTVcanal8', 9598),\n",
       "              ('ceofanb', 8251),\n",
       "              ('dcabellor', 7780),\n",
       "              ('EjercitoFanb', 7429),\n",
       "              ('PartidoPSUV', 7181),\n",
       "              ('GNBoficial', 5973),\n",
       "              ('Yudithh99', 5329),\n",
       "              ('TareckPSUV', 4904),\n",
       "              ('ArmadaFANB', 4724),\n",
       "              ('JacquelinePSUV', 4205),\n",
       "              ('PresidencialVen', 4073),\n",
       "              ('ConElMaz0Dando', 3893),\n",
       "              ('REDI_MAIN', 3868),\n",
       "              ('Esequibo_VZLA', 3556)],\n",
       "             'urls_2015': [('dlvr.it', 1043183),\n",
       "              ('[]', 329017),\n",
       "              ('bit.ly', 49122),\n",
       "              ('twib.in', 33819),\n",
       "              ('twitter.com', 32782),\n",
       "              ('goo.gl', 14917),\n",
       "              ('ow.ly', 13787),\n",
       "              ('youtu.be', 12706),\n",
       "              ('is.gd', 6928),\n",
       "              ('fb.me', 4536),\n",
       "              ('www.youtube.com', 4170),\n",
       "              ('actualidad.rt.com', 3276),\n",
       "              ('tinyurl.com', 2807),\n",
       "              ('tlsur.net', 2497),\n",
       "              ('www.minci.gob.ve', 2319),\n",
       "              ('ln.is', 2248),\n",
       "              ('instagram.com', 1927),\n",
       "              ('ay.gy', 1487),\n",
       "              ('roundteam.co', 1455),\n",
       "              ('www.conelmazodando.com.ve', 1425)]})"
      ]
     },
     "execution_count": 192,
     "metadata": {},
     "output_type": "execute_result"
    }
   ],
   "source": [
    "top_stats"
   ]
  },
  {
   "cell_type": "code",
   "execution_count": null,
   "metadata": {},
   "outputs": [],
   "source": []
  }
 ],
 "metadata": {
  "kernelspec": {
   "display_name": "Python 3",
   "language": "python",
   "name": "python3"
  },
  "language_info": {
   "codemirror_mode": {
    "name": "ipython",
    "version": 3
   },
   "file_extension": ".py",
   "mimetype": "text/x-python",
   "name": "python",
   "nbconvert_exporter": "python",
   "pygments_lexer": "ipython3",
   "version": "3.6.8"
  }
 },
 "nbformat": 4,
 "nbformat_minor": 2
}
