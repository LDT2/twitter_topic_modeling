{
 "cells": [
  {
   "cell_type": "code",
   "execution_count": 2,
   "metadata": {},
   "outputs": [],
   "source": [
    "import pandas as pd\n",
    "import numpy as np\n",
    "import matplotlib.pyplot as plt\n",
    "import random\n",
    "import math\n",
    "from import_data import read_data"
   ]
  },
  {
   "cell_type": "code",
   "execution_count": 3,
   "metadata": {},
   "outputs": [
    {
     "name": "stderr",
     "output_type": "stream",
     "text": [
      "/anaconda3/lib/python3.6/site-packages/IPython/core/interactiveshell.py:3185: DtypeWarning: Columns (29) have mixed types. Specify dtype option on import or set low_memory=False.\n",
      "  if (yield from self.run_code(code, result)):\n",
      "/Users/lthomas/Dropbox/galvanize/Capstone/notebooks/import_data.py:29: SettingWithCopyWarning: \n",
      "A value is trying to be set on a copy of a slice from a DataFrame.\n",
      "Try using .loc[row_indexer,col_indexer] = value instead\n",
      "\n",
      "See the caveats in the documentation: http://pandas.pydata.org/pandas-docs/stable/indexing.html#indexing-view-versus-copy\n",
      "  data1_cleaned[\"tweet_time\"] = pd.to_datetime(data1_cleaned[\"tweet_time\"])\n",
      "/Users/lthomas/Dropbox/galvanize/Capstone/notebooks/import_data.py:31: SettingWithCopyWarning: \n",
      "A value is trying to be set on a copy of a slice from a DataFrame.\n",
      "Try using .loc[row_indexer,col_indexer] = value instead\n",
      "\n",
      "See the caveats in the documentation: http://pandas.pydata.org/pandas-docs/stable/indexing.html#indexing-view-versus-copy\n",
      "  data1_cleaned['year'] = data1_cleaned.index.year\n",
      "/Users/lthomas/Dropbox/galvanize/Capstone/notebooks/import_data.py:32: SettingWithCopyWarning: \n",
      "A value is trying to be set on a copy of a slice from a DataFrame.\n",
      "Try using .loc[row_indexer,col_indexer] = value instead\n",
      "\n",
      "See the caveats in the documentation: http://pandas.pydata.org/pandas-docs/stable/indexing.html#indexing-view-versus-copy\n",
      "  data1_cleaned['month'] = data1_cleaned.index.month\n",
      "/Users/lthomas/Dropbox/galvanize/Capstone/notebooks/import_data.py:34: SettingWithCopyWarning: \n",
      "A value is trying to be set on a copy of a slice from a DataFrame.\n",
      "Try using .loc[row_indexer,col_indexer] = value instead\n",
      "\n",
      "See the caveats in the documentation: http://pandas.pydata.org/pandas-docs/stable/indexing.html#indexing-view-versus-copy\n",
      "  data2_cleaned[\"tweet_time\"] = pd.to_datetime(data2_cleaned[\"tweet_time\"])\n",
      "/Users/lthomas/Dropbox/galvanize/Capstone/notebooks/import_data.py:36: SettingWithCopyWarning: \n",
      "A value is trying to be set on a copy of a slice from a DataFrame.\n",
      "Try using .loc[row_indexer,col_indexer] = value instead\n",
      "\n",
      "See the caveats in the documentation: http://pandas.pydata.org/pandas-docs/stable/indexing.html#indexing-view-versus-copy\n",
      "  data2_cleaned['year'] = data2_cleaned.index.year\n",
      "/Users/lthomas/Dropbox/galvanize/Capstone/notebooks/import_data.py:37: SettingWithCopyWarning: \n",
      "A value is trying to be set on a copy of a slice from a DataFrame.\n",
      "Try using .loc[row_indexer,col_indexer] = value instead\n",
      "\n",
      "See the caveats in the documentation: http://pandas.pydata.org/pandas-docs/stable/indexing.html#indexing-view-versus-copy\n",
      "  data2_cleaned['month'] = data2_cleaned.index.month\n"
     ]
    }
   ],
   "source": [
    "data = read_data('../data', 2014, 2018, 5)"
   ]
  },
  {
   "cell_type": "code",
   "execution_count": 292,
   "metadata": {},
   "outputs": [],
   "source": [
    "df = data[ data['year'] == 2015 ]"
   ]
  },
  {
   "cell_type": "code",
   "execution_count": 293,
   "metadata": {},
   "outputs": [
    {
     "data": {
      "text/plain": [
       "(1644077, 22)"
      ]
     },
     "execution_count": 293,
     "metadata": {},
     "output_type": "execute_result"
    }
   ],
   "source": [
    "df.shape"
   ]
  },
  {
   "cell_type": "code",
   "execution_count": 32,
   "metadata": {},
   "outputs": [
    {
     "data": {
      "text/html": [
       "<div>\n",
       "<style scoped>\n",
       "    .dataframe tbody tr th:only-of-type {\n",
       "        vertical-align: middle;\n",
       "    }\n",
       "\n",
       "    .dataframe tbody tr th {\n",
       "        vertical-align: top;\n",
       "    }\n",
       "\n",
       "    .dataframe thead th {\n",
       "        text-align: right;\n",
       "    }\n",
       "</style>\n",
       "<table border=\"1\" class=\"dataframe\">\n",
       "  <thead>\n",
       "    <tr style=\"text-align: right;\">\n",
       "      <th></th>\n",
       "      <th>tweet_text</th>\n",
       "      <th>urls</th>\n",
       "    </tr>\n",
       "  </thead>\n",
       "  <tbody>\n",
       "    <tr>\n",
       "      <th>202461</th>\n",
       "      <td>Arranca el juicio por la corrupción del exgobe...</td>\n",
       "      <td>[http://actualidad.rt.com.ln.is/XvF1n]</td>\n",
       "    </tr>\n",
       "    <tr>\n",
       "      <th>8449047</th>\n",
       "      <td>Mattis: ‘We are not winning in Afghanistan rig...</td>\n",
       "      <td>[http://corneey.com/qKRhr5]</td>\n",
       "    </tr>\n",
       "    <tr>\n",
       "      <th>7136416</th>\n",
       "      <td>Motorizados solicitan destitución de directora...</td>\n",
       "      <td>[http://dlvr.it/DKJK63]</td>\n",
       "    </tr>\n",
       "    <tr>\n",
       "      <th>7496540</th>\n",
       "      <td>Así fue la llorona que montó María Corina en m...</td>\n",
       "      <td>[http://dlvr.it/C7BmDJ]</td>\n",
       "    </tr>\n",
       "    <tr>\n",
       "      <th>7588663</th>\n",
       "      <td>Fondos estadounidenses financian terrorismo de...</td>\n",
       "      <td>[http://dlvr.it/8z69mX]</td>\n",
       "    </tr>\n",
       "  </tbody>\n",
       "</table>\n",
       "</div>"
      ],
      "text/plain": [
       "                                                tweet_text  \\\n",
       "202461   Arranca el juicio por la corrupción del exgobe...   \n",
       "8449047  Mattis: ‘We are not winning in Afghanistan rig...   \n",
       "7136416  Motorizados solicitan destitución de directora...   \n",
       "7496540  Así fue la llorona que montó María Corina en m...   \n",
       "7588663  Fondos estadounidenses financian terrorismo de...   \n",
       "\n",
       "                                           urls  \n",
       "202461   [http://actualidad.rt.com.ln.is/XvF1n]  \n",
       "8449047             [http://corneey.com/qKRhr5]  \n",
       "7136416                 [http://dlvr.it/DKJK63]  \n",
       "7496540                 [http://dlvr.it/C7BmDJ]  \n",
       "7588663                 [http://dlvr.it/8z69mX]  "
      ]
     },
     "execution_count": 32,
     "metadata": {},
     "output_type": "execute_result"
    }
   ],
   "source": [
    "df[[\"tweet_text\", \"urls\"]].head()"
   ]
  },
  {
   "cell_type": "markdown",
   "metadata": {},
   "source": [
    "### Grab URLs from Tweets"
   ]
  },
  {
   "cell_type": "code",
   "execution_count": 93,
   "metadata": {},
   "outputs": [],
   "source": [
    "def grab_urls(tweet):\n",
    "    return [ word for word in tweet.split() \\\n",
    "                    if word.startswith(\"http\")]"
   ]
  },
  {
   "cell_type": "code",
   "execution_count": 98,
   "metadata": {},
   "outputs": [],
   "source": [
    "df['real_urls'] = df['tweet_text'].apply(grab_urls)"
   ]
  },
  {
   "cell_type": "code",
   "execution_count": 116,
   "metadata": {},
   "outputs": [
    {
     "data": {
      "text/plain": [
       "['https://t.co/aw7j11geLE']"
      ]
     },
     "execution_count": 116,
     "metadata": {},
     "output_type": "execute_result"
    }
   ],
   "source": [
    "df['real_urls'].iloc[15]"
   ]
  },
  {
   "cell_type": "code",
   "execution_count": 110,
   "metadata": {},
   "outputs": [
    {
     "data": {
      "text/plain": [
       "['¡SÉPALO!',\n",
       " 'Medios',\n",
       " 'de',\n",
       " 'comunicación',\n",
       " 'de',\n",
       " 'derecha',\n",
       " 'manipulan',\n",
       " 'el',\n",
       " 'término',\n",
       " '“terrorismo”',\n",
       " 'a',\n",
       " 'conveniencia/',\n",
       " '(+VIDEO)']"
      ]
     },
     "execution_count": 110,
     "metadata": {},
     "output_type": "execute_result"
    }
   ],
   "source": [
    "[ word for word in a_tw.split() if not(word.startswith(\"http\")) and not(word.startswith('#'))]"
   ]
  },
  {
   "cell_type": "markdown",
   "metadata": {},
   "source": [
    "### Create Bag of Words from Tweets"
   ]
  },
  {
   "cell_type": "code",
   "execution_count": 294,
   "metadata": {},
   "outputs": [],
   "source": [
    "def get_bag_of_words(tweet):\n",
    "    return [ word for word in tweet.split() if not(word.startswith(\"http\")) and not(word.startswith('#'))]"
   ]
  },
  {
   "cell_type": "code",
   "execution_count": 295,
   "metadata": {},
   "outputs": [
    {
     "name": "stderr",
     "output_type": "stream",
     "text": [
      "/anaconda3/lib/python3.6/site-packages/ipykernel_launcher.py:1: SettingWithCopyWarning: \n",
      "A value is trying to be set on a copy of a slice from a DataFrame.\n",
      "Try using .loc[row_indexer,col_indexer] = value instead\n",
      "\n",
      "See the caveats in the documentation: http://pandas.pydata.org/pandas-docs/stable/indexing.html#indexing-view-versus-copy\n",
      "  \"\"\"Entry point for launching an IPython kernel.\n"
     ]
    }
   ],
   "source": [
    "df['bag_of_words'] = df['tweet_text'].apply(get_bag_of_words)"
   ]
  },
  {
   "cell_type": "code",
   "execution_count": 296,
   "metadata": {},
   "outputs": [
    {
     "data": {
      "text/html": [
       "<div>\n",
       "<style scoped>\n",
       "    .dataframe tbody tr th:only-of-type {\n",
       "        vertical-align: middle;\n",
       "    }\n",
       "\n",
       "    .dataframe tbody tr th {\n",
       "        vertical-align: top;\n",
       "    }\n",
       "\n",
       "    .dataframe thead th {\n",
       "        text-align: right;\n",
       "    }\n",
       "</style>\n",
       "<table border=\"1\" class=\"dataframe\">\n",
       "  <thead>\n",
       "    <tr style=\"text-align: right;\">\n",
       "      <th></th>\n",
       "      <th>tweet_text</th>\n",
       "      <th>hashtags</th>\n",
       "      <th>user_mentions</th>\n",
       "      <th>bag_of_words</th>\n",
       "    </tr>\n",
       "  </thead>\n",
       "  <tbody>\n",
       "    <tr>\n",
       "      <th>10002</th>\n",
       "      <td>RT @IFabySalas_: ¿Cómo sería un enfrentamiento...</td>\n",
       "      <td>[]</td>\n",
       "      <td>[IFabySalas_, ForoCandanga]</td>\n",
       "      <td>[RT, @IFabySalas_:, ¿Cómo, sería, un, enfrenta...</td>\n",
       "    </tr>\n",
       "    <tr>\n",
       "      <th>10010</th>\n",
       "      <td>Casi 3 mil mirandinos viven en casas\\ninconclu...</td>\n",
       "      <td>[]</td>\n",
       "      <td>[]</td>\n",
       "      <td>[Casi, 3, mil, mirandinos, viven, en, casas, i...</td>\n",
       "    </tr>\n",
       "    <tr>\n",
       "      <th>12382</th>\n",
       "      <td>Emir de Catar llega a Venezuela para encuentro...</td>\n",
       "      <td>[News, Noticias]</td>\n",
       "      <td>[]</td>\n",
       "      <td>[Emir, de, Catar, llega, a, Venezuela, para, e...</td>\n",
       "    </tr>\n",
       "    <tr>\n",
       "      <th>12397</th>\n",
       "      <td>Senador chileno: \"Chávez sigue vivo en toda Su...</td>\n",
       "      <td>[Noticias, Telesur]</td>\n",
       "      <td>[]</td>\n",
       "      <td>[Senador, chileno:, \"Chávez, sigue, vivo, en, ...</td>\n",
       "    </tr>\n",
       "    <tr>\n",
       "      <th>12400</th>\n",
       "      <td>Un magnate chino es hospitalizado tras colabor...</td>\n",
       "      <td>[Noticias, News]</td>\n",
       "      <td>[]</td>\n",
       "      <td>[Un, magnate, chino, es, hospitalizado, tras, ...</td>\n",
       "    </tr>\n",
       "  </tbody>\n",
       "</table>\n",
       "</div>"
      ],
      "text/plain": [
       "                                              tweet_text             hashtags  \\\n",
       "10002  RT @IFabySalas_: ¿Cómo sería un enfrentamiento...                   []   \n",
       "10010  Casi 3 mil mirandinos viven en casas\\ninconclu...                   []   \n",
       "12382  Emir de Catar llega a Venezuela para encuentro...     [News, Noticias]   \n",
       "12397  Senador chileno: \"Chávez sigue vivo en toda Su...  [Noticias, Telesur]   \n",
       "12400  Un magnate chino es hospitalizado tras colabor...     [Noticias, News]   \n",
       "\n",
       "                     user_mentions  \\\n",
       "10002  [IFabySalas_, ForoCandanga]   \n",
       "10010                           []   \n",
       "12382                           []   \n",
       "12397                           []   \n",
       "12400                           []   \n",
       "\n",
       "                                            bag_of_words  \n",
       "10002  [RT, @IFabySalas_:, ¿Cómo, sería, un, enfrenta...  \n",
       "10010  [Casi, 3, mil, mirandinos, viven, en, casas, i...  \n",
       "12382  [Emir, de, Catar, llega, a, Venezuela, para, e...  \n",
       "12397  [Senador, chileno:, \"Chávez, sigue, vivo, en, ...  \n",
       "12400  [Un, magnate, chino, es, hospitalizado, tras, ...  "
      ]
     },
     "execution_count": 296,
     "metadata": {},
     "output_type": "execute_result"
    }
   ],
   "source": [
    "df[['tweet_text', 'hashtags', 'user_mentions','bag_of_words']].head()"
   ]
  },
  {
   "cell_type": "code",
   "execution_count": 314,
   "metadata": {},
   "outputs": [
    {
     "data": {
      "text/plain": [
       "'¿Realmente participación siete millones de personas en el #Plebiscito inconstitucional de la oposición?… https://t.co/ycs1FyopS3'"
      ]
     },
     "execution_count": 314,
     "metadata": {},
     "output_type": "execute_result"
    }
   ],
   "source": [
    "a_tw"
   ]
  },
  {
   "cell_type": "code",
   "execution_count": 143,
   "metadata": {},
   "outputs": [],
   "source": [
    "import string\n",
    "punct = set(string.punctuation)\n",
    "punct.update('¿', '…')"
   ]
  },
  {
   "cell_type": "markdown",
   "metadata": {},
   "source": [
    "### Create Lexical Diversity Score"
   ]
  },
  {
   "cell_type": "code",
   "execution_count": 196,
   "metadata": {},
   "outputs": [],
   "source": [
    "def one_tweet_lexical_diversity(tweet):\n",
    "    def remove_symbols(word, symbol_set):\n",
    "        return ''.join(char for char in word \n",
    "                        if char not in symbol_set)\n",
    "    \n",
    "    tokens =  [remove_symbols(word.lower(), punct) for word in tweet.split() \n",
    "                            if not(word.startswith(\"http\")) and not(word.startswith('#'))] \n",
    "    \n",
    "    lex_div =  len(set(tokens))/len(tokens)\n",
    "    return lex_div"
   ]
  },
  {
   "cell_type": "code",
   "execution_count": 197,
   "metadata": {},
   "outputs": [],
   "source": [
    "def remove_symbols(word, symbol_set):\n",
    "    return ''.join(char for char in word \n",
    "                    if char not in symbol_set)"
   ]
  },
  {
   "cell_type": "code",
   "execution_count": 297,
   "metadata": {},
   "outputs": [],
   "source": [
    "def grab_user_tweets(tweets_vec):\n",
    "    all_tokens = []\n",
    "    for tweet in tweets_vec:\n",
    "        tokens =  [remove_symbols(word.lower(), punct) for word in tweet.split() \n",
    "                            if not(word.startswith(\"http\")) and not(word.startswith('#'))] \n",
    "        all_tokens += tokens\n",
    "    return all_tokens"
   ]
  },
  {
   "cell_type": "code",
   "execution_count": 262,
   "metadata": {},
   "outputs": [],
   "source": [
    "def user_lexical_diversity(tweets_vec):\n",
    "    tokens = grab_user_tweets(tweets_vec)  \n",
    "    if len(tokens) == 0:\n",
    "        return 0 \n",
    "    return len(set(tokens))/len(tokens)"
   ]
  },
  {
   "cell_type": "code",
   "execution_count": 165,
   "metadata": {},
   "outputs": [],
   "source": [
    "df_usergrp = df.groupby('userid')"
   ]
  },
  {
   "cell_type": "code",
   "execution_count": 266,
   "metadata": {},
   "outputs": [],
   "source": [
    "user_lex_diversity = pd.DataFrame(df_usergrp['tweet_text'].aggregate(diversity)).reset_index()"
   ]
  },
  {
   "cell_type": "code",
   "execution_count": 268,
   "metadata": {},
   "outputs": [],
   "source": [
    "user_lex_diversity = user_lex_diversity.rename(index=str, columns={\"tweet_text\": \"lexical_diversity_score\"})"
   ]
  },
  {
   "cell_type": "code",
   "execution_count": 270,
   "metadata": {},
   "outputs": [],
   "source": [
    "df = pd.merge(df, user_lex_diversity, how = 'left', on = 'userid')"
   ]
  },
  {
   "cell_type": "code",
   "execution_count": 271,
   "metadata": {},
   "outputs": [
    {
     "data": {
      "text/html": [
       "<div>\n",
       "<style scoped>\n",
       "    .dataframe tbody tr th:only-of-type {\n",
       "        vertical-align: middle;\n",
       "    }\n",
       "\n",
       "    .dataframe tbody tr th {\n",
       "        vertical-align: top;\n",
       "    }\n",
       "\n",
       "    .dataframe thead th {\n",
       "        text-align: right;\n",
       "    }\n",
       "</style>\n",
       "<table border=\"1\" class=\"dataframe\">\n",
       "  <thead>\n",
       "    <tr style=\"text-align: right;\">\n",
       "      <th></th>\n",
       "      <th>tweetid</th>\n",
       "      <th>userid</th>\n",
       "      <th>user_display_name</th>\n",
       "      <th>user_screen_name</th>\n",
       "      <th>user_reported_location</th>\n",
       "      <th>user_profile_description</th>\n",
       "      <th>follower_count</th>\n",
       "      <th>following_count</th>\n",
       "      <th>account_creation_date</th>\n",
       "      <th>tweet_text</th>\n",
       "      <th>...</th>\n",
       "      <th>user_mentions</th>\n",
       "      <th>reply_count</th>\n",
       "      <th>like_count</th>\n",
       "      <th>retweet_count</th>\n",
       "      <th>year</th>\n",
       "      <th>month</th>\n",
       "      <th>num_tweets</th>\n",
       "      <th>real_urls</th>\n",
       "      <th>bag_of_words</th>\n",
       "      <th>lexical_diversity_score</th>\n",
       "    </tr>\n",
       "  </thead>\n",
       "  <tbody>\n",
       "    <tr>\n",
       "      <th>0</th>\n",
       "      <td>854809163104440320</td>\n",
       "      <td>L3yGWgp5IaIMnGagIFJp2S8L6GTte0XosR+8fDHTdJ4=</td>\n",
       "      <td>L3yGWgp5IaIMnGagIFJp2S8L6GTte0XosR+8fDHTdJ4=</td>\n",
       "      <td>L3yGWgp5IaIMnGagIFJp2S8L6GTte0XosR+8fDHTdJ4=</td>\n",
       "      <td>NaN</td>\n",
       "      <td>Feliz De LaVida #SiguemeYTesigo #AgradecidaCon...</td>\n",
       "      <td>1314</td>\n",
       "      <td>2210</td>\n",
       "      <td>2016-03-16</td>\n",
       "      <td>Arranca el juicio por la corrupción del exgobe...</td>\n",
       "      <td>...</td>\n",
       "      <td>[]</td>\n",
       "      <td>0.0</td>\n",
       "      <td>0.0</td>\n",
       "      <td>0.0</td>\n",
       "      <td>2017</td>\n",
       "      <td>4</td>\n",
       "      <td>9285</td>\n",
       "      <td>[https://t.co/kWuCmbs0GR, https://t.co/t5ckboq...</td>\n",
       "      <td>[Arranca, el, juicio, por, la, corrupción, del...</td>\n",
       "      <td>1.000000</td>\n",
       "    </tr>\n",
       "    <tr>\n",
       "      <th>1</th>\n",
       "      <td>874722886480736257</td>\n",
       "      <td>ZTnlUDYlN0WIEoy+KX1PcNvoN3sLsw93BEAm2huShng=</td>\n",
       "      <td>ZTnlUDYlN0WIEoy+KX1PcNvoN3sLsw93BEAm2huShng=</td>\n",
       "      <td>ZTnlUDYlN0WIEoy+KX1PcNvoN3sLsw93BEAm2huShng=</td>\n",
       "      <td>Estados Unidos</td>\n",
       "      <td>Model, passionate about politics, follow me an...</td>\n",
       "      <td>986</td>\n",
       "      <td>4037</td>\n",
       "      <td>2017-05-31</td>\n",
       "      <td>Mattis: ‘We are not winning in Afghanistan rig...</td>\n",
       "      <td>...</td>\n",
       "      <td>[]</td>\n",
       "      <td>0.0</td>\n",
       "      <td>0.0</td>\n",
       "      <td>0.0</td>\n",
       "      <td>2017</td>\n",
       "      <td>6</td>\n",
       "      <td>1451</td>\n",
       "      <td>[https://t.co/NR3D2tVAKV, https://t.co/fhEKAGt...</td>\n",
       "      <td>[Mattis:, ‘We, are, not, winning, in, Afghanis...</td>\n",
       "      <td>1.000000</td>\n",
       "    </tr>\n",
       "    <tr>\n",
       "      <th>2</th>\n",
       "      <td>689488058916319234</td>\n",
       "      <td>+uoYQvK+gZIHig5Aim5NboS0CXcxTG0ZdAqp844U=</td>\n",
       "      <td>+uoYQvK+gZIHig5Aim5NboS0CXcxTG0ZdAqp844U=</td>\n",
       "      <td>+uoYQvK+gZIHig5Aim5NboS0CXcxTG0ZdAqp844U=</td>\n",
       "      <td>NaN</td>\n",
       "      <td>ANTI: Chavista, Castrista, Madurista y todo lo...</td>\n",
       "      <td>3413</td>\n",
       "      <td>2208</td>\n",
       "      <td>2013-05-27</td>\n",
       "      <td>Motorizados solicitan destitución de directora...</td>\n",
       "      <td>...</td>\n",
       "      <td>[]</td>\n",
       "      <td>0.0</td>\n",
       "      <td>0.0</td>\n",
       "      <td>0.0</td>\n",
       "      <td>2016</td>\n",
       "      <td>1</td>\n",
       "      <td>154746</td>\n",
       "      <td>[https://t.co/r4NEPUa1Xb]</td>\n",
       "      <td>[Motorizados, solicitan, destitución, de, dire...</td>\n",
       "      <td>0.775510</td>\n",
       "    </tr>\n",
       "    <tr>\n",
       "      <th>3</th>\n",
       "      <td>642432189464838144</td>\n",
       "      <td>QxktQFbfj2TAIHamCgPJ17mrkhHMu6XlCM7dQZXJgmM=</td>\n",
       "      <td>QxktQFbfj2TAIHamCgPJ17mrkhHMu6XlCM7dQZXJgmM=</td>\n",
       "      <td>QxktQFbfj2TAIHamCgPJ17mrkhHMu6XlCM7dQZXJgmM=</td>\n",
       "      <td>Salvemos el Planeta!!</td>\n",
       "      <td>Divertida y coqueta son las palabras que me de...</td>\n",
       "      <td>747</td>\n",
       "      <td>272</td>\n",
       "      <td>2015-05-10</td>\n",
       "      <td>Así fue la llorona que montó María Corina en m...</td>\n",
       "      <td>...</td>\n",
       "      <td>[]</td>\n",
       "      <td>0.0</td>\n",
       "      <td>0.0</td>\n",
       "      <td>0.0</td>\n",
       "      <td>2015</td>\n",
       "      <td>9</td>\n",
       "      <td>112342</td>\n",
       "      <td>[http://t.co/LPpTya0H52, http://t.co/CdJWXAOLVx]</td>\n",
       "      <td>[Así, fue, la, llorona, que, montó, María, Cor...</td>\n",
       "      <td>0.873239</td>\n",
       "    </tr>\n",
       "    <tr>\n",
       "      <th>4</th>\n",
       "      <td>577097570717069312</td>\n",
       "      <td>wHhZVjZKB0OZb27lHj3J5i7Udmr9ROdU5+oqKH3mZ8s=</td>\n",
       "      <td>wHhZVjZKB0OZb27lHj3J5i7Udmr9ROdU5+oqKH3mZ8s=</td>\n",
       "      <td>wHhZVjZKB0OZb27lHj3J5i7Udmr9ROdU5+oqKH3mZ8s=</td>\n",
       "      <td>#Vzla</td>\n",
       "      <td>Mujer de hogar, con valores agradecida de la f...</td>\n",
       "      <td>3705</td>\n",
       "      <td>1470</td>\n",
       "      <td>2014-03-26</td>\n",
       "      <td>Fondos estadounidenses financian terrorismo de...</td>\n",
       "      <td>...</td>\n",
       "      <td>[]</td>\n",
       "      <td>0.0</td>\n",
       "      <td>0.0</td>\n",
       "      <td>0.0</td>\n",
       "      <td>2015</td>\n",
       "      <td>3</td>\n",
       "      <td>92895</td>\n",
       "      <td>[http://t.co/ksZomDtgqU]</td>\n",
       "      <td>[Fondos, estadounidenses, financian, terrorism...</td>\n",
       "      <td>0.925926</td>\n",
       "    </tr>\n",
       "  </tbody>\n",
       "</table>\n",
       "<p>5 rows × 25 columns</p>\n",
       "</div>"
      ],
      "text/plain": [
       "              tweetid                                        userid  \\\n",
       "0  854809163104440320  L3yGWgp5IaIMnGagIFJp2S8L6GTte0XosR+8fDHTdJ4=   \n",
       "1  874722886480736257  ZTnlUDYlN0WIEoy+KX1PcNvoN3sLsw93BEAm2huShng=   \n",
       "2  689488058916319234     +uoYQvK+gZIHig5Aim5NboS0CXcxTG0ZdAqp844U=   \n",
       "3  642432189464838144  QxktQFbfj2TAIHamCgPJ17mrkhHMu6XlCM7dQZXJgmM=   \n",
       "4  577097570717069312  wHhZVjZKB0OZb27lHj3J5i7Udmr9ROdU5+oqKH3mZ8s=   \n",
       "\n",
       "                              user_display_name  \\\n",
       "0  L3yGWgp5IaIMnGagIFJp2S8L6GTte0XosR+8fDHTdJ4=   \n",
       "1  ZTnlUDYlN0WIEoy+KX1PcNvoN3sLsw93BEAm2huShng=   \n",
       "2     +uoYQvK+gZIHig5Aim5NboS0CXcxTG0ZdAqp844U=   \n",
       "3  QxktQFbfj2TAIHamCgPJ17mrkhHMu6XlCM7dQZXJgmM=   \n",
       "4  wHhZVjZKB0OZb27lHj3J5i7Udmr9ROdU5+oqKH3mZ8s=   \n",
       "\n",
       "                               user_screen_name user_reported_location  \\\n",
       "0  L3yGWgp5IaIMnGagIFJp2S8L6GTte0XosR+8fDHTdJ4=                    NaN   \n",
       "1  ZTnlUDYlN0WIEoy+KX1PcNvoN3sLsw93BEAm2huShng=         Estados Unidos   \n",
       "2     +uoYQvK+gZIHig5Aim5NboS0CXcxTG0ZdAqp844U=                    NaN   \n",
       "3  QxktQFbfj2TAIHamCgPJ17mrkhHMu6XlCM7dQZXJgmM=  Salvemos el Planeta!!   \n",
       "4  wHhZVjZKB0OZb27lHj3J5i7Udmr9ROdU5+oqKH3mZ8s=                  #Vzla   \n",
       "\n",
       "                            user_profile_description  follower_count  \\\n",
       "0  Feliz De LaVida #SiguemeYTesigo #AgradecidaCon...            1314   \n",
       "1  Model, passionate about politics, follow me an...             986   \n",
       "2  ANTI: Chavista, Castrista, Madurista y todo lo...            3413   \n",
       "3  Divertida y coqueta son las palabras que me de...             747   \n",
       "4  Mujer de hogar, con valores agradecida de la f...            3705   \n",
       "\n",
       "   following_count account_creation_date  \\\n",
       "0             2210            2016-03-16   \n",
       "1             4037            2017-05-31   \n",
       "2             2208            2013-05-27   \n",
       "3              272            2015-05-10   \n",
       "4             1470            2014-03-26   \n",
       "\n",
       "                                          tweet_text           ...             \\\n",
       "0  Arranca el juicio por la corrupción del exgobe...           ...              \n",
       "1  Mattis: ‘We are not winning in Afghanistan rig...           ...              \n",
       "2  Motorizados solicitan destitución de directora...           ...              \n",
       "3  Así fue la llorona que montó María Corina en m...           ...              \n",
       "4  Fondos estadounidenses financian terrorismo de...           ...              \n",
       "\n",
       "   user_mentions  reply_count  like_count retweet_count  year month  \\\n",
       "0             []          0.0         0.0           0.0  2017     4   \n",
       "1             []          0.0         0.0           0.0  2017     6   \n",
       "2             []          0.0         0.0           0.0  2016     1   \n",
       "3             []          0.0         0.0           0.0  2015     9   \n",
       "4             []          0.0         0.0           0.0  2015     3   \n",
       "\n",
       "   num_tweets                                          real_urls  \\\n",
       "0        9285  [https://t.co/kWuCmbs0GR, https://t.co/t5ckboq...   \n",
       "1        1451  [https://t.co/NR3D2tVAKV, https://t.co/fhEKAGt...   \n",
       "2      154746                          [https://t.co/r4NEPUa1Xb]   \n",
       "3      112342   [http://t.co/LPpTya0H52, http://t.co/CdJWXAOLVx]   \n",
       "4       92895                           [http://t.co/ksZomDtgqU]   \n",
       "\n",
       "                                        bag_of_words  lexical_diversity_score  \n",
       "0  [Arranca, el, juicio, por, la, corrupción, del...                 1.000000  \n",
       "1  [Mattis:, ‘We, are, not, winning, in, Afghanis...                 1.000000  \n",
       "2  [Motorizados, solicitan, destitución, de, dire...                 0.775510  \n",
       "3  [Así, fue, la, llorona, que, montó, María, Cor...                 0.873239  \n",
       "4  [Fondos, estadounidenses, financian, terrorism...                 0.925926  \n",
       "\n",
       "[5 rows x 25 columns]"
      ]
     },
     "execution_count": 271,
     "metadata": {},
     "output_type": "execute_result"
    }
   ],
   "source": [
    "df.head()"
   ]
  },
  {
   "cell_type": "markdown",
   "metadata": {},
   "source": [
    "### Grab Content from URLs"
   ]
  },
  {
   "cell_type": "code",
   "execution_count": 193,
   "metadata": {},
   "outputs": [],
   "source": [
    "import requests\n",
    "from bs4 import BeautifulSoup"
   ]
  },
  {
   "cell_type": "code",
   "execution_count": 279,
   "metadata": {},
   "outputs": [],
   "source": [
    "def grab_url_content(url):\n",
    "    url = url\n",
    "    response = requests.get(url).text\n",
    "    soup = BeautifulSoup(response, \"html.parser\")\n",
    "    title = soup.find('title').decode()\n",
    "    title = title[7:-8]   \n",
    "    return title"
   ]
  },
  {
   "cell_type": "code",
   "execution_count": 276,
   "metadata": {},
   "outputs": [
    {
     "data": {
      "text/plain": [
       "0     [https://t.co/kWuCmbs0GR, https://t.co/t5ckboq...\n",
       "1     [https://t.co/NR3D2tVAKV, https://t.co/fhEKAGt...\n",
       "2                             [https://t.co/r4NEPUa1Xb]\n",
       "3      [http://t.co/LPpTya0H52, http://t.co/CdJWXAOLVx]\n",
       "4                              [http://t.co/ksZomDtgqU]\n",
       "5                             [https://t.co/te5FqhSgCZ]\n",
       "6     [https://t.co/eTM00ubNoO, https://t.co/jubW8ds...\n",
       "7                                                    []\n",
       "8      [http://t.co/UyQj8O8mav, http://t.co/jQMFOVgyys]\n",
       "9     [https://t.co/CFQpfFdnHW, https://t.co/pan3NmB...\n",
       "10    [https://t.co/FfjLTP6Wo0, https://t.co/9y0GR2d...\n",
       "11                                [http://t.co/90uxmj…]\n",
       "12    [https://t.co/Mzvmd6dFKa, https://t.co/Dbe0VRo...\n",
       "13                                                   []\n",
       "14    [https://t.co/rfzbVnoDdh, https://t.co/zj6A0Ca...\n",
       "15                            [https://t.co/aw7j11geLE]\n",
       "16                                                   []\n",
       "17    [https://t.co/qgU3mQR40U, https://t.co/YY25uAq...\n",
       "18    [https://t.co/VfEk0ca1wn, https://t.co/M0VECUV...\n",
       "19                            [https://t.co/zQuITqjfdu]\n",
       "20                            [http://t.co/3WYEOeijzn\"]\n",
       "21                                          [https://…]\n",
       "22                             [http://t.co/syTH3dngwi]\n",
       "23                             [http://t.co/yG9saDUU78]\n",
       "24    [https://t.co/YdfrAXZOPT, https://t.co/Y4kekfD...\n",
       "Name: real_urls, dtype: object"
      ]
     },
     "execution_count": 276,
     "metadata": {},
     "output_type": "execute_result"
    }
   ],
   "source": [
    "df['real_urls'].head(25)"
   ]
  },
  {
   "cell_type": "code",
   "execution_count": 285,
   "metadata": {},
   "outputs": [],
   "source": [
    "def grab_all_urls(urls):\n",
    "    content = []\n",
    "    for url in urls:\n",
    "        if len(url) == 0:\n",
    "            return \"\"\n",
    "        result = grab_url_content (url)\n",
    "        if result == 'Twitter / Account Suspended':\n",
    "            result = ''\n",
    "        content.append( result )\n",
    "    return content"
   ]
  },
  {
   "cell_type": "code",
   "execution_count": 289,
   "metadata": {},
   "outputs": [
    {
     "data": {
      "text/plain": [
       "['FeedsPortal.com']"
      ]
     },
     "execution_count": 289,
     "metadata": {},
     "output_type": "execute_result"
    }
   ],
   "source": [
    "grab_all_urls(df['real_urls'][2])"
   ]
  },
  {
   "cell_type": "code",
   "execution_count": 291,
   "metadata": {},
   "outputs": [
    {
     "data": {
      "text/plain": [
       "['https://t.co/NR3D2tVAKV', 'https://t.co/fhEKAGtUqh']"
      ]
     },
     "execution_count": 291,
     "metadata": {},
     "output_type": "execute_result"
    }
   ],
   "source": [
    "df['real_urls'][:3].apply(grab_all_urls)"
   ]
  },
  {
   "cell_type": "markdown",
   "metadata": {},
   "source": [
    "### Create User/tweet Documents"
   ]
  },
  {
   "cell_type": "code",
   "execution_count": 298,
   "metadata": {},
   "outputs": [],
   "source": [
    "users_df_grp = df.groupby('userid')"
   ]
  },
  {
   "cell_type": "code",
   "execution_count": 302,
   "metadata": {},
   "outputs": [],
   "source": [
    "user_doc = users_df_grp['tweet_text'].apply(grab_user_tweets)"
   ]
  },
  {
   "cell_type": "code",
   "execution_count": 305,
   "metadata": {},
   "outputs": [],
   "source": [
    "user_doc = pd.DataFrame(user_doc).reset_index().rename(index=str, columns={\"tweet_text\": \"tweet_document\"})"
   ]
  },
  {
   "cell_type": "code",
   "execution_count": 307,
   "metadata": {},
   "outputs": [
    {
     "data": {
      "text/html": [
       "<div>\n",
       "<style scoped>\n",
       "    .dataframe tbody tr th:only-of-type {\n",
       "        vertical-align: middle;\n",
       "    }\n",
       "\n",
       "    .dataframe tbody tr th {\n",
       "        vertical-align: top;\n",
       "    }\n",
       "\n",
       "    .dataframe thead th {\n",
       "        text-align: right;\n",
       "    }\n",
       "</style>\n",
       "<table border=\"1\" class=\"dataframe\">\n",
       "  <thead>\n",
       "    <tr style=\"text-align: right;\">\n",
       "      <th></th>\n",
       "      <th>userid</th>\n",
       "      <th>tweet_document</th>\n",
       "    </tr>\n",
       "  </thead>\n",
       "  <tbody>\n",
       "    <tr>\n",
       "      <th>0</th>\n",
       "      <td>+dQ+QlvsYdF8Lald5LNFZRmGAJVayY9jpoeDm4mvMko=</td>\n",
       "      <td>[deaaaadd, si, hoy, no, te, fue, bien, tranqui...</td>\n",
       "    </tr>\n",
       "    <tr>\n",
       "      <th>1</th>\n",
       "      <td>+kKXxTxO9bdLP3qG1Pg8duf8g3LJk2ywVN6+Vr551M=</td>\n",
       "      <td>[lacelis, deberías, cambiarte, pero, de, canal...</td>\n",
       "    </tr>\n",
       "    <tr>\n",
       "      <th>2</th>\n",
       "      <td>+mGUsHi4yPJaHRZAJDORQlejcMd2XylmlIg6HAl5e4k=</td>\n",
       "      <td>[kesaraduque572, holaa, guapa, rt, oficinaship...</td>\n",
       "    </tr>\n",
       "    <tr>\n",
       "      <th>3</th>\n",
       "      <td>+qqdfdDCLuIvMb5qa5h1tu0zpRaI4Kc35u6SCBBGIg8=</td>\n",
       "      <td>[janiot, ayotzinapa, gaza, ferguson, y, donets...</td>\n",
       "    </tr>\n",
       "    <tr>\n",
       "      <th>4</th>\n",
       "      <td>+tWUswUHZ6Wyjd9Po8905nfjk800K5pAwr5EvxHIC8=</td>\n",
       "      <td>[rt, m0nedavenezuela, medalla, conmemorativa, ...</td>\n",
       "    </tr>\n",
       "  </tbody>\n",
       "</table>\n",
       "</div>"
      ],
      "text/plain": [
       "                                         userid  \\\n",
       "0  +dQ+QlvsYdF8Lald5LNFZRmGAJVayY9jpoeDm4mvMko=   \n",
       "1   +kKXxTxO9bdLP3qG1Pg8duf8g3LJk2ywVN6+Vr551M=   \n",
       "2  +mGUsHi4yPJaHRZAJDORQlejcMd2XylmlIg6HAl5e4k=   \n",
       "3  +qqdfdDCLuIvMb5qa5h1tu0zpRaI4Kc35u6SCBBGIg8=   \n",
       "4   +tWUswUHZ6Wyjd9Po8905nfjk800K5pAwr5EvxHIC8=   \n",
       "\n",
       "                                      tweet_document  \n",
       "0  [deaaaadd, si, hoy, no, te, fue, bien, tranqui...  \n",
       "1  [lacelis, deberías, cambiarte, pero, de, canal...  \n",
       "2  [kesaraduque572, holaa, guapa, rt, oficinaship...  \n",
       "3  [janiot, ayotzinapa, gaza, ferguson, y, donets...  \n",
       "4  [rt, m0nedavenezuela, medalla, conmemorativa, ...  "
      ]
     },
     "execution_count": 307,
     "metadata": {},
     "output_type": "execute_result"
    }
   ],
   "source": [
    "user_doc.head()"
   ]
  },
  {
   "cell_type": "code",
   "execution_count": 309,
   "metadata": {},
   "outputs": [],
   "source": [
    "from langdetect import detect"
   ]
  },
  {
   "cell_type": "markdown",
   "metadata": {},
   "source": [
    "### Closing the Loop"
   ]
  },
  {
   "cell_type": "code",
   "execution_count": 326,
   "metadata": {},
   "outputs": [],
   "source": [
    "import gensim\n",
    "from gensim.utils import simple_preprocess\n",
    "from gensim.parsing.preprocessing import STOPWORDS"
   ]
  },
  {
   "cell_type": "code",
   "execution_count": 328,
   "metadata": {},
   "outputs": [],
   "source": [
    "# Create a dictionary from tweets containing the number of times a word appears in the training set."
   ]
  },
  {
   "cell_type": "code",
   "execution_count": 337,
   "metadata": {},
   "outputs": [],
   "source": [
    "dictionary = gensim.corpora.Dictionary(user_doc['tweet_document'])"
   ]
  },
  {
   "cell_type": "code",
   "execution_count": 338,
   "metadata": {},
   "outputs": [
    {
     "data": {
      "text/plain": [
       "242494"
      ]
     },
     "execution_count": 338,
     "metadata": {},
     "output_type": "execute_result"
    }
   ],
   "source": [
    "len(dictionary)"
   ]
  },
  {
   "cell_type": "code",
   "execution_count": 339,
   "metadata": {},
   "outputs": [],
   "source": [
    "dictionary.filter_extremes(no_below=5, no_above=0.5, keep_n=100000)"
   ]
  },
  {
   "cell_type": "code",
   "execution_count": 340,
   "metadata": {},
   "outputs": [
    {
     "data": {
      "text/plain": [
       "62475"
      ]
     },
     "execution_count": 340,
     "metadata": {},
     "output_type": "execute_result"
    }
   ],
   "source": [
    "len(dictionary)"
   ]
  },
  {
   "cell_type": "code",
   "execution_count": 341,
   "metadata": {},
   "outputs": [],
   "source": [
    "# Each Doc, Create Dictionary BoW Counts"
   ]
  },
  {
   "cell_type": "code",
   "execution_count": 342,
   "metadata": {},
   "outputs": [],
   "source": [
    "bow_corpus = [dictionary.doc2bow(doc) for doc in user_doc['tweet_document']]"
   ]
  },
  {
   "cell_type": "code",
   "execution_count": 343,
   "metadata": {},
   "outputs": [
    {
     "data": {
      "text/plain": [
       "307"
      ]
     },
     "execution_count": 343,
     "metadata": {},
     "output_type": "execute_result"
    }
   ],
   "source": [
    "len(bow_corpus)"
   ]
  },
  {
   "cell_type": "code",
   "execution_count": 344,
   "metadata": {},
   "outputs": [],
   "source": [
    "# TF-IDF"
   ]
  },
  {
   "cell_type": "code",
   "execution_count": 346,
   "metadata": {},
   "outputs": [],
   "source": [
    "from gensim import corpora, models\n",
    "from pprint import pprint\n",
    "\n",
    "tfidf = models.TfidfModel(bow_corpus)\n",
    "corpus_tfidf = tfidf[bow_corpus]\n",
    "\n"
   ]
  },
  {
   "cell_type": "code",
   "execution_count": 347,
   "metadata": {},
   "outputs": [],
   "source": [
    "# LDA on BoW"
   ]
  },
  {
   "cell_type": "code",
   "execution_count": 348,
   "metadata": {},
   "outputs": [],
   "source": [
    "lda_model = gensim.models.LdaMulticore(bow_corpus, num_topics=10, id2word=dictionary, passes=2, workers=2)"
   ]
  },
  {
   "cell_type": "code",
   "execution_count": 351,
   "metadata": {},
   "outputs": [
    {
     "name": "stdout",
     "output_type": "stream",
     "text": [
      "Topic: 0 \n",
      "Words: 0.003*\"islámico\" + 0.003*\"siria\" + 0.002*\"ruso\" + 0.002*\"méxico\" + 0.002*\"españa\" + 0.002*\"cuba\" + 0.002*\"argentina\" + 0.002*\"putin\" + 0.001*\"muertos\" + 0.001*\"fanb\"\n",
      "Topic: 1 \n",
      "Words: 0.004*\"forocandanga\" + 0.002*\"obama\" + 0.002*\"cuba\" + 0.001*\"islámico\" + 0.001*\"onu\" + 0.001*\"méxico\" + 0.001*\"anat5\" + 0.001*\"muertos\" + 0.001*\"putin\" + 0.001*\"frontera\"\n",
      "Topic: 2 \n",
      "Words: 0.008*\"forocandanga\" + 0.005*\"conelmazodando\" + 0.003*\"siria\" + 0.003*\"méxico\" + 0.003*\"anat5\" + 0.003*\"yudithh99\" + 0.002*\"islámico\" + 0.002*\"cuba\" + 0.002*\"argentina\" + 0.002*\"muertos\"\n",
      "Topic: 3 \n",
      "Words: 0.007*\"ojo\" + 0.004*\"islámico\" + 0.003*\"siria\" + 0.003*\"putin\" + 0.002*\"ruso\" + 0.002*\"muertos\" + 0.002*\"vladimirpadrino\" + 0.002*\"ucrania\" + 0.002*\"méxico\" + 0.002*\"onu\"\n",
      "Topic: 4 \n",
      "Words: 0.008*\"vladimirpadrino\" + 0.007*\"fanb\" + 0.004*\"ceofanb\" + 0.004*\"ejercitofanb\" + 0.003*\"gnboficial\" + 0.003*\"armadafanb\" + 0.003*\"gnb\" + 0.002*\"redimain\" + 0.002*\"gestión\" + 0.002*\"frontera\"\n",
      "Topic: 5 \n",
      "Words: 0.002*\"siria\" + 0.002*\"cuba\" + 0.002*\"islámico\" + 0.002*\"onu\" + 0.002*\"españa\" + 0.002*\"méxico\" + 0.002*\"obama\" + 0.002*\"ei\" + 0.002*\"avión\" + 0.002*\"ruso\"\n",
      "Topic: 6 \n",
      "Words: 0.002*\"forocandanga\" + 0.002*\"mire\" + 0.002*\"islámico\" + 0.002*\"méxico\" + 0.002*\"obama\" + 0.002*\"the\" + 0.002*\"vladimirpadrino\" + 0.002*\"muertos\" + 0.001*\"siria\" + 0.001*\"españa\"\n",
      "Topic: 7 \n",
      "Words: 0.003*\"forocandanga\" + 0.002*\"partidopsuv\" + 0.002*\"presidencialven\" + 0.002*\"régimen\" + 0.002*\"jacquelinepsuv\" + 0.001*\"frontera\" + 0.001*\"obama\" + 0.001*\"laiguanatv\" + 0.001*\"patriciadorta40\" + 0.001*\"¡el\"\n",
      "Topic: 8 \n",
      "Words: 0.004*\"forocandanga\" + 0.003*\"siria\" + 0.003*\"islámico\" + 0.002*\"méxico\" + 0.002*\"ucrania\" + 0.002*\"españa\" + 0.002*\"ruso\" + 0.002*\"muertos\" + 0.002*\"putin\" + 0.002*\"onu\"\n",
      "Topic: 9 \n",
      "Words: 0.003*\"islámico\" + 0.003*\"méxico\" + 0.003*\"forocandanga\" + 0.002*\"cuba\" + 0.002*\"siria\" + 0.002*\"ruso\" + 0.002*\"irán\" + 0.002*\"españa\" + 0.002*\"fanb\" + 0.002*\"muertos\"\n"
     ]
    }
   ],
   "source": [
    "for idx, topic in lda_model.print_topics(-1):\n",
    "    print('Topic: {} \\nWords: {}'.format(idx, topic))"
   ]
  },
  {
   "cell_type": "code",
   "execution_count": null,
   "metadata": {},
   "outputs": [],
   "source": []
  },
  {
   "cell_type": "code",
   "execution_count": 349,
   "metadata": {},
   "outputs": [],
   "source": [
    "# LDA on TF-IDF"
   ]
  },
  {
   "cell_type": "code",
   "execution_count": 350,
   "metadata": {},
   "outputs": [],
   "source": [
    "lda_model_tfidf = gensim.models.LdaMulticore(corpus_tfidf, num_topics=10, id2word=dictionary, passes=2, workers=4)"
   ]
  },
  {
   "cell_type": "code",
   "execution_count": 352,
   "metadata": {},
   "outputs": [
    {
     "name": "stdout",
     "output_type": "stream",
     "text": [
      "Topic: 0 \n",
      "Words: 0.000*\"golpeados\" + 0.000*\"elnacionalweb\" + 0.000*\"animo\" + 0.000*\"guardianesl\" + 0.000*\"hectorodriguez\" + 0.000*\"genero\" + 0.000*\"msc\" + 0.000*\"minmujer\" + 0.000*\"ovacionve\" + 0.000*\"ayúdame\"\n",
      "Topic: 1 \n",
      "Words: 0.001*\"vladimirpadrino\" + 0.000*\"esequibovzla\" + 0.000*\"yudithh99\" + 0.000*\"ceofanb\" + 0.000*\"fanb\" + 0.000*\"redimain\" + 0.000*\"ejercitofanb\" + 0.000*\"armadafanb\" + 0.000*\"gnboficial\" + 0.000*\"encuentro\"\n",
      "Topic: 2 \n",
      "Words: 0.000*\"ttejuanescalona\" + 0.000*\"cocodrilosdeccs\" + 0.000*\"mincioficial\" + 0.000*\"aki\" + 0.000*\"angelicarojas24\" + 0.000*\"liviarevenga\" + 0.000*\"laenamoran\" + 0.000*\"logicademujeres\" + 0.000*\"milicia\" + 0.000*\"posted\"\n",
      "Topic: 3 \n",
      "Words: 0.000*\"móvildisponible\" + 0.000*\"store\" + 0.000*\"vladimirpadrino\" + 0.000*\"play\" + 0.000*\"mire\" + 0.000*\"app\" + 0.000*\"ceofanb\" + 0.000*\"google\" + 0.000*\"lt3\" + 0.000*\"fil0s0fia\"\n",
      "Topic: 4 \n",
      "Words: 0.000*\"hanthonycoello\" + 0.000*\"eterno\" + 0.000*\"ojo\" + 0.000*\"endycontreras\" + 0.000*\"sorayaachkar\" + 0.000*\"hola\" + 0.000*\"corpocapitalgdc\" + 0.000*\"hectorodriguez\" + 0.000*\"jacquelinepsuv\" + 0.000*\"olasocialistam\"\n",
      "Topic: 5 \n",
      "Words: 0.000*\"lt3\" + 0.000*\"hola\" + 0.000*\"store\" + 0.000*\"luislopezpsuv\" + 0.000*\"mariafabella85\" + 0.000*\"¡me\" + 0.000*\"play\" + 0.000*\"app\" + 0.000*\"jchacon2021\" + 0.000*\"ft\"\n",
      "Topic: 6 \n",
      "Words: 0.000*\"vladimirpadrino\" + 0.000*\"islámico\" + 0.000*\"fanb\" + 0.000*\"siria\" + 0.000*\"ruso\" + 0.000*\"putin\" + 0.000*\"méxico\" + 0.000*\"gnb\" + 0.000*\"ucrania\" + 0.000*\"ei\"\n",
      "Topic: 7 \n",
      "Words: 0.000*\"ejercitofanb\" + 0.000*\"davidparrapsuv\" + 0.000*\"gerardbarrera\" + 0.000*\"sandinomarcano\" + 0.000*\"vladimirpadrino\" + 0.000*\"vzlaestudioonce\" + 0.000*\"ke\" + 0.000*\"poeticaacciones\" + 0.000*\"fanb\" + 0.000*\"ceofanb\"\n",
      "Topic: 8 \n",
      "Words: 0.001*\"vladimirpadrino\" + 0.001*\"ejercitofanb\" + 0.001*\"ceofanb\" + 0.001*\"redimain\" + 0.001*\"armadafanb\" + 0.001*\"fanb\" + 0.001*\"gnboficial\" + 0.000*\"aviacionfanb\" + 0.000*\"📲\" + 0.000*\"🔥martes\"\n",
      "Topic: 9 \n",
      "Words: 0.000*\"actuariojlperez\" + 0.000*\"tkeyvins\" + 0.000*\"facebook\" + 0.000*\"6topodermovil\" + 0.000*\"jacquelinepsuv\" + 0.000*\"posted\" + 0.000*\"voten\" + 0.000*\"jpsuvfinanzas\" + 0.000*\"rnvinformativo\" + 0.000*\"reinaldoi\"\n"
     ]
    }
   ],
   "source": [
    "for idx, topic in lda_model_tfidf.print_topics(-1):\n",
    "    print('Topic: {} \\nWords: {}'.format(idx, topic))"
   ]
  },
  {
   "cell_type": "code",
   "execution_count": 353,
   "metadata": {},
   "outputs": [],
   "source": [
    "# Attempt to Visualize"
   ]
  },
  {
   "cell_type": "code",
   "execution_count": 355,
   "metadata": {},
   "outputs": [],
   "source": [
    "import pyLDAvis.gensim"
   ]
  },
  {
   "cell_type": "code",
   "execution_count": 356,
   "metadata": {},
   "outputs": [
    {
     "name": "stderr",
     "output_type": "stream",
     "text": [
      "/anaconda3/lib/python3.6/site-packages/pyLDAvis/_prepare.py:257: FutureWarning: Sorting because non-concatenation axis is not aligned. A future version\n",
      "of pandas will change to not sort by default.\n",
      "\n",
      "To accept the future behavior, pass 'sort=False'.\n",
      "\n",
      "To retain the current behavior and silence the warning, pass 'sort=True'.\n",
      "\n",
      "  return pd.concat([default_term_info] + list(topic_dfs))\n"
     ]
    },
    {
     "data": {
      "text/html": [
       "\n",
       "<link rel=\"stylesheet\" type=\"text/css\" href=\"https://cdn.rawgit.com/bmabey/pyLDAvis/files/ldavis.v1.0.0.css\">\n",
       "\n",
       "\n",
       "<div id=\"ldavis_el6513967457968008301137930\"></div>\n",
       "<script type=\"text/javascript\">\n",
       "\n",
       "var ldavis_el6513967457968008301137930_data = {\"mdsDat\": {\"x\": [0.02061376592939336, -0.00011611811926133872, -0.002444799958778961, -0.004255909932176491, 0.0006167112769524182, -0.0037185947673199467, -0.0022634649449184813, -0.0023669945555291447, -0.002093802007935914, -0.003970792920425486], \"y\": [0.0009863233123101397, -0.006631738578145691, 0.002026093798542882, 0.001783582032457086, -0.0011039131890160177, -0.0005616888996949271, 0.0011245188720489818, 0.0010940057226643074, 0.00014010347244528828, 0.0011427134563879579], \"topics\": [1, 2, 3, 4, 5, 6, 7, 8, 9, 10], \"cluster\": [1, 1, 1, 1, 1, 1, 1, 1, 1, 1], \"Freq\": [77.94261169433594, 9.447358131408691, 1.967387318611145, 1.8328510522842407, 1.8000493049621582, 1.6648709774017334, 1.4012513160705566, 1.3621315956115723, 1.3612008094787598, 1.220292091369629]}, \"tinfo\": {\"Category\": [\"Default\", \"Default\", \"Default\", \"Default\", \"Default\", \"Default\", \"Default\", \"Default\", \"Default\", \"Default\", \"Default\", \"Default\", \"Default\", \"Default\", \"Default\", \"Default\", \"Default\", \"Default\", \"Default\", \"Default\", \"Default\", \"Default\", \"Default\", \"Default\", \"Default\", \"Default\", \"Default\", \"Default\", \"Default\", \"Default\", \"Topic1\", \"Topic1\", \"Topic1\", \"Topic1\", \"Topic1\", \"Topic1\", \"Topic1\", \"Topic1\", \"Topic1\", \"Topic1\", \"Topic1\", \"Topic1\", \"Topic1\", \"Topic1\", \"Topic1\", \"Topic1\", \"Topic1\", \"Topic1\", \"Topic1\", \"Topic1\", \"Topic1\", \"Topic1\", \"Topic1\", \"Topic1\", \"Topic1\", \"Topic1\", \"Topic1\", \"Topic1\", \"Topic1\", \"Topic1\", \"Topic1\", \"Topic1\", \"Topic1\", \"Topic1\", \"Topic1\", \"Topic1\", \"Topic1\", \"Topic1\", \"Topic1\", \"Topic1\", \"Topic1\", \"Topic1\", \"Topic1\", \"Topic1\", \"Topic1\", \"Topic1\", \"Topic1\", \"Topic1\", \"Topic1\", \"Topic1\", \"Topic2\", \"Topic2\", \"Topic2\", \"Topic2\", \"Topic2\", \"Topic2\", \"Topic2\", \"Topic2\", \"Topic2\", \"Topic2\", \"Topic2\", \"Topic2\", \"Topic2\", \"Topic2\", \"Topic2\", \"Topic2\", \"Topic2\", \"Topic2\", \"Topic2\", \"Topic2\", \"Topic2\", \"Topic2\", \"Topic2\", \"Topic2\", \"Topic2\", \"Topic2\", \"Topic2\", \"Topic2\", \"Topic2\", \"Topic2\", \"Topic2\", \"Topic2\", \"Topic2\", \"Topic2\", \"Topic2\", \"Topic2\", \"Topic2\", \"Topic2\", \"Topic2\", \"Topic2\", \"Topic2\", \"Topic2\", \"Topic2\", \"Topic2\", \"Topic2\", \"Topic2\", \"Topic2\", \"Topic2\", \"Topic2\", \"Topic2\", \"Topic2\", \"Topic3\", \"Topic3\", \"Topic3\", \"Topic3\", \"Topic3\", \"Topic3\", \"Topic3\", \"Topic3\", \"Topic3\", \"Topic3\", \"Topic3\", \"Topic3\", \"Topic3\", \"Topic3\", \"Topic3\", \"Topic3\", \"Topic3\", \"Topic3\", \"Topic3\", \"Topic3\", \"Topic3\", \"Topic3\", \"Topic3\", \"Topic3\", \"Topic3\", \"Topic3\", \"Topic3\", \"Topic3\", \"Topic3\", \"Topic3\", \"Topic3\", \"Topic3\", \"Topic3\", \"Topic3\", \"Topic3\", \"Topic3\", \"Topic3\", \"Topic3\", \"Topic3\", \"Topic3\", \"Topic3\", \"Topic3\", \"Topic4\", \"Topic4\", \"Topic4\", \"Topic4\", \"Topic4\", \"Topic4\", \"Topic4\", \"Topic4\", \"Topic4\", \"Topic4\", \"Topic4\", \"Topic4\", \"Topic4\", \"Topic4\", \"Topic4\", \"Topic4\", \"Topic4\", \"Topic4\", \"Topic4\", \"Topic4\", \"Topic4\", \"Topic4\", \"Topic4\", \"Topic4\", \"Topic4\", \"Topic4\", \"Topic4\", \"Topic4\", \"Topic4\", \"Topic4\", \"Topic4\", \"Topic4\", \"Topic4\", \"Topic4\", \"Topic4\", \"Topic4\", \"Topic4\", \"Topic4\", \"Topic4\", \"Topic4\", \"Topic4\", \"Topic4\", \"Topic4\", \"Topic4\", \"Topic4\", \"Topic5\", \"Topic5\", \"Topic5\", \"Topic5\", \"Topic5\", \"Topic5\", \"Topic5\", \"Topic5\", \"Topic5\", \"Topic5\", \"Topic5\", \"Topic5\", \"Topic5\", \"Topic5\", \"Topic5\", \"Topic5\", \"Topic5\", \"Topic5\", \"Topic5\", \"Topic5\", \"Topic5\", \"Topic5\", \"Topic5\", \"Topic5\", \"Topic5\", \"Topic5\", \"Topic5\", \"Topic5\", \"Topic5\", \"Topic5\", \"Topic5\", \"Topic5\", \"Topic5\", \"Topic5\", \"Topic5\", \"Topic5\", \"Topic5\", \"Topic5\", \"Topic5\", \"Topic5\", \"Topic5\", \"Topic5\", \"Topic5\", \"Topic5\", \"Topic5\", \"Topic5\", \"Topic5\", \"Topic5\", \"Topic5\", \"Topic6\", \"Topic6\", \"Topic6\", \"Topic6\", \"Topic6\", \"Topic6\", \"Topic6\", \"Topic6\", \"Topic6\", \"Topic6\", \"Topic6\", \"Topic6\", \"Topic6\", \"Topic6\", \"Topic6\", \"Topic6\", \"Topic6\", \"Topic6\", \"Topic6\", \"Topic6\", \"Topic6\", \"Topic6\", \"Topic6\", \"Topic6\", \"Topic6\", \"Topic6\", \"Topic6\", \"Topic6\", \"Topic6\", \"Topic6\", \"Topic6\", \"Topic6\", \"Topic6\", \"Topic6\", \"Topic6\", \"Topic6\", \"Topic6\", \"Topic6\", \"Topic6\", \"Topic6\", \"Topic6\", \"Topic6\", \"Topic6\", \"Topic6\", \"Topic6\", \"Topic6\", \"Topic6\", \"Topic6\", \"Topic7\", \"Topic7\", \"Topic7\", \"Topic7\", \"Topic7\", \"Topic7\", \"Topic7\", \"Topic7\", \"Topic7\", \"Topic7\", \"Topic7\", \"Topic7\", \"Topic7\", \"Topic7\", \"Topic7\", \"Topic7\", \"Topic7\", \"Topic7\", \"Topic7\", \"Topic7\", \"Topic7\", \"Topic7\", \"Topic7\", \"Topic7\", \"Topic7\", \"Topic7\", \"Topic7\", \"Topic7\", \"Topic7\", \"Topic7\", \"Topic7\", \"Topic7\", \"Topic7\", \"Topic7\", \"Topic7\", \"Topic7\", \"Topic7\", \"Topic7\", \"Topic7\", \"Topic7\", \"Topic7\", \"Topic7\", \"Topic7\", \"Topic8\", \"Topic8\", \"Topic8\", \"Topic8\", \"Topic8\", \"Topic8\", \"Topic8\", \"Topic8\", \"Topic8\", \"Topic8\", \"Topic8\", \"Topic8\", \"Topic8\", \"Topic8\", \"Topic8\", \"Topic8\", \"Topic8\", \"Topic8\", \"Topic8\", \"Topic8\", \"Topic8\", \"Topic8\", \"Topic8\", \"Topic8\", \"Topic8\", \"Topic8\", \"Topic8\", \"Topic8\", \"Topic8\", \"Topic8\", \"Topic8\", \"Topic8\", \"Topic8\", \"Topic8\", \"Topic8\", \"Topic8\", \"Topic8\", \"Topic8\", \"Topic8\", \"Topic8\", \"Topic9\", \"Topic9\", \"Topic9\", \"Topic9\", \"Topic9\", \"Topic9\", \"Topic9\", \"Topic9\", \"Topic9\", \"Topic9\", \"Topic9\", \"Topic9\", \"Topic9\", \"Topic9\", \"Topic9\", \"Topic9\", \"Topic9\", \"Topic9\", \"Topic9\", \"Topic9\", \"Topic9\", \"Topic9\", \"Topic9\", \"Topic9\", \"Topic9\", \"Topic9\", \"Topic9\", \"Topic9\", \"Topic9\", \"Topic9\", \"Topic9\", \"Topic9\", \"Topic9\", \"Topic9\", \"Topic9\", \"Topic9\", \"Topic9\", \"Topic9\", \"Topic9\", \"Topic9\", \"Topic9\", \"Topic9\", \"Topic9\", \"Topic9\", \"Topic9\", \"Topic9\", \"Topic9\", \"Topic9\", \"Topic9\", \"Topic9\", \"Topic10\", \"Topic10\", \"Topic10\", \"Topic10\", \"Topic10\", \"Topic10\", \"Topic10\", \"Topic10\", \"Topic10\", \"Topic10\", \"Topic10\", \"Topic10\", \"Topic10\", \"Topic10\", \"Topic10\", \"Topic10\", \"Topic10\", \"Topic10\", \"Topic10\", \"Topic10\", \"Topic10\", \"Topic10\", \"Topic10\", \"Topic10\", \"Topic10\", \"Topic10\", \"Topic10\", \"Topic10\", \"Topic10\", \"Topic10\", \"Topic10\", \"Topic10\", \"Topic10\", \"Topic10\", \"Topic10\", \"Topic10\", \"Topic10\", \"Topic10\", \"Topic10\", \"Topic10\", \"Topic10\"], \"Freq\": [3.0, 2.0, 1.0, 1.0, 1.0, 1.0, 1.0, 1.0, 0.0, 1.0, 1.0, 0.0, 0.0, 1.0, 1.0, 1.0, 1.0, 0.0, 1.0, 0.0, 0.0, 0.0, 0.0, 0.0, 0.0, 1.0, 1.0, 0.0, 0.0, 0.0, 2.3685827255249023, 1.8237289190292358, 1.5756131410598755, 1.7051928043365479, 1.5145268440246582, 1.5715508460998535, 1.8783668279647827, 1.1715919971466064, 1.0402311086654663, 1.290789246559143, 1.1575515270233154, 1.2210137844085693, 1.2759766578674316, 1.2785342931747437, 1.3111205101013184, 1.0119060277938843, 1.513246774673462, 0.9218158721923828, 0.5878504514694214, 1.0706709623336792, 0.7993105053901672, 0.769087553024292, 0.8972293734550476, 1.4061031341552734, 0.9354076385498047, 0.8827592730522156, 1.163614273071289, 0.9831123352050781, 1.1952065229415894, 0.8396979570388794, 1.6558105945587158, 1.1801375150680542, 1.0343949794769287, 0.9270299673080444, 1.3420257568359375, 1.0684701204299927, 1.2251701354980469, 1.1129698753356934, 1.3514548540115356, 1.1767215728759766, 1.174410343170166, 1.1454927921295166, 1.583632469177246, 1.2168829441070557, 2.0829336643218994, 2.370407819747925, 1.302190899848938, 1.1762665510177612, 1.237626075744629, 1.2179595232009888, 0.217526376247406, 0.2082955241203308, 0.14422789216041565, 0.14334195852279663, 0.19416415691375732, 0.06592417508363724, 0.06559548527002335, 0.07256501168012619, 0.06482387334108353, 0.06147892400622368, 0.45854485034942627, 0.057828158140182495, 0.05293622240424156, 0.16053900122642517, 0.06318420171737671, 0.06350181251764297, 0.12238847464323044, 0.4552164077758789, 0.046269383281469345, 0.10462313890457153, 0.13829337060451508, 0.05714039131999016, 0.06676508486270905, 0.06174856424331665, 0.04832509160041809, 0.05676933750510216, 0.04499915987253189, 0.0592009574174881, 0.04525133594870567, 0.04784839227795601, 0.25370296835899353, 0.14805617928504944, 0.5361799597740173, 0.5107458829879761, 0.3547697961330414, 0.6953611373901367, 0.12144333124160767, 0.08481448888778687, 0.4160538911819458, 0.12934750318527222, 0.07904218137264252, 0.10750921070575714, 0.13737206161022186, 0.090984046459198, 0.09724155068397522, 0.10924416035413742, 0.09224865585565567, 0.1128467470407486, 0.10185900330543518, 0.10059656202793121, 0.0987282320857048, 0.020145053043961525, 0.019313499331474304, 0.015732157975435257, 0.015683123841881752, 0.01729324646294117, 0.012001427821815014, 0.013658762909471989, 0.014577985741198063, 0.01115889847278595, 0.014540819451212883, 0.013921106234192848, 0.010848313570022583, 0.009380912408232689, 0.009435652755200863, 0.009358028881251812, 0.009171001613140106, 0.008833585307002068, 0.009223945438861847, 0.009071451611816883, 0.009243474341928959, 0.01195945218205452, 0.00898466631770134, 0.007925396785140038, 0.011567418463528156, 0.00824393518269062, 0.007565898820757866, 0.0074395714327692986, 0.007486313581466675, 0.008213221095502377, 0.007637903559952974, 0.011857083067297935, 0.011033816263079643, 0.040194202214479446, 0.01072351261973381, 0.02006739005446434, 0.01761784218251705, 0.009034286253154278, 0.012297900393605232, 0.010658069513738155, 0.010006314143538475, 0.009505069814622402, 0.009570115245878696, 0.018008289858698845, 0.017505673691630363, 0.014221470803022385, 0.011885732412338257, 0.029733065515756607, 0.018994512036442757, 0.01084866188466549, 0.009575123898684978, 0.010582896880805492, 0.01795968972146511, 0.011919149197638035, 0.009070429019629955, 0.011901664547622204, 0.008413838222622871, 0.008571241982281208, 0.007554495241492987, 0.00753553444519639, 0.0077155521139502525, 0.007597965653985739, 0.00740806944668293, 0.008263635449111462, 0.0071836854331195354, 0.0072853160090744495, 0.00701348390430212, 0.0069208028726279736, 0.006989124231040478, 0.009736340492963791, 0.007788561750203371, 0.0068394457921385765, 0.006476284470409155, 0.020455649122595787, 0.014273361302912235, 0.014447004534304142, 0.00873804371803999, 0.008735031820833683, 0.01150093786418438, 0.013096237555146217, 0.01296620350331068, 0.00919270422309637, 0.010204220190644264, 0.011803057976067066, 0.010904940776526928, 0.010299662128090858, 0.009868111461400986, 0.0089225759729743, 0.017605122178792953, 0.016298899427056313, 0.020054204389452934, 0.01589423418045044, 0.015695156529545784, 0.015041702426970005, 0.016365572810173035, 0.015052812173962593, 0.014251568354666233, 0.012820376083254814, 0.012240481562912464, 0.012824881821870804, 0.01107289269566536, 0.009818769991397858, 0.009090932086110115, 0.010585103183984756, 0.008650504052639008, 0.008528260514140129, 0.008868065662682056, 0.0075087477453053, 0.00827347207814455, 0.007369040045887232, 0.007744065951555967, 0.007111140061169863, 0.006577393040060997, 0.006554740481078625, 0.006562387105077505, 0.006573139224201441, 0.038374513387680054, 0.009969844482839108, 0.04190954566001892, 0.036448486149311066, 0.02138839289546013, 0.03468276932835579, 0.05936093628406525, 0.03756212815642357, 0.031146274879574776, 0.034949734807014465, 0.03704935684800148, 0.018787313252687454, 0.019603922963142395, 0.013107194565236568, 0.014285565353929996, 0.013016823679208755, 0.01282813586294651, 0.013211561366915703, 0.014893817715346813, 0.013490996323525906, 0.013000459410250187, 0.021298104897141457, 0.017718100920319557, 0.017422590404748917, 0.01273804996162653, 0.01180423703044653, 0.010983400046825409, 0.010432914830744267, 0.010029269382357597, 0.009203450754284859, 0.009013194590806961, 0.010410256683826447, 0.008418919518589973, 0.008745102211833, 0.009992693550884724, 0.008136061020195484, 0.01490467507392168, 0.007567333988845348, 0.008271104656159878, 0.006777339614927769, 0.006379582453519106, 0.007451798766851425, 0.008052671328186989, 0.005793171003460884, 0.006190636660903692, 0.008718556724488735, 0.005822200793772936, 0.005171744618564844, 0.008681067265570164, 0.0051942733116447926, 0.005303644109517336, 0.007237457204610109, 0.008907471783459187, 0.0073001934215426445, 0.015924936160445213, 0.01264139823615551, 0.014398203231394291, 0.023792879655957222, 0.00960045587271452, 0.008352038450539112, 0.009251686744391918, 0.010437003336846828, 0.01643441803753376, 0.011908075772225857, 0.01368388719856739, 0.012802363373339176, 0.011248358525335789, 0.009426932781934738, 0.009422608651220798, 0.016875801607966423, 0.01375318318605423, 0.013945523649454117, 0.012362198904156685, 0.010939683765172958, 0.009587440639734268, 0.009839214384555817, 0.008404284715652466, 0.007846172899007797, 0.00773513363674283, 0.0077399215660989285, 0.008417672477662563, 0.007525856606662273, 0.007452624384313822, 0.007161549758166075, 0.006879213731735945, 0.006859692744910717, 0.0071034738793969154, 0.006677175872027874, 0.006569913122802973, 0.00670762499794364, 0.006890744436532259, 0.007688587065786123, 0.006708175875246525, 0.006109299138188362, 0.007517465390264988, 0.005706807132810354, 0.006067381240427494, 0.005509424023330212, 0.005271103233098984, 0.008362642489373684, 0.01617272198200226, 0.014460175298154354, 0.010684582404792309, 0.012827943079173565, 0.011433134786784649, 0.007750092074275017, 0.01002479624003172, 0.011131583712995052, 0.008281473070383072, 0.008900695480406284, 0.007650140672922134, 0.007171909790486097, 0.01182644721120596, 0.01052318699657917, 0.009843963198363781, 0.008950715884566307, 0.008578398264944553, 0.006917894817888737, 0.006629256531596184, 0.008599784225225449, 0.008852798491716385, 0.006624024827033281, 0.0061942036263644695, 0.0059947241097688675, 0.009298725984990597, 0.0062726628966629505, 0.005807863548398018, 0.005593901965767145, 0.005566373001784086, 0.00682023772969842, 0.005457308609038591, 0.005311473272740841, 0.005409989971667528, 0.005156493745744228, 0.0049617416225373745, 0.004878165666013956, 0.004712073132395744, 0.004801691509783268, 0.012705869041383266, 0.004757177084684372, 0.005478841718286276, 0.004505354445427656, 0.006203083321452141, 0.006037211511284113, 0.011021084152162075, 0.006646734196692705, 0.008718762546777725, 0.0057294173166155815, 0.0070922719314694405, 0.006769003812223673, 0.006477506831288338, 0.0057618869468569756, 0.02572145126760006, 0.018335014581680298, 0.010759026743471622, 0.01449784729629755, 0.009041600860655308, 0.007933549582958221, 0.008313821628689766, 0.007677125278860331, 0.007410360500216484, 0.007728752680122852, 0.006687169428914785, 0.009588777087628841, 0.005698409862816334, 0.00629606656730175, 0.006139526609331369, 0.005995395593345165, 0.0051720719784498215, 0.005136947147548199, 0.005163989495486021, 0.005041724536567926, 0.014106898568570614, 0.0048716142773628235, 0.005052091088145971, 0.005684297997504473, 0.004872441291809082, 0.014787374064326286, 0.004450870677828789, 0.0045176162384450436, 0.0057656429708004, 0.004385198932141066, 0.012292653322219849, 0.010815178975462914, 0.007167835254222155, 0.0105467913672328, 0.00787956453859806, 0.007061072159558535, 0.006326134782284498, 0.01068402174860239, 0.006809087470173836, 0.0125749371945858, 0.011424541473388672, 0.01290824357420206, 0.014807640574872494, 0.007028027903288603, 0.00886051170527935, 0.009659855626523495, 0.00840288121253252, 0.008955694735050201, 0.008051126264035702, 0.007611817680299282, 0.011043380945920944, 0.008679402992129326, 0.007656525820493698, 0.00716825295239687, 0.007187502924352884, 0.006374439224600792, 0.006167280953377485, 0.006016498431563377, 0.005727465730160475, 0.005468158982694149, 0.00641681207343936, 0.006242333445698023, 0.0050192479975521564, 0.004938913509249687, 0.0050769043155014515, 0.004667706321924925, 0.004847101867198944, 0.006823840085417032, 0.0048093837685883045, 0.0053872112184762955, 0.004240710288286209, 0.004130702931433916, 0.004021305590867996, 0.00395872350782156, 0.004209717269986868, 0.005243307910859585, 0.0041061993688344955, 0.004384343046694994, 0.004128720611333847, 0.004799040034413338, 0.004591982811689377, 0.0056882924400269985, 0.008932625874876976, 0.007467836141586304, 0.005438552238047123, 0.006077335681766272, 0.0050716707482934, 0.0049852947704494, 0.0049103922210633755, 0.005796975921839476, 0.005177354905754328], \"Term\": [\"vladimirpadrino\", \"fanb\", \"ejercitofanb\", \"ceofanb\", \"gnboficial\", \"armadafanb\", \"redimain\", \"actuariojlperez\", \"esequibovzla\", \"jacquelinepsuv\", \"google\", \"yudithh99\", \"aviacionfanb\", \"rediandes\", \"the\", \"saleh\\u201d\", \"frontera\", \"fil0s0fia\", \"gnb\", \"encuentro\", \"poeticaacciones\", \"facebook\", \"eterno\", \"vzlaestudioonce\", \"hectorodriguez\", \"laiguanatv\", \"militares\", \"mincioficial\", \"prensafanb\", \"hola\", \"isl\\u00e1mico\", \"ruso\", \"ucrania\", \"putin\", \"muertos\", \"ei\", \"siria\", \"rusa\", \"patriciadorta40\", \"rusos\", \"mosc\\u00fa\", \"polic\\u00eda\", \"grecia\", \"argentina\", \"ir\\u00e1n\", \"crisis\", \"turqu\\u00eda\", \"nuclear\", \"relajate\", \"chile\", \"samsung\", \"apple\", \"otan\", \"mariacorinaya\", \"opini\\u00f3n\", \"ue\", \"sebastianpinera\", \"papa\", \"francia\", \"saudita\", \"m\\u00e9xico\", \"tumbas\", \"europa\", \"cient\\u00edficos\", \"saleh\\u201d\", \"cuba\", \"obama\", \"lorent\", \"android\", \"espa\\u00f1a\", \"the\", \"onu\", \"gnb\", \"gesti\\u00f3n\", \"fanb\", \"vladimirpadrino\", \"frontera\", \"jacquelinepsuv\", \"ejercitofanb\", \"ceofanb\", \"\\ud83d\\udcf2\", \"\\ud83d\\udd25martes\", \"13\\ud83d\\udd25\", \"\\ud83d\\udd25lafanbeshonorygloria\\ud83d\\udd25\", \"\\ud83d\\udd25\", \"unidadvenezuela\", \"gustado\", \"yinpr\", \"bcomunicacional\", \"nicmerevans\", \"redimain\", \"sinceras\", \"luck\", \"simposio\", \"quebrante\", \"\\ud83d\\udcdcrese\\u00f1a\", \"gnbpueblo\", \"armadafanb\", \"laliga\", \"zodimainoc\", \"caterin8a\", \"dictado\", \"gcpampatar\", \"1813\", \"capitan\", \"emcofanb\", \"rttt\", \"ucocaroficial\", \"daleeeee\", \"muronto\", \"aviacionfanb\", \"jennygilo\", \"ejercitofanb\", \"ceofanb\", \"gnboficial\", \"vladimirpadrino\", \"serviciosmppd\", \"armadaoficial\", \"fanb\", \"taller\", \"cacique\", \"cmdteceofanb\", \"rediandes\", \"gj\", \"brig\", \"prensafanb\", \"irissocialista\", \"frontera\", \"esequibovzla\", \"militares\", \"gnb\", \"tkeyvins\", \"6topodermovil\", \"voten\", \"jpsuvfinanzas\", \"posted\", \"grrllflorentino\", \"danielpsuv\", \"rnvinformativo\", \"rnvdeportes\", \"reinaldoi\", \"\\u25ba\", \"rnvactivafm\", \"esterilizada\", \"keygomezkndanga\", \"gaga\", \"ercedebra\", \"pum\", \"vanessasenior\", \"nahumpsuv\", \"arrobadora\", \"pontifexes\", \"indignadosvene2\", \"raquel\", \"photo\", \"lady\", \"convulsiones\", \"pumpkins\", \"chistuin\", \"ricardosanchezx\", \"little\", \"aleman72psuv\", \"pedrokonducta\", \"actuariojlperez\", \"just\", \"facebook\", \"jacquelinepsuv\", \"feat\", \"stats\", \"hern\\u00e1ndez\", \"actualidadrt\", \"unfollowers\", \"laiguanatv\", \"luislopezpsuv\", \"\\u00a1me\", \"jchacon2021\", \"describir\", \"lt3\", \"store\", \"interesado\", \"caracteres\", \"patron\", \"mariafabella85\", \"m\\u00f3vildisponible\", \"suficientes\", \"encanta\", \"feliiiz\", \"escribeme\", \"hermes\", \"shango\", \"fabi8a\", \"pensaramericas\", \"royce\", \"caraquistas\", \"pudieras\", \"feeling\", \"\\u201cvivir\", \"\\u201cs\\u00e9\", \"dogg\", \"corpoelecinfo\", \"leonesdelccs\", \"snoop\", \"subirla\", \"hola\", \"app\", \"play\", \"banfanb\", \"\\u263a\", \"jugar\", \"ft\", \"hispantv\", \"xd\", \"jajaja\", \"google\", \"tareckpsuv\", \"disponible\", \"vinotinto\", \"amigo\", \"jmariarosa\", \"amarillas\", \"0rtografia\", \"informativo\", \"observa\", \"carlosramirezl3\", \"brice\\u00f1o\", \"ingxiomaraa\", \"mppplanifica\", \"moisesgalvez\", \"bro\", \"patron\", \"ritual\", \"ciudadbizarra\", \"provea\", \"inparquesgob\", \"gobcojedes\", \"inepresdrp\", \"vzlaprodoficial\", \"gameplays\", \"lachinapsuv\", \"skatu\", \"caribia\", \"\\ud83d\\ude00\", \"caritas\", \"pod\\u00e9is\", \"album\", \"hfsalasromer\", \"yudithh99\", \"rodriguez\", \"esequibovzla\", \"redimain\", \"encuentro\", \"armadafanb\", \"vladimirpadrino\", \"ceofanb\", \"gnboficial\", \"ejercitofanb\", \"fanb\", \"aviacionfanb\", \"rediandes\", \"\\ud83d\\udd25martes\", \"you\", \"\\ud83d\\udcf2\", \"caterin8a\", \"cmdteceofanb\", \"saleh\\u201d\", \"the\", \"frontera\", \"davidparrapsuv\", \"gerardbarrera\", \"sandinomarcano\", \"lpsuv\", \"detras\", \"encantar\\u00eda\", \"tuviste\", \"suenacaracas\", \"lavadora\", \"esperabas\", \"inform\\u00e1tico\", \"donchincungunya\", \"metieron\", \"infocentro\", \"gbarreto\", \"ke\", \"alkilados\", \"88\", \"embarazo\", \"arbol\", \"lachinapsuv\", \"inparquesgob\", \"ninoskaortega\", \"enamorada\", \"software\", \"dppsuv\", \"vicentico\", \"ejaj5uupcvp1fthmbclqy3pzrf9yxogwjmzkk3ugo4\", \"arrodillada\", \"tguaicaipuro\", \"infocentrospais\", \"activistas\", \"conocerte\", \"vzlaestudioonce\", \"mayesocialista\", \"poeticaacciones\", \"ejercitofanb\", \"sigueme\", \"farmatodo\", \"espionaje\", \"michelpesquera\", \"vladimirpadrino\", \"armadafanb\", \"fanb\", \"ceofanb\", \"redimain\", \"ft\", \"gnboficial\", \"hanthonycoello\", \"sorayaachkar\", \"endycontreras\", \"corpocapitalgdc\", \"olasocialistam\", \"pulverizar\", \"jhonnathanmarin\", \"descalifican\", \"friends\", \"comunales\\u25bahttptcoajqjau3lnq\", \"moisdelavega\", \"holaa\", \"vtveldesayuno\", \"econ\\u00f3mica\\u00a1\", \"trabas\", \"loyal\", \"reinaldpsuv\", \"bellapetruska\", \"burguesa\", \"lion\", \"aliprimeravive\", \"straight\", \"guapa\", \"don\\u2019t\", \"fake\", \"dip99candanga\", \"javinger\", \"humboldt\", \"dominaci\\u00f3n\", \"sharethis\", \"retweeted\", \"eterno\", \"ojo\", \"good\", \"hola\", \"hectorodriguez\", \"ullcltxortjweyteczwh4rudo5fzegdces08c93s4\", \"yudithh99\", \"jacquelinepsuv\", \"amigos\", \"ejercitofanb\", \"vladimirpadrino\", \"fanb\", \"cocodrilosdeccs\", \"aki\", \"angelicarojas24\", \"laenamoran\", \"estes\", \"davidurgelles\", \"alimentarse\", \"posted\", \"logicademujeres\", \"alealejajandra\", \"pi\\u00e9\", \"mejorar\\u00e1n\", \"liviarevenga\", \"llores\", \"valiosos\", \"servida\", \"antonioriverog\", \"noticiassb1\", \"yanez\", \"evelingtrejo\", \"equivoco\", \"matica\", \"pel\\u00f3\", \"oyen\", \"expl\\u00edcito\", \"gralvivasp\", \"ttejuanescalona\", \"taylor\", \"tetas\", \"promociones\", \"photo\", \"rubio\", \"mincioficial\", \"xd\", \"milicia\", \"just\", \"ceofanb\", \"vladimirpadrino\", \"fanb\", \"poeticaacciones\", \"m\\u00f3vildisponible\", \"store\", \"cuartaspsuv\", \"mire\", \"dashboard\", \"contributor\", \"techos\", \"elaragueno\", \"estefaniaguiars\", \"delmari06\", \"elsiglocomve\", \"fundayacucho\", \"mam\\u00f3n\", \"check\", \"arrebataron\", \"ingleses\", \"tristezas\", \"comunicarme\", \"caucagua\", \"claus\", \"app\", \"amemos\", \"enlace\", \"1899\", \"spam\", \"play\", \"apagada\", \"inscribe\", \"conde\", \"tocor\\u00f3n\", \"lt3\", \"sibciguarico\", \"albaciudad\", \"jugar\", \"recomiendo\", \"rerchacin\", \"guatire\", \"kender17\", \"profesor\", \"google\", \"fil0s0fia\", \"ceofanb\", \"vladimirpadrino\", \"lapatilla\", \"armadafanb\", \"fanb\", \"esequibovzla\", \"ejercitofanb\", \"redimain\", \"gnboficial\", \"golpeados\", \"animo\", \"guardianesl\", \"msc\", \"genero\", \"ay\\u00fadame\", \"puntaje\", \"webber\", \"omiso\", \"unamos\", \"ovacionve\", \"gladysrequena\", \"berikmar\", \"kikiil1\", \"dejarlo\", \"adivinar\", \"brent\", \"minmujer\", \"contraataque\", \"sicad\", \"dinamizador\", \"gobtrujillo\", \"pasarte\", \"nuvipa\", \"eficaces\", \"testigos\", \"1350\", \"jpsuvfinanzas\", \"odian\", \"unete\", \"630\", \"cesartrompiz\", \"elnacionalweb\", \"hectorodriguez\", \"simadi\", \"pinfantepsuv\", \"cencoex\", \"aponte\", \"jaja\", \"romelbolivar\", \"violencia\"], \"Total\": [3.0, 2.0, 1.0, 1.0, 1.0, 1.0, 1.0, 1.0, 0.0, 1.0, 1.0, 0.0, 0.0, 1.0, 1.0, 1.0, 1.0, 0.0, 1.0, 0.0, 0.0, 0.0, 0.0, 0.0, 0.0, 1.0, 1.0, 0.0, 0.0, 0.0, 2.430056095123291, 1.8720067739486694, 1.6214573383331299, 1.7557353973388672, 1.5605202913284302, 1.6197565793991089, 1.9361462593078613, 1.208391785621643, 1.073620319366455, 1.333138108253479, 1.196022391319275, 1.262577772140503, 1.3195180892944336, 1.322492241859436, 1.3564870357513428, 1.0471614599227905, 1.5666414499282837, 0.9549450874328613, 0.6093168258666992, 1.1107326745986938, 0.8293453454971313, 0.7980377674102783, 0.9310925006866455, 1.459513545036316, 0.9711344242095947, 0.916482150554657, 1.20830237865448, 1.0208888053894043, 1.2413403987884521, 0.872208297252655, 1.7209432125091553, 1.228145956993103, 1.0751478672027588, 0.9630852937698364, 1.4007383584976196, 1.112304925918579, 1.2794088125228882, 1.1608744859695435, 1.4181535243988037, 1.2309011220932007, 1.2314881086349487, 1.2006633281707764, 1.717108964920044, 1.3039941787719727, 2.584883451461792, 3.1824352741241455, 1.453664779663086, 1.2646878957748413, 1.8644654750823975, 1.8161925077438354, 0.3920137286186218, 0.37992385029792786, 0.2786293625831604, 0.2823142111301422, 0.42086124420166016, 0.1438588947057724, 0.14404839277267456, 0.16087284684181213, 0.14460955560207367, 0.1378534436225891, 1.0631662607192993, 0.13718782365322113, 0.1295214593410492, 0.397421270608902, 0.15681840479373932, 0.15802808105945587, 0.30621638894081116, 1.1632260084152222, 0.12262365967035294, 0.2774415910243988, 0.3765348494052887, 0.15691658854484558, 0.18368090689182281, 0.1715308278799057, 0.13497909903526306, 0.15915849804878235, 0.13089744746685028, 0.1725539118051529, 0.132131889462471, 0.14060154557228088, 0.8180442452430725, 0.46685466170310974, 1.8644654750823975, 1.8161925077438354, 1.4061657190322876, 3.1824352741241455, 0.42171040177345276, 0.27243414521217346, 2.584883451461792, 0.5081127882003784, 0.25040534138679504, 0.4744580090045929, 1.075766682624817, 0.4022184908390045, 0.4877355992794037, 0.7168198823928833, 0.5294569134712219, 1.453664779663086, 0.9807083010673523, 1.1345924139022827, 1.717108964920044, 0.10556728392839432, 0.10712355375289917, 0.10445625334978104, 0.1061706468462944, 0.11926664412021637, 0.09612007439136505, 0.11186345666646957, 0.12572473287582397, 0.09769986569881439, 0.12832850217819214, 0.13005022704601288, 0.10422792285680771, 0.09276343882083893, 0.09451376646757126, 0.09651688486337662, 0.0951891615986824, 0.09206994622945786, 0.09657105803489685, 0.09554548561573029, 0.09968645125627518, 0.134964719414711, 0.10223226249217987, 0.09161915630102158, 0.13939757645130157, 0.09940877556800842, 0.09193011373281479, 0.09115801006555557, 0.09266182780265808, 0.10194703191518784, 0.0951673835515976, 0.1647529900074005, 0.1527990996837616, 1.155768632888794, 0.18077205121517181, 0.6253708600997925, 1.2646878957748413, 0.13962796330451965, 0.5874269008636475, 0.32356929779052734, 0.840521514415741, 0.7898882627487183, 1.1389386653900146, 0.10526937991380692, 0.1047026664018631, 0.10547840595245361, 0.09576056152582169, 0.2626588046550751, 0.16788959503173828, 0.10324601083993912, 0.09489532560110092, 0.11398541927337646, 0.19852228462696075, 0.13204346597194672, 0.10134465247392654, 0.1375606209039688, 0.09828494489192963, 0.10100658982992172, 0.09126345068216324, 0.09151261299848557, 0.09441109001636505, 0.09345659613609314, 0.09166458249092102, 0.10391652584075928, 0.0916716679930687, 0.09391077607870102, 0.09074665606021881, 0.09066369384527206, 0.09170066565275192, 0.1277802437543869, 0.10329269617795944, 0.09345635771751404, 0.08987950533628464, 0.39933332800865173, 0.2576981782913208, 0.28653183579444885, 0.1342514306306839, 0.13604231178760529, 0.25833120942115784, 0.3656677007675171, 0.5803995728492737, 0.2016565501689911, 0.3668491244316101, 1.0042152404785156, 0.6674142479896545, 0.5005009174346924, 0.3996095061302185, 0.4215211272239685, 0.10375005751848221, 0.09978215396404266, 0.1252744197845459, 0.10182394832372665, 0.10585241764783859, 0.10213787853717804, 0.11522182077169418, 0.10909942537546158, 0.11233536154031754, 0.10270530730485916, 0.10570964962244034, 0.11398541927337646, 0.10008594393730164, 0.10224586725234985, 0.09788200259208679, 0.11538147926330566, 0.09625056385993958, 0.09726115316152573, 0.1047576442360878, 0.09085622429847717, 0.10618815571069717, 0.09492352604866028, 0.10046416521072388, 0.09293949604034424, 0.0908399224281311, 0.09079809486865997, 0.09180591255426407, 0.09223421663045883, 0.5394973754882812, 0.14505749940872192, 0.9807083010673523, 1.0631662607192993, 0.5355880260467529, 1.1632260084152222, 3.1824352741241455, 1.8161925077438354, 1.4061657190322876, 1.8644654750823975, 2.584883451461792, 0.8180442452430725, 1.075766682624817, 0.37992385029792786, 0.5559858679771423, 0.3920137286186218, 0.3765348494052887, 0.4744580090045929, 1.4007383584976196, 1.2314881086349487, 1.453664779663086, 0.12471908330917358, 0.10454297065734863, 0.1269093006849289, 0.10008407384157181, 0.09841933101415634, 0.09702401608228683, 0.09444994479417801, 0.09855612367391586, 0.09302158653736115, 0.09290280193090439, 0.10919132828712463, 0.09249818325042725, 0.09997766464948654, 0.11551414430141449, 0.09463424235582352, 0.1784639060497284, 0.09113938361406326, 0.11467873305082321, 0.09550045430660248, 0.09043911099433899, 0.10618815571069717, 0.11538147926330566, 0.08972539752721786, 0.09870412945747375, 0.14392180740833282, 0.09784163534641266, 0.08888460695743561, 0.14961782097816467, 0.0896788164973259, 0.09682249277830124, 0.13855910301208496, 0.19256462156772614, 0.14549195766448975, 0.5427768230438232, 0.38947510719299316, 0.5722190141677856, 1.8644654750823975, 0.29641854763031006, 0.20752502977848053, 0.3009738624095917, 0.4758971929550171, 3.1824352741241455, 1.1632260084152222, 2.584883451461792, 1.8161925077438354, 1.0631662607192993, 0.3656677007675171, 1.4061657190322876, 0.12311652302742004, 0.10159730166196823, 0.10486799478530884, 0.09682980924844742, 0.09700121730566025, 0.09330083429813385, 0.10553597658872604, 0.09231078624725342, 0.0970516949892044, 0.09590817987918854, 0.09598767757415771, 0.10642292350530624, 0.0955481007695198, 0.09558652341365814, 0.09305962175130844, 0.09111262112855911, 0.09099787473678589, 0.09508056193590164, 0.09294428676366806, 0.09219516068696976, 0.09456522762775421, 0.09793345630168915, 0.11053800582885742, 0.09814571589231491, 0.09247394651174545, 0.11524967849254608, 0.0905742421746254, 0.09952785819768906, 0.09328561276197433, 0.08953369408845901, 0.16562917828559875, 0.44948244094848633, 0.4025065302848816, 0.2532512843608856, 0.39933332800865173, 0.47444024682044983, 0.17201142013072968, 0.5394973754882812, 1.2646878957748413, 0.2869173586368561, 1.8644654750823975, 3.1824352741241455, 2.584883451461792, 0.09609776735305786, 0.09569378197193146, 0.09676340222358704, 0.09476116299629211, 0.10351673513650894, 0.09129707515239716, 0.09045325964689255, 0.11926664412021637, 0.12299453467130661, 0.09280052781105042, 0.09018831700086594, 0.09074579924345016, 0.14603805541992188, 0.09862250834703445, 0.09317147731781006, 0.08994162827730179, 0.09051032364368439, 0.11119408160448074, 0.09010694175958633, 0.09145898371934891, 0.0945834293961525, 0.09301595389842987, 0.09065200388431549, 0.09000647068023682, 0.08926042914390564, 0.09148943424224854, 0.2443508356809616, 0.0933036282658577, 0.10814370959997177, 0.09088453650474548, 0.13939757645130157, 0.14850780367851257, 0.5703350901603699, 0.2016565501689911, 0.3924500346183777, 0.18077205121517181, 1.8161925077438354, 3.1824352741241455, 2.584883451461792, 0.5722190141677856, 0.13204346597194672, 0.16788959503173828, 0.10255830734968185, 0.1435355842113495, 0.0930863693356514, 0.09202472120523453, 0.09741576015949249, 0.09172066301107407, 0.09164508432149887, 0.10022898763418198, 0.09374096989631653, 0.13541169464588165, 0.0897650420665741, 0.10489087551832199, 0.10232336819171906, 0.1025637686252594, 0.08904167264699936, 0.08905176818370819, 0.0901312381029129, 0.08997184038162231, 0.2576981782913208, 0.08933475613594055, 0.09498623758554459, 0.10721994936466217, 0.09318540245294571, 0.28653183579444885, 0.08817726373672485, 0.09002470225095749, 0.1174229308962822, 0.08980582654476166, 0.2626588046550751, 0.24306859076023102, 0.1587868332862854, 0.25833120942115784, 0.1979074329137802, 0.17333941161632538, 0.14650316536426544, 0.5394341349601746, 0.18177509307861328, 1.0042152404785156, 0.7783681154251099, 1.8161925077438354, 3.1824352741241455, 0.25413158535957336, 1.1632260084152222, 2.584883451461792, 0.9807083010673523, 1.8644654750823975, 1.0631662607192993, 1.4061657190322876, 0.09509341418743134, 0.10543905943632126, 0.09395644068717957, 0.09108241647481918, 0.09367591887712479, 0.09155450016260147, 0.09164967387914658, 0.09261392056941986, 0.08994635194540024, 0.09181032329797745, 0.11278839409351349, 0.1114586591720581, 0.0914735421538353, 0.09206230193376541, 0.09738979488611221, 0.09061550348997116, 0.09488725662231445, 0.13380958139896393, 0.0952862799167633, 0.10688752681016922, 0.0889870822429657, 0.08901749551296234, 0.08799543976783752, 0.08813659846782684, 0.09429521858692169, 0.11747922748327255, 0.09820526838302612, 0.1061706468462944, 0.1026550680398941, 0.1205461248755455, 0.11662106215953827, 0.15920615196228027, 0.3773375451564789, 0.47444024682044983, 0.20236019790172577, 0.28452014923095703, 0.16658183932304382, 0.1672011911869049, 0.16908012330532074, 0.4471350908279419, 0.6619550585746765], \"loglift\": [30.0, 29.0, 28.0, 27.0, 26.0, 25.0, 24.0, 23.0, 22.0, 21.0, 20.0, 19.0, 18.0, 17.0, 16.0, 15.0, 14.0, 13.0, 12.0, 11.0, 10.0, 9.0, 8.0, 7.0, 6.0, 5.0, 4.0, 3.0, 2.0, 1.0, 0.22360000014305115, 0.22310000658035278, 0.22050000727176666, 0.2199999988079071, 0.21930000185966492, 0.21899999678134918, 0.21889999508857727, 0.218299999833107, 0.2176000028848648, 0.21690000593662262, 0.21649999916553497, 0.21570000052452087, 0.21559999883174896, 0.21539999544620514, 0.2152000069618225, 0.2150000035762787, 0.21449999511241913, 0.21389999985694885, 0.21330000460147858, 0.21250000596046448, 0.21230000257492065, 0.21220000088214874, 0.21220000088214874, 0.211899995803833, 0.21170000731945038, 0.21170000731945038, 0.21150000393390656, 0.21150000393390656, 0.21130000054836273, 0.21119999885559082, 0.21060000360012054, 0.2092999964952469, 0.21060000360012054, 0.210999995470047, 0.20640000700950623, 0.20900000631809235, 0.20589999854564667, 0.2071000039577484, 0.20100000500679016, 0.20419999957084656, 0.20170000195503235, 0.2021999955177307, 0.16830000281333923, 0.1800999939441681, 0.0333000011742115, -0.04540000110864639, 0.13920000195503235, 0.17669999599456787, -0.16060000658035278, -0.15039999783039093, 1.7704999446868896, 1.7583999633789062, 1.7008999586105347, 1.6815999746322632, 1.585800051689148, 1.5791000127792358, 1.5728000402450562, 1.5633000135421753, 1.5571000576019287, 1.551900029182434, 1.5184999704360962, 1.4955999851226807, 1.4646999835968018, 1.4529999494552612, 1.4503999948501587, 1.447700023651123, 1.4422999620437622, 1.4213000535964966, 1.3847999572753906, 1.3841999769210815, 1.357800006866455, 1.3492000102996826, 1.3473999500274658, 1.3377000093460083, 1.3322999477386475, 1.3285000324249268, 1.291700005531311, 1.2897000312805176, 1.2878999710083008, 1.281499981880188, 1.1886999607086182, 1.2109999656677246, 1.1131999492645264, 1.0908000469207764, 0.9822999835014343, 0.8385000228881836, 1.1145999431610107, 1.1924999952316284, 0.532800018787384, 0.9911999702453613, 1.2063000202178955, 0.8748000264167786, 0.3012999892234802, 0.8730999827384949, 0.7469000220298767, 0.4781999886035919, 0.6121000051498413, -0.1964000016450882, 0.09470000118017197, -0.06350000202655792, -0.4966000020503998, 2.2720999717712402, 2.2153000831604004, 2.035399913787842, 2.0160000324249268, 1.9974000453948975, 1.8479000329971313, 1.825600028038025, 1.773900032043457, 1.7588000297546387, 1.7508000135421753, 1.6938999891281128, 1.6658999919891357, 1.6370999813079834, 1.6241999864578247, 1.5950000286102295, 1.5886000394821167, 1.5844999551773071, 1.5800000429153442, 1.5740000009536743, 1.5504000186920166, 1.5049999952316284, 1.4967000484466553, 1.4809000492095947, 1.4392999410629272, 1.4386999607086182, 1.4311000108718872, 1.422700047492981, 1.412600040435791, 1.4098000526428223, 1.405900001525879, 1.2969000339508057, 1.3003000020980835, 0.5697000026702881, 1.103700041770935, 0.48919999599456787, -0.3452000021934509, 1.190500020980835, 0.06210000067949295, 0.5153999924659729, -0.5023000240325928, -0.49160000681877136, -0.8507000207901001, 2.233599901199341, 2.210700035095215, 1.9954999685287476, 1.9127999544143677, 1.8207000494003296, 1.820099949836731, 1.7461999654769897, 1.7057000398635864, 1.622499942779541, 1.596500039100647, 1.5943000316619873, 1.585800051689148, 1.551900029182434, 1.5413000583648682, 1.5325000286102295, 1.507699966430664, 1.502500057220459, 1.4948999881744385, 1.4896999597549438, 1.4837000370025635, 1.4675999879837036, 1.4529000520706177, 1.4428000450134277, 1.4391000270843506, 1.4266999959945679, 1.4250999689102173, 1.4249000549316406, 1.4143999814987183, 1.3845000267028809, 1.36899995803833, 1.0277999639511108, 1.1059000492095947, 1.0118999481201172, 1.267300009727478, 1.2537000179290771, 0.887499988079071, 0.6699000000953674, 0.19789999723434448, 0.9110999703407288, 0.4171000123023987, -0.44429999589920044, -0.11490000039339066, 0.11580000072717667, 0.29809999465942383, 0.14399999380111694, 2.2435998916625977, 2.2054998874664307, 2.18530011177063, 2.160099983215332, 2.1087000370025635, 2.101900100708008, 2.065700054168701, 2.0367000102996826, 1.9527000188827515, 1.9364999532699585, 1.8614000082015991, 1.8327000141143799, 1.8157999515533447, 1.674299955368042, 1.6409000158309937, 1.628600001335144, 1.6080000400543213, 1.583299994468689, 1.548200011253357, 1.5240999460220337, 1.4651999473571777, 1.4615999460220337, 1.4544999599456787, 1.447100043296814, 1.3918999433517456, 1.3889000415802002, 1.378999948501587, 1.3760000467300415, 1.3740999698638916, 1.3398000001907349, 0.8646000027656555, 0.6442000269889832, 0.7968000173568726, 0.5045999884605408, 0.035599999129772186, 0.1388999968767166, 0.20739999413490295, 0.04050000011920929, -0.22779999673366547, 0.243599995970726, 0.012299999594688416, 0.6504999995231628, 0.35589998960494995, 0.6122999787330627, 0.6380000114440918, 0.43630000948905945, -0.5264999866485596, -0.4966000020503998, -0.6995000243186951, 2.328000068664551, 2.3203999996185303, 2.1096999645233154, 2.0339999198913574, 1.9745999574661255, 1.9168000221252441, 1.892300009727478, 1.8102999925613403, 1.7821999788284302, 1.7625999450683594, 1.7451000213623047, 1.698699951171875, 1.659000039100647, 1.6478999853134155, 1.641700029373169, 1.6126999855041504, 1.6068999767303467, 1.4660999774932861, 1.4499000310897827, 1.4437999725341797, 1.4386999607086182, 1.4332000017166138, 1.355299949645996, 1.326300024986267, 1.291599988937378, 1.273800015449524, 1.2512999773025513, 1.2484999895095825, 1.2467000484466553, 1.1908999681472778, 1.143399953842163, 1.0219000577926636, 1.1031999588012695, 0.5666000247001648, 0.6675999760627747, 0.4129999876022339, -0.26589998602867126, 0.6654999852180481, 0.8827000260353088, 0.6132000088691711, 0.27559998631477356, -1.1706000566482544, -0.486299991607666, -1.145799994468689, -0.8593999743461609, -0.45339998602867126, 0.4372999966144562, -0.910099983215332, 2.280600070953369, 2.2681000232696533, 2.2502999305725098, 2.2095000743865967, 2.0855000019073486, 1.992400050163269, 1.8950999975204468, 1.871399998664856, 1.7525999546051025, 1.7502000331878662, 1.75, 1.7307000160217285, 1.7265000343322754, 1.7163000106811523, 1.7032999992370605, 1.6842000484466553, 1.6826000213623047, 1.673699975013733, 1.6345000267028809, 1.6263999938964844, 1.6217999458312988, 1.613700032234192, 1.6022000312805176, 1.5846999883651733, 1.5506999492645264, 1.5378999710083008, 1.5032999515533447, 1.4702999591827393, 1.438599944114685, 1.4354000091552734, 1.2818000316619873, 0.9430000185966492, 0.9415000081062317, 1.1022000312805176, 0.8295999765396118, 0.5422000288963318, 1.1678999662399292, 0.28220000863075256, -0.4650000035762787, 0.722599983215332, -1.076799988746643, -1.7628999948501587, -1.6195000410079956, 2.2011001110076904, 2.0885000228881836, 2.010699987411499, 1.9364999532699585, 1.8056000471115112, 1.7160999774932861, 1.682800054550171, 1.6664999723434448, 1.6647000312805176, 1.6563999652862549, 1.617799997329712, 1.5788999795913696, 1.542099952697754, 1.5410000085830688, 1.520900011062622, 1.5185999870300293, 1.5074000358581543, 1.504699945449829, 1.4921000003814697, 1.4500999450683594, 1.4349000453948975, 1.4035999774932861, 1.3907999992370605, 1.38100004196167, 1.354699969291687, 1.3488999605178833, 1.3395999670028687, 1.3199000358581543, 1.313599944114685, 1.2918000221252441, 1.1837999820709229, 1.093400001525879, 0.349700003862381, 0.8837000131607056, 0.48919999599456787, 0.8445000052452087, -1.249400019645691, -1.8568999767303467, -1.6929999589920044, -0.3021000027656555, 2.6610000133514404, 2.0822999477386475, 2.042099952697754, 2.004199981689453, 1.9651000499725342, 1.8458000421524048, 1.8357000350952148, 1.8163000345230103, 1.7818000316619873, 1.7343000173568726, 1.656499981880188, 1.6490999460220337, 1.5398000478744507, 1.4838000535964966, 1.4833999872207642, 1.4572999477386475, 1.4509999752044678, 1.444000005722046, 1.4371999502182007, 1.4150999784469604, 1.391700029373169, 1.3877999782562256, 1.3629000186920166, 1.3595999479293823, 1.3458000421524048, 1.3327000141143799, 1.3106000423431396, 1.3047000169754028, 1.2828999757766724, 1.277400016784668, 1.2348999977111816, 1.184399962425232, 1.198799967765808, 1.0983999967575073, 1.0733000040054321, 1.0960999727249146, 1.1543999910354614, 0.375, 1.0123000144958496, -0.08349999785423279, 0.07540000230073929, -0.6498000025749207, -1.0735000371932983, 0.708899974822998, -0.5805000066757202, -1.2927000522613525, -0.4629000127315521, -1.041599988937378, -0.5863999724388123, -0.9221000075340271, 2.2530999183654785, 1.9089000225067139, 1.898800015449524, 1.8639999628067017, 1.8386000394821167, 1.7414000034332275, 1.7073999643325806, 1.6720999479293823, 1.6520999670028687, 1.5852999687194824, 1.5394999980926514, 1.523800015449524, 1.5032999515533447, 1.4808000326156616, 1.4521000385284424, 1.4400999546051025, 1.4318000078201294, 1.4300999641418457, 1.419800043106079, 1.4183000326156616, 1.3623000383377075, 1.3357000350952148, 1.3203999996185303, 1.3030999898910522, 1.2970000505447388, 1.2968000173568726, 1.2315000295639038, 1.219099998474121, 1.1927000284194946, 1.1825000047683716, 1.1714999675750732, 1.0743000507354736, 0.6626999974250793, 0.25450000166893005, 0.7894999980926514, 0.5598000288009644, 0.9143000245094299, 0.8934000134468079, 0.8671000003814697, 0.060600001364946365, -0.4447999894618988], \"logprob\": [30.0, 29.0, 28.0, 27.0, 26.0, 25.0, 24.0, 23.0, 22.0, 21.0, 20.0, 19.0, 18.0, 17.0, 16.0, 15.0, 14.0, 13.0, 12.0, 11.0, 10.0, 9.0, 8.0, 7.0, 6.0, 5.0, 4.0, 3.0, 2.0, 1.0, -7.660699844360352, -7.922100067138672, -8.068300247192383, -7.989299774169922, -8.10789966583252, -8.070899963378906, -7.892600059509277, -8.36460018157959, -8.483499526977539, -8.2677001953125, -8.376700401306152, -8.3233003616333, -8.27929973602295, -8.277299880981445, -8.252099990844727, -8.511199951171875, -8.108699798583984, -8.604399681091309, -9.054300308227539, -8.454700469970703, -8.746999740600586, -8.785499572753906, -8.631400108337402, -8.18220043182373, -8.589799880981445, -8.647700309753418, -8.371500015258789, -8.539999961853027, -8.34469985961914, -8.697699546813965, -8.018699645996094, -8.357399940490723, -8.4891996383667, -8.598799705505371, -8.228799819946289, -8.45680046081543, -8.319899559020996, -8.416000366210938, -8.221799850463867, -8.360300064086914, -8.362199783325195, -8.387200355529785, -8.063300132751465, -8.326700210571289, -7.7891998291015625, -7.659900188446045, -8.258899688720703, -8.360600471496582, -8.309800148010254, -8.325799942016602, -7.938199996948242, -7.981500148773193, -8.349100112915039, -8.355299949645996, -8.051799774169922, -9.131999969482422, -9.13700008392334, -9.03600025177002, -9.148799896240234, -9.201800346374512, -7.192399978637695, -9.262999534606934, -9.351400375366211, -8.241999626159668, -9.174500465393066, -9.169400215148926, -8.513299942016602, -7.199699878692627, -9.486000061035156, -8.670100212097168, -8.39109992980957, -9.274999618530273, -9.11929988861084, -9.197400093078613, -9.44260025024414, -9.281499862670898, -9.513899803161621, -9.23960018157959, -9.508299827575684, -9.452500343322754, -7.784299850463867, -8.32289981842041, -7.035999774932861, -7.08459997177124, -7.448999881744385, -6.776100158691406, -8.521100044250488, -8.880000114440918, -7.289700031280518, -8.458000183105469, -8.950499534606934, -8.642900466918945, -8.39780044555664, -8.809800148010254, -8.743300437927246, -8.626899719238281, -8.795999526977539, -8.594499588012695, -8.696900367736816, -8.709400177001953, -8.728099822998047, -8.748499870300293, -8.79069995880127, -8.995800018310547, -8.998900413513184, -8.901200294494629, -9.266500473022461, -9.137100219726562, -9.071999549865723, -9.339200019836426, -9.07450008392334, -9.1181001663208, -9.367500305175781, -9.512800216674805, -9.506999969482422, -9.515199661254883, -9.535400390625, -9.57289981842041, -9.52970027923584, -9.546299934387207, -9.527600288391113, -9.270000457763672, -9.555999755859375, -9.681400299072266, -9.303299903869629, -9.642000198364258, -9.727800369262695, -9.74470043182373, -9.73840045928955, -9.645700454711914, -9.718400001525879, -9.278599739074707, -9.350500106811523, -8.05780029296875, -9.378999710083008, -8.752400398254395, -8.882599830627441, -9.550399780273438, -9.241999626159668, -9.385199546813965, -9.4483003616333, -9.499699592590332, -9.492799758911133, -8.789799690246582, -8.818099975585938, -9.025899887084961, -9.205300331115723, -8.288399696350098, -8.736499786376953, -9.296600341796875, -9.421500205993652, -9.321399688720703, -8.792499542236328, -9.202500343322754, -9.475600242614746, -9.204000473022461, -9.550800323486328, -9.53219985961914, -9.658499717712402, -9.66100025177002, -9.637399673461914, -9.652799606323242, -9.678099632263184, -9.56879997253418, -9.708800315856934, -9.69480037689209, -9.732799530029297, -9.746100425720215, -9.736300468444824, -9.404800415039062, -9.628000259399414, -9.75790023803711, -9.8125, -8.662400245666504, -9.022199630737305, -9.010199546813965, -9.512999534606934, -9.513299942016602, -9.238200187683105, -9.10830020904541, -9.118300437927246, -9.462200164794922, -9.357799530029297, -9.212300300598145, -9.291399955749512, -9.34850025177002, -9.391300201416016, -9.49209976196289, -8.794400215148926, -8.871500015258789, -8.66409969329834, -8.896599769592285, -8.909199714660645, -8.951800346374512, -8.867400169372559, -8.951000213623047, -9.00570011138916, -9.111499786376953, -9.15779972076416, -9.111200332641602, -9.258099555969238, -9.378299713134766, -9.455300331115723, -9.303099632263184, -9.505000114440918, -9.519200325012207, -9.48009967803955, -9.646499633789062, -9.549500465393066, -9.665300369262695, -9.615699768066406, -9.700900077819824, -9.778900146484375, -9.782400131225586, -9.781200408935547, -9.779600143432617, -8.015199661254883, -9.36299991607666, -7.92710018157959, -8.066699981689453, -8.599699974060059, -8.116299629211426, -7.57889986038208, -8.036600112915039, -8.223899841308594, -8.108699798583984, -8.050299644470215, -8.729399681091309, -8.68690013885498, -9.089400291442871, -9.003299713134766, -9.09630012512207, -9.110899925231934, -9.081500053405762, -8.961600303649902, -9.060600280761719, -9.097599983215332, -8.525899887084961, -8.70989990234375, -8.726799964904785, -9.039899826049805, -9.116100311279297, -9.18809986114502, -9.23960018157959, -9.279000282287598, -9.364899635314941, -9.3858003616333, -9.241700172424316, -9.454000473022461, -9.416000366210938, -9.282699584960938, -9.488200187683105, -8.882800102233887, -9.560700416564941, -9.471799850463867, -9.670900344848633, -9.731399536132812, -9.57610034942627, -9.498499870300293, -9.827799797058105, -9.761500358581543, -9.419099807739258, -9.822799682617188, -9.941300392150879, -9.423399925231934, -9.937000274658203, -9.916099548339844, -9.605199813842773, -9.397600173950195, -9.596599578857422, -8.81659984588623, -9.047499656677246, -8.917400360107422, -8.41510009765625, -9.322699546813965, -9.461999893188477, -9.359700202941895, -9.2391996383667, -8.785099983215332, -9.1072998046875, -8.968299865722656, -9.034899711608887, -9.164299964904785, -9.340900421142578, -9.341400146484375, -8.586299896240234, -8.790900230407715, -8.777000427246094, -8.897500038146973, -9.019700050354004, -9.151700019836426, -9.125800132751465, -9.28339958190918, -9.352100372314453, -9.366399765014648, -9.365699768066406, -9.281800270080566, -9.393799781799316, -9.403599739074707, -9.443400382995605, -9.483599662780762, -9.486499786376953, -9.451600074768066, -9.513400077819824, -9.529600143432617, -9.508899688720703, -9.482000350952148, -9.372400283813477, -9.50879955291748, -9.602299690246582, -9.39490032196045, -9.670499801635742, -9.609199523925781, -9.705699920654297, -9.749899864196777, -9.288399696350098, -8.628800392150879, -8.740699768066406, -9.043299674987793, -8.86050033569336, -8.975600242614746, -9.364399909973145, -9.107099533081055, -9.002400398254395, -9.298100471496582, -9.22599983215332, -9.377400398254395, -9.442000389099121, -8.91349983215332, -9.030200004577637, -9.097000122070312, -9.192099571228027, -9.234600067138672, -9.449700355529785, -9.492300033569336, -9.232099533081055, -9.203100204467773, -9.4931001663208, -9.560199737548828, -9.592900276184082, -9.153900146484375, -9.547599792480469, -9.624600410461426, -9.662099838256836, -9.667099952697754, -9.463899612426758, -9.68690013885498, -9.71399974822998, -9.695599555969238, -9.743599891662598, -9.782099723815918, -9.799099922180176, -9.833700180053711, -9.814900398254395, -8.84179973602295, -9.824199676513672, -9.682900428771973, -9.878600120544434, -9.558799743652344, -9.58590030670166, -8.984000205993652, -9.489700317382812, -9.218299865722656, -9.638199806213379, -9.424799919128418, -9.471500396728516, -9.51550006866455, -9.632599830627441, -8.1358003616333, -8.474300384521484, -9.007399559020996, -8.709099769592285, -9.181300163269043, -9.312000274658203, -9.265199661254883, -9.344900131225586, -9.38029956817627, -9.338199615478516, -9.48289966583252, -9.1225004196167, -9.642999649047852, -9.54319953918457, -9.568400382995605, -9.592100143432617, -9.739899635314941, -9.746700286865234, -9.741399765014648, -9.765399932861328, -8.736499786376953, -9.799699783325195, -9.763299942016602, -9.645400047302246, -9.799500465393066, -8.689399719238281, -9.890000343322754, -9.875200271606445, -9.631199836730957, -9.904899597167969, -8.874099731445312, -9.00220012664795, -9.41349983215332, -9.027299880981445, -9.318900108337402, -9.428500175476074, -9.538399696350098, -9.014399528503418, -9.464900016784668, -8.851400375366211, -8.947400093078613, -8.825300216674805, -8.687999725341797, -9.433199882507324, -9.201499938964844, -9.11520004272461, -9.254599571228027, -9.190799713134766, -9.297300338745117, -9.353400230407715, -8.871999740600586, -9.112899780273438, -9.238300323486328, -9.304200172424316, -9.30150032043457, -9.421600341796875, -9.45460033416748, -9.479399681091309, -9.528599739074707, -9.574899673461914, -9.414899826049805, -9.442500114440918, -9.660599708557129, -9.6766996383667, -9.649200439453125, -9.733200073242188, -9.695500373840332, -9.353400230407715, -9.703300476074219, -9.589799880981445, -9.829099655151367, -9.855400085449219, -9.88230037689209, -9.897899627685547, -9.83650016784668, -9.616900444030762, -9.86139965057373, -9.79580020904541, -9.855899810791016, -9.705400466918945, -9.749500274658203, -9.535499572753906, -9.084199905395508, -9.263299942016602, -9.580300331115723, -9.469300270080566, -9.650199890136719, -9.667400360107422, -9.682499885559082, -9.516500473022461, -9.629599571228027]}, \"token.table\": {\"Topic\": [1, 1, 1, 1, 1, 1, 1, 1, 2, 1, 1, 1, 1, 1, 1, 2, 1, 1, 1, 1, 1, 1, 1, 1, 1, 1, 1, 1, 1, 1, 1, 1, 1, 1, 1, 1, 1, 1, 1, 1, 1, 1, 1, 1, 1, 1, 1, 1, 1, 1, 1, 1, 1, 1, 1, 1, 1, 1, 1, 1, 1, 1, 1, 1, 1, 1, 1, 1, 1, 1, 1, 1, 2, 1, 1], \"Freq\": [1.1897375583648682, 0.865225076675415, 0.7051422595977783, 1.2530735731124878, 0.756148099899292, 0.8596781492233276, 1.2224277257919312, 0.5506024360656738, 0.5506024360656738, 0.9003066420555115, 1.0383296012878418, 0.9549625515937805, 0.8990340232849121, 1.2347534894943237, 0.5363467335700989, 0.5363467335700989, 1.0196712017059326, 0.8124129176139832, 0.9301046133041382, 1.5990511178970337, 0.7737292647361755, 1.2847391366958618, 0.8055807948112488, 0.6879165172576904, 0.7668746113777161, 1.1647484302520752, 0.7111537456512451, 0.9958024621009827, 0.7578524351119995, 1.7229509353637695, 0.7371983528137207, 0.8230262398719788, 0.7907088994979858, 0.8780103921890259, 0.8614195585250854, 0.6851598024368286, 0.8813737630844116, 0.8361047506332397, 1.2816238403320312, 1.1621533632278442, 1.0471806526184082, 0.7816110253334045, 0.8328729271888733, 1.0297235250473022, 1.0740071535110474, 0.97953861951828, 0.9314279556274414, 1.7475825548171997, 0.792030394077301, 1.3950506448745728, 1.139123797416687, 0.9295696020126343, 0.9405866861343384, 1.64118230342865, 0.8275461792945862, 1.0683722496032715, 0.750109851360321, 0.7139092087745667, 1.2057703733444214, 1.146515130996704, 0.8276073932647705, 1.0329798460006714, 1.70233952999115, 1.4983198642730713, 0.8120257258415222, 0.8142354488372803, 1.2766163349151611, 1.2334582805633545, 1.0911287069320679, 1.26600182056427, 1.510676622390747, 0.628449559211731, 0.3142247796058655, 1.8423779010772705, 1.7986068725585938], \"Term\": [\"actualidadrt\", \"actuariojlperez\", \"android\", \"apple\", \"argentina\", \"armadafanb\", \"aviacionfanb\", \"ceofanb\", \"ceofanb\", \"chile\", \"cient\\u00edficos\", \"crisis\", \"cuba\", \"ei\", \"ejercitofanb\", \"ejercitofanb\", \"esequibovzla\", \"espa\\u00f1a\", \"europa\", \"facebook\", \"fanb\", \"fil0s0fia\", \"francia\", \"frontera\", \"gesti\\u00f3n\", \"gnb\", \"gnboficial\", \"google\", \"grecia\", \"hispantv\", \"ir\\u00e1n\", \"isl\\u00e1mico\", \"jacquelinepsuv\", \"laiguanatv\", \"lorent\", \"mariacorinaya\", \"militares\", \"mosc\\u00fa\", \"muertos\", \"m\\u00e9xico\", \"nuclear\", \"obama\", \"onu\", \"opini\\u00f3n\", \"otan\", \"papa\", \"patriciadorta40\", \"poeticaacciones\", \"polic\\u00eda\", \"prensafanb\", \"putin\", \"rediandes\", \"redimain\", \"relajate\", \"rusa\", \"ruso\", \"rusos\", \"saleh\\u201d\", \"samsung\", \"saudita\", \"sebastianpinera\", \"siria\", \"stats\", \"tareckpsuv\", \"the\", \"tumbas\", \"turqu\\u00eda\", \"ucrania\", \"ue\", \"unfollowers\", \"violencia\", \"vladimirpadrino\", \"vladimirpadrino\", \"vzlaestudioonce\", \"you\"]}, \"R\": 30, \"lambda.step\": 0.01, \"plot.opts\": {\"xlab\": \"PC1\", \"ylab\": \"PC2\"}, \"topic.order\": [7, 9, 10, 6, 2, 8, 5, 3, 4, 1]};\n",
       "\n",
       "function LDAvis_load_lib(url, callback){\n",
       "  var s = document.createElement('script');\n",
       "  s.src = url;\n",
       "  s.async = true;\n",
       "  s.onreadystatechange = s.onload = callback;\n",
       "  s.onerror = function(){console.warn(\"failed to load library \" + url);};\n",
       "  document.getElementsByTagName(\"head\")[0].appendChild(s);\n",
       "}\n",
       "\n",
       "if(typeof(LDAvis) !== \"undefined\"){\n",
       "   // already loaded: just create the visualization\n",
       "   !function(LDAvis){\n",
       "       new LDAvis(\"#\" + \"ldavis_el6513967457968008301137930\", ldavis_el6513967457968008301137930_data);\n",
       "   }(LDAvis);\n",
       "}else if(typeof define === \"function\" && define.amd){\n",
       "   // require.js is available: use it to load d3/LDAvis\n",
       "   require.config({paths: {d3: \"https://cdnjs.cloudflare.com/ajax/libs/d3/3.5.5/d3.min\"}});\n",
       "   require([\"d3\"], function(d3){\n",
       "      window.d3 = d3;\n",
       "      LDAvis_load_lib(\"https://cdn.rawgit.com/bmabey/pyLDAvis/files/ldavis.v1.0.0.js\", function(){\n",
       "        new LDAvis(\"#\" + \"ldavis_el6513967457968008301137930\", ldavis_el6513967457968008301137930_data);\n",
       "      });\n",
       "    });\n",
       "}else{\n",
       "    // require.js not available: dynamically load d3 & LDAvis\n",
       "    LDAvis_load_lib(\"https://cdnjs.cloudflare.com/ajax/libs/d3/3.5.5/d3.min.js\", function(){\n",
       "         LDAvis_load_lib(\"https://cdn.rawgit.com/bmabey/pyLDAvis/files/ldavis.v1.0.0.js\", function(){\n",
       "                 new LDAvis(\"#\" + \"ldavis_el6513967457968008301137930\", ldavis_el6513967457968008301137930_data);\n",
       "            })\n",
       "         });\n",
       "}\n",
       "</script>"
      ],
      "text/plain": [
       "<IPython.core.display.HTML object>"
      ]
     },
     "execution_count": 356,
     "metadata": {},
     "output_type": "execute_result"
    }
   ],
   "source": [
    "tw_data =  pyLDAvis.gensim.prepare(lda_model_tfidf, corpus_tfidf, dictionary)\n",
    "pyLDAvis.display(tw_data)"
   ]
  },
  {
   "cell_type": "code",
   "execution_count": null,
   "metadata": {},
   "outputs": [],
   "source": []
  }
 ],
 "metadata": {
  "kernelspec": {
   "display_name": "Python 3",
   "language": "python",
   "name": "python3"
  },
  "language_info": {
   "codemirror_mode": {
    "name": "ipython",
    "version": 3
   },
   "file_extension": ".py",
   "mimetype": "text/x-python",
   "name": "python",
   "nbconvert_exporter": "python",
   "pygments_lexer": "ipython3",
   "version": "3.6.8"
  }
 },
 "nbformat": 4,
 "nbformat_minor": 2
}
